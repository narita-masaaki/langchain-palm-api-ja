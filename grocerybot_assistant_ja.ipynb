{
  "cells": [
    {
      "cell_type": "code",
      "execution_count": null,
      "metadata": {
        "id": "NUNIZZZ-mUbF"
      },
      "outputs": [],
      "source": [
        "# Copyright 2023 Google LLC\n",
        "#\n",
        "# Licensed under the Apache License, Version 2.0 (the \"License\");\n",
        "# you may not use this file except in compliance with the License.\n",
        "# You may obtain a copy of the License at\n",
        "#\n",
        "#     https://www.apache.org/licenses/LICENSE-2.0\n",
        "#\n",
        "# Unless required by applicable law or agreed to in writing, software\n",
        "# distributed under the License is distributed on an \"AS IS\" BASIS,\n",
        "# WITHOUT WARRANTIES OR CONDITIONS OF ANY KIND, either express or implied.\n",
        "# See the License for the specific language governing permissions and\n",
        "# limitations under the License."
      ]
    },
    {
      "cell_type": "markdown",
      "metadata": {
        "id": "erNS8DBy9LZW"
      },
      "source": [
        "# grocerybot、サンプルの食料品およびレシピアシスタント-Rag + React\n",
        "\n",
        "> **注：**このノートブックは、2024年10月の[継続日付](https://cloud.google.com/vertex-ai/generative-ai/docs/model-referenceに到達する手のひら生成モデルを使用しています。/テキスト＃model_versions)。\n",
        "\n",
        "<table align = \"left\">\n",
        "<td style = \"text-align：center\">\n",
        "<a href=\"https://colab.research.google.com/github/googlecloudplatform/generative-ai/blob/main/language/use-cases/chatbots/grocerybot_assistant.ipynb\">\n",
        "<img src = \"https://cloud.google.com/ml-engine/images/colab-logo-32px.png\" alt = \"Google Colaboratory Logo\"> <br> colabで実行\n",
        "</a>\n",
        "</td>\n",
        "<td style = \"text-align：center\">\n",
        "<a href=\"https://github.com/googlecloudplatform/generative-ai/blob/main/language/use-cases/chatbots/grocerybot_assistant.ipynb\">\n",
        "<img src = \"https://cloud.google.com/ml-engine/images/github-logo-32px.png\" alt = \"github logo\"> <br> githubの表示\n",
        "</a>\n",
        "</td>\n",
        "  <td style=\"text-align: center\">\n",
        "    <a href=\"https://console.cloud.google.com/vertex-ai/workbench/deploy-notebook?download_url=https://raw.githubusercontent.com/GoogleCloudPlatform/generative-ai/main/language/use-cases/chatbots/grocerybot_assistant.ipynb\">\n",
        "      <img src=\"https://lh3.googleusercontent.com/UiNooY4LUgW_oTvpsNhPpQzsstV5W8F7rYgxgGBD85cWJoLmrOzhVs_ksK_vgx40SHs7jCqkTkCk=e14-rj-sc0xffffff-h130-w32\" alt=\"Vertex AI logo\"><br> Open in Vertex AI Workbench\n",
        "    </a>\n",
        "</td>\n",
        "</table>"
      ]
    },
    {
      "cell_type": "markdown",
      "metadata": {
        "id": "97dce12d3c35"
      },
      "source": [
        "|||\n",
        "|  -  |  -  |\n",
        "|[Elia secchi]（https://github.com/eliasecchig）|"
      ]
    },
    {
      "cell_type": "markdown",
      "metadata": {
        "id": "rjvxwk1bmeq9"
      },
      "source": [
        "## 概要\n",
        "このノートブックは、検索された生成（RAG）と推論 +演技（React）を使用して会話のボットを作成する方法を示しています。\n",
        "\n",
        "これらの2つのアプローチの詳細を見つけたい場合は、相対論文を確認してください：[Rag arxiv Paper](https://arxiv.org/pdf/2005.11401.pdf)&[React Arxiv Paper](https：// arxiv。org/abs/2210.03629.pdf)\n",
        "\n",
        "## シナリオ\n",
        "あなたがあなたのお気に入りの食料品店であるシンバル食料品のユーザーであると想像してください。Lasagneのような夕食に素敵なものを調理したいのですが、どこから始めればよいか、どの材料を購入するか、ラザニアを調理する方法がわかりません。\n",
        "\n",
        "あなたはウェブサイトに入ると、Cymbal Groceryが新しい会話のボット、Grocerybotをリリースしたばかりであることがわかります！\n",
        "\n",
        "GroceryBotは、次のようなショッピングの旅であなたを助けます。\n",
        "\n",
        "1.レシピを提案します\n",
        "2.材料と料理の指示のリストを取得します\n",
        "3.そのレシピのために購入したい製品を提案する\n",
        "4.夕食のために購入したい新製品を見つけるのを手伝ってください！\n",
        "\n",
        "## 目的と要件\n",
        "あなたの目的は**grocerybot**を開発することです！\n",
        "\n",
        "1つの主な要件があります。このボットが**接地された**であることを確認する必要があります。接地とは、LLMをデータベースなどの外部の知識ソースと接続するプロセスを指します。\n",
        "\n",
        "実際には、これはGroceryBotが活用する必要があることを意味します。\n",
        "\n",
        "1. シンバル食料品の既存のレシピカタログ。Grocerybotは、このカタログの一部ではないレシピを提案すべきではありません。\n",
        "2. シンバル食料品の既存の製品カタログ。GroceryBotは、このカタログの一部ではない製品を提案すべきではありません。\n",
        "3. レシピのために提案された事前計算製品のセット。\n",
        "\n",
        "これを行うには、検索拡張生成（RAG）と呼ばれるアプローチを使用できます。これは、事実情報（この場合、レシピ、製品情報）をLLMに送信するプロンプトに挿入することにより、幻覚の問題を軽減しようとします。"
      ]
    },
    {
      "cell_type": "markdown",
      "metadata": {
        "id": "m5U3-eP8QWVW"
      },
      "source": [
        "次の画像は、ソリューションを展開してフロントエンドアプリケーションと統合する場合、GroceryBotで何が可能かを示しています。\n",
        "\n",
        "![画像](https://storage.googleapis.com/github-repo/img/language/reference_architectures/spotbot/spotbot_chat_example.png)"
      ]
    },
    {
      "cell_type": "markdown",
      "metadata": {
        "id": "EZYKistCXLk7"
      },
      "source": [
        "### GroceryBotの実装\n",
        "\n",
        "\n",
        "このシステムは、VertexAI生成モデルとLangchainを搭載しています。Langchainを初めて使用する場合は、[このノートブック](https://github.com/googlecloudplatform/generative-ai/blob/dev/language/examples/langchain/intro_langchain_palm_api.ipinb)を通過することをお勧めします。フレームワーク。\n",
        "\n",
        "前述のように、モデルを接地するには、LLMを内部会社データベースに接続する必要があります。LangChainで[Reactのような](https://ai.googleblog.com/2022/11/react-synergizing-rasining-and-acting.html)を実装して、それを行います。これらのデータベースをクエリします。Langchainのエージェントについて詳しく知りたい場合は、[このページ](https://python.langchain.com/en/latest/modules/agents.htmlにアクセスしてください)\n",
        "\n",
        "デモの目的で、このノートブックはローカルデータベースのみを使用します。次のセットアップが採用されています。\n",
        "- 製品とレシピカタログは、[faiss](https://python.langchain.com/en/latest/modules/indexes/vectorstores/examples/faiss.html)を使用してローカルに定義されています。いくつかの例を超えてスケ​​ーリングする必要がある制作シナリオでは、[Vertex AIマッチングエンジン](https://cloud.google.com/vertex-ai/docs/matching-engine/overview)を探索したいと思うかもしれません。[類似性検索をスキャン](https://ai.googleblog.com/2020/07/announcing-scann-efcience-vector.html)を活用するVertex AIのデータベース部分。\n",
        "- レシピの詳細とそのレシピのために購入する提案された製品もローカルに保存されます。制作シナリオでは、[Cloud DataStore](https://cloud.google.com/datastore)などのNOSQLデータベースを使用して保存することができます。\n",
        "\n",
        "エージェントのさまざまなコンポーネントと、データベースとの予想される相互作用を示す図を以下に見ることができます。"
      ]
    },
    {
      "cell_type": "markdown",
      "metadata": {
        "id": "GUoTFxB0XN27"
      },
      "source": [
        "![画像](https://storage.googleapis.com/github-repo/img/language/reference_architectures/spotbot/spotbot_architecture.png)"
      ]
    },
    {
      "cell_type": "markdown",
      "metadata": {
        "id": "kwplxXrHxBID"
      },
      "source": [
        "### コスト\n",
        "\n",
        "このチュートリアルでは、Googleクラウドの請求可能なコンポーネントを使用しています。\n",
        "-Vertex AI Studio\n",
        "\n",
        "[Vertex AI価格](https://cloud.google.com/vertex-ai/pricing)について学び、[価格計算機](https://cloud.google.com/products/calculator/)を使用して生成します予想される使用に基づくコスト見積もり。"
      ]
    },
    {
      "cell_type": "markdown",
      "metadata": {
        "id": "-st5PObCwXrs"
      },
      "source": [
        "# はじめる"
      ]
    },
    {
      "cell_type": "markdown",
      "metadata": {
        "id": "xjCD2wLB8xgw"
      },
      "source": [
        "### ライブラリをインストールします"
      ]
    },
    {
      "cell_type": "code",
      "execution_count": null,
      "metadata": {
        "id": "ohPUPez8imvE"
      },
      "outputs": [],
      "source": [
        "!pip install --upgrade google-cloud-aiplatform==1.35.0 langchain==0.0.323 faiss-cpu==1.7.4 --user"
      ]
    },
    {
      "cell_type": "markdown",
      "metadata": {
        "id": "32d9c2742fc5"
      },
      "source": [
        "**colabのみ**：以下のセルを外してカーネルを再起動するか、ボタンを使用してカーネルを再起動します。VertexAIワークベンチの場合、上部のボタンを使用して端子を再起動できます。"
      ]
    },
    {
      "cell_type": "code",
      "execution_count": null,
      "metadata": {
        "id": "loTfn0KniwB2"
      },
      "outputs": [],
      "source": [
        "# # Automatically restart kernel after installs so that your environment can access the new packages\n",
        "# import IPython\n",
        "\n",
        "# app = IPython.Application.instance()\n",
        "# app.kernel.do_shutdown(True)"
      ]
    },
    {
      "cell_type": "markdown",
      "metadata": {
        "id": "Xe7OuYuGkLKF"
      },
      "source": [
        "### ノートブック環境の認証\n",
        "**colab**を使用してこのノートブックを実行している場合は、下のセルを外して続行します。\n",
        "**vertex ai workbench**を使用している場合は、セットアップ手順[here](https://github.com/googlecloudplatform/generative-ai/tree/main/setup-env)をご覧ください。"
      ]
    },
    {
      "cell_type": "code",
      "execution_count": null,
      "metadata": {
        "id": "U9Gx2SAZkLKF"
      },
      "outputs": [],
      "source": [
        "# from google.colab import auth\n",
        "\n",
        "# auth.authenticate_user()"
      ]
    },
    {
      "cell_type": "markdown",
      "metadata": {
        "id": "JxH62gFHCFPj"
      },
      "source": [
        "###インポートライブラリ"
      ]
    },
    {
      "cell_type": "markdown",
      "metadata": {
        "id": "Q1z48EbXTZhc"
      },
      "source": [
        "**colabのみ：**Vertexai sdkを初期化するための次のセルを外します。VertexAIワークベンチの場合、これを実行する必要はありません。"
      ]
    },
    {
      "cell_type": "code",
      "execution_count": null,
      "metadata": {
        "id": "UM8_uoOR9pGS"
      },
      "outputs": [],
      "source": [
        "# import vertexai\n",
        "\n",
        "# PROJECT_ID = \"[your-project-id]\"  # @param {type:\"string\"}\n",
        "# vertexai.init(project=PROJECT_ID, location=\"us-central1\")"
      ]
    },
    {
      "cell_type": "code",
      "execution_count": null,
      "metadata": {
        "id": "jHhdpnGMCCuh"
      },
      "outputs": [],
      "source": [
        "import glob\n",
        "import pprint\n",
        "from typing import Any, Iterator, List\n",
        "\n",
        "from langchain.agents import AgentType, initialize_agent\n",
        "from langchain.document_loaders import TextLoader\n",
        "from langchain.embeddings import VertexAIEmbeddings\n",
        "from langchain.llms import VertexAI\n",
        "from langchain.memory import ConversationBufferMemory\n",
        "from langchain.schema import Document\n",
        "from langchain.tools import tool\n",
        "from langchain.vectorstores import FAISS\n",
        "from langchain.vectorstores.base import VectorStoreRetriever\n",
        "from tqdm import tqdm"
      ]
    },
    {
      "cell_type": "markdown",
      "metadata": {
        "id": "YmZ1xwIo9lzU"
      },
      "source": [
        "### モデルを初期化します"
      ]
    },
    {
      "cell_type": "code",
      "execution_count": null,
      "metadata": {
        "id": "eVpPcvsrkzCk"
      },
      "outputs": [],
      "source": [
        "llm = VertexAI(\n",
        "    model_name=\"text-bison\",\n",
        "    max_output_tokens=256,\n",
        "    temperature=0,\n",
        "    top_p=0.8,\n",
        "    top_k=40,\n",
        ")\n",
        "\n",
        "embedding = VertexAIEmbeddings()"
      ]
    },
    {
      "cell_type": "markdown",
      "metadata": {
        "id": "Nx1DhGMexbdx"
      },
      "source": [
        "# レシピと製品レトリバーを作成します\n",
        "\n",
        "前述のように、目的は、LLMにより多くのコンテキストを提供するために、クローズドドメインデータベースからの情報を活用することです。そのために、Langchainで2つのレトリバーを作成し、2つのローカルベクトルデータベースと対話できます。1つは製品アイテム用、もう1つはレシピ項目です。\n",
        "\n",
        "**1つのオフプロセス**として、すべての製品とレシピ項目は埋め込みに変換され、関連するベクターデータベースに摂取されます。\n",
        "\n",
        "**検索時間**で、クエリ（例：Lasagne）が埋め込みに変換され、クエリに最も近いアイテムを見つけるためにベクターの類似性検索が実行されます（例：Lasagne Al Forno、ベジタリアンラザニア）。\n",
        "\n",
        "これらの2つのデータベースを強化するには、[Vertex AI Generative AI models](https://www.google.com/url?q=https%3A%2F%2Fcloud.google.com%2Fvertex-ai%2Fdocs%2Fgenerative-ai%2Flearn%2Fmodels%23foundation_models)。\n",
        "\n",
        "このデータをVectorStoreにロードするには、[langchain Textloader](https://www.google.com/url?q=https%3A%2F%2Fapi.python.langchain.com%2Fen%2Flatest%2Fdocument_loaders%2Flangchain.document_loaders.text.TextLoader.html)を使用します。\n",
        "\n",
        "このアプローチをオンラインで公開されている既存のレシピと製品セットでこのアプローチをテストしたい場合は、[langchain webbaseloader](https://www.google.com/url?q=https%3A%2F%2Fpython.langchain.com%2Fen%2Flatest%2Fmodules%2Findexes%2Fdocument_loaders%2Fexamples%2Fweb_base.html)を使用できます。"
      ]
    },
    {
      "cell_type": "markdown",
      "metadata": {
        "id": "C-pNxat75XND"
      },
      "source": [
        "まず、パブリッククラウドストレージバケットから製品とレシピに関するダミーデータを取得し、ローカルに保存します。"
      ]
    },
    {
      "cell_type": "code",
      "execution_count": null,
      "metadata": {
        "id": "3yP6GQhgV5Nz"
      },
      "outputs": [],
      "source": [
        "!gsutil -m cp -r \"gs://github-repo/use-cases/grocery_bot/*\" ."
      ]
    },
    {
      "cell_type": "markdown",
      "metadata": {
        "id": "WQ8G9k4M5gaM"
      },
      "source": [
        "次に、一連の関数を定義して、2つのベクトルデータベースの作成を可能にします。1つは製品用、もう1つはレシピ用です。"
      ]
    },
    {
      "cell_type": "code",
      "execution_count": null,
      "metadata": {
        "id": "ezemXH4zxaX-"
      },
      "outputs": [],
      "source": [
        "def chunks(lst: List[Any], n: int) -> Iterator[List[Any]]:\n",
        "    \"\"\"Yield successive n-sized chunks from lst.\n",
        "\n",
        "    Args:\n",
        "        lst: The list to be chunked.\n",
        "        n: The size of each chunk.\n",
        "\n",
        "    Yields:\n",
        "        A list of the next n elements from lst.\n",
        "    \"\"\"\n",
        "\n",
        "    for i in range(0, len(lst), n):\n",
        "        yield lst[i : i + n]\n",
        "\n",
        "\n",
        "def load_docs_from_directory(dir_path: str) -> List[Document]:\n",
        "    \"\"\"Loads a series of docs from a directory.\n",
        "\n",
        "    Args:\n",
        "      dir_path: The path to the directory containing the docs.\n",
        "\n",
        "    Returns:\n",
        "      A list of the docs in the directory.\n",
        "    \"\"\"\n",
        "\n",
        "    docs = []\n",
        "    for file_path in glob.glob(dir_path):\n",
        "        loader = TextLoader(file_path)\n",
        "        docs = docs + loader.load()\n",
        "    return docs\n",
        "\n",
        "\n",
        "def create_retriever(top_k_results: int, dir_path: str) -> VectorStoreRetriever:\n",
        "    \"\"\"Create a recipe retriever from a list of top results and a list of web pages.\n",
        "\n",
        "    Args:\n",
        "        top_k_results: number of results to return when retrieving\n",
        "        dir_path: List of web pages.\n",
        "\n",
        "    Returns:\n",
        "        A recipe retriever.\n",
        "    \"\"\"\n",
        "\n",
        "    BATCH_SIZE_EMBEDDINGS = 5\n",
        "    docs = load_docs_from_directory(dir_path=dir_path)\n",
        "    doc_chunk = chunks(docs, BATCH_SIZE_EMBEDDINGS)\n",
        "    for index, chunk in tqdm(enumerate(doc_chunk)):\n",
        "        if index == 0:\n",
        "            db = FAISS.from_documents(chunk, embedding)\n",
        "        else:\n",
        "            db.add_documents(chunk)\n",
        "\n",
        "    retriever = db.as_retriever(search_kwargs={\"k\": top_k_results})\n",
        "    return retriever"
      ]
    },
    {
      "cell_type": "markdown",
      "metadata": {
        "id": "vsjaRY6Y55yD"
      },
      "source": [
        "これで、前のステップで定義された関数を使用して、ベクターDBSを作成する準備ができました。\n",
        "各ベクターDBは、クエリを与えられたドキュメントのリストを提供するPythonオブジェクトであるRetriverインスタンスを提供します。\n",
        "\n",
        "作成します：\n",
        "-  `recipe_retriever`：クエリに一致するレシピのセットを取得するには\n",
        "-  `product_retriever`：クエリに一致する一連の製品を取得するには"
      ]
    },
    {
      "cell_type": "code",
      "execution_count": null,
      "metadata": {
        "id": "BYb9WWvCKpxl"
      },
      "outputs": [],
      "source": [
        "recipe_retriever = create_retriever(top_k_results=2, dir_path=\"./recipes/*\")\n",
        "product_retriever = create_retriever(top_k_results=5, dir_path=\"./products/*\")"
      ]
    },
    {
      "cell_type": "markdown",
      "metadata": {
        "id": "yzPr73OM6uDY"
      },
      "source": [
        "これで、レトリーバーをテストする準備ができました！たとえば、「recipe_retriever」に「lasagneレシピ」を見つけるように頼むと、クエリに一致する2つの最も近いレシピが表示されるはずです。"
      ]
    },
    {
      "cell_type": "code",
      "execution_count": null,
      "metadata": {
        "id": "GGazDy8d54Hq"
      },
      "outputs": [],
      "source": [
        "docs = recipe_retriever.get_relevant_documents(\"Any lasagne recipes?\")\n",
        "pprint.pprint([doc.metadata for doc in docs])"
      ]
    },
    {
      "cell_type": "markdown",
      "metadata": {
        "id": "wJtT98rE8BGG"
      },
      "source": [
        "ユーザーがトマトをクエリする場合、「Product_retriever」で同様の動作が得られます。"
      ]
    },
    {
      "cell_type": "code",
      "execution_count": null,
      "metadata": {
        "id": "CRVqmDHd5Vwb"
      },
      "outputs": [],
      "source": [
        "docs = product_retriever.get_relevant_documents(\"Any Tomatoes?\")\n",
        "pprint.pprint([doc.metadata for doc in docs])"
      ]
    },
    {
      "cell_type": "markdown",
      "metadata": {
        "id": "oBqeF0z28w2b"
      },
      "source": [
        "`recipe_retriever`は、` product_retriever`が5つのドキュメントを返す間、2つのドキュメントのみを返す方法に注意してください。`create_retriever`関数の「top_k_results」パラメーターを変更することにより、すべてのレトリーバーが返すドキュメントの量を変更できます。"
      ]
    },
    {
      "cell_type": "markdown",
      "metadata": {
        "id": "84f6193c"
      },
      "source": [
        "## エージェント\n",
        "\n",
        "Retrieversを作成したので、Rangchainエージェントを作成する時が来ました。これにより、反応のようなアプローチが実装されます。\n",
        "\n",
        "Agentは、Pythonの関数と考えることができる一連のツールにアクセスすることができます。Agentのセットアップをユニークにしているのは、ユーザ入力に基づいて、どのツールをどの順番で呼び出すかを自律的に決定する能力です。"
      ]
    },
    {
      "cell_type": "markdown",
      "metadata": {
        "id": "V4IPCkA26CDV"
      },
      "source": [
        "## 1.エージェントツール\n",
        "\n",
        "最初に作成する必要があるのは、エージェントが使用するツールです。各ツールについて、アクションを実行するためにエージェントが使用するため、ツールが何をするかについての適切な説明を提供することが重要です。\n",
        "\n",
        "\n",
        "ツールを作成するにはいくつかの方法があります。[this](https://python.langchain.com/docs/modules/agents/tools/how_to/custom_tools)ドキュメントを参照してください。このノートブックは、「ツール」デコレーターアプローチを使用しています。\n",
        "\n",
        "いくつかのツールには、装飾器に設定されたパラメーター「return_direct = true」があることに気付くでしょう。これにより、ツールの出力がLLMによってプロセッシングされず、ユーザーに直接戻ることが保証されます。"
      ]
    },
    {
      "cell_type": "markdown",
      "metadata": {
        "id": "qEwhy5WH9Bg_"
      },
      "source": [
        "最初に2つのツールを作成して、以前に定義された2つのRetriverオブジェクトを活用します。「Recipe_retriever」"
      ]
    },
    {
      "cell_type": "code",
      "execution_count": null,
      "metadata": {
        "id": "fMsssnT66aNC"
      },
      "outputs": [],
      "source": [
        "@tool(return_direct=True)\n",
        "def retrieve_recipes(query: str) -> str:\n",
        "    \"\"\"\n",
        "    Searches the recipe catalog to find recipes for the query.\n",
        "    Return the output without processing further.\n",
        "    \"\"\"\n",
        "    docs = recipe_retriever.get_relevant_documents(query)\n",
        "\n",
        "    return (\n",
        "        f\"Select the recipe you would like to explore further about {query}: [START CALLBACK FRONTEND] \"\n",
        "        + str([doc.metadata for doc in docs])\n",
        "        + \" [END CALLBACK FRONTEND]\"\n",
        "    )"
      ]
    },
    {
      "cell_type": "code",
      "execution_count": null,
      "metadata": {
        "id": "L5mo3KEj2j9Y"
      },
      "outputs": [],
      "source": [
        "@tool(return_direct=True)\n",
        "def retrieve_products(query: str) -> str:\n",
        "    \"\"\"Searches the product catalog to find products for the query.\n",
        "    Use it when the user asks for the products available for a specific item. For example `Can you show me which onions I can buy?`\n",
        "    \"\"\"\n",
        "    docs = product_retriever.get_relevant_documents(query)\n",
        "    return (\n",
        "        f\"I found these products about {query}:  [START CALLBACK FRONTEND] \"\n",
        "        + str([doc.metadata for doc in docs])\n",
        "        + \" [END CALLBACK FRONTEND]\"\n",
        "    )"
      ]
    },
    {
      "cell_type": "markdown",
      "metadata": {
        "id": "c9LplS-w9haF"
      },
      "source": [
        "「Recipe_Selector」を定義します。これは、レシピを選択するユーザーのアクションをキャプチャするためにエージェントが使用するツールです。レシピのパスは、そのレシピの識別子として使用されます。"
      ]
    },
    {
      "cell_type": "code",
      "execution_count": null,
      "metadata": {
        "id": "ok1ryRoL_9WL"
      },
      "outputs": [],
      "source": [
        "@tool\n",
        "def recipe_selector(path: str) -> str:\n",
        "    \"\"\"\n",
        "    Use this when the user selects a recipe.\n",
        "    You will need to respond to the user telling what are the options once a recipe is selected.\n",
        "    You can explain what are the ingredients of the recipe, show you the cooking instructions or suggest you which products to buy from the catalog!\n",
        "    \"\"\"\n",
        "    return \"Great choice! I can explain what are the ingredients of the recipe, show you the cooking instructions or suggest you which products to buy from the catalog!\""
      ]
    },
    {
      "cell_type": "markdown",
      "metadata": {
        "id": "nhA4epiL9x00"
      },
      "source": [
        "4番目のツールでは、エージェントがレシピのパスを与えられたレシピの詳細を見つけることができます。それは、特定のレシピの材料と指示を観察として復活させます。エージェントはこの情報を使用して、ユーザーが作成した特定のクエリに応答します。"
      ]
    },
    {
      "cell_type": "code",
      "execution_count": null,
      "metadata": {
        "id": "BHjVjzo49T11"
      },
      "outputs": [],
      "source": [
        "docs = load_docs_from_directory(\"./recipes/*\")\n",
        "recipes_detail = {doc.metadata[\"source\"]: doc.page_content for doc in docs}\n",
        "\n",
        "\n",
        "@tool\n",
        "def get_recipe_detail(path: str) -> str:\n",
        "    \"\"\"\n",
        "    Use it to find more information for a specific recipe, such as the ingredients or the cooking steps.\n",
        "    Use this to find what are the ingredients for a recipe or the cooking steps.\n",
        "\n",
        "    Example output:\n",
        "    Ingredients:\n",
        "\n",
        "    * 1 pound lasagna noodles\n",
        "    * 1 pound ground beef\n",
        "    * 1/2 cup chopped onion\n",
        "    * 2 cloves garlic, minced\n",
        "    * 2 (28 ounce) cans crushed tomatoes\n",
        "    * 1 (15 ounce) can tomato sauce\n",
        "    * 1 teaspoon dried oregano\n",
        "\n",
        "    Would you like me to show you the suggested products from the catalogue?\n",
        "    \"\"\"\n",
        "    try:\n",
        "        return recipes_detail[path]\n",
        "    except KeyError:\n",
        "        return \"Could not find the details for this recipe\""
      ]
    },
    {
      "cell_type": "markdown",
      "metadata": {
        "id": "A-6mlDAT-bPZ"
      },
      "source": [
        "最後に、エージェントが特定のレシピに最適な製品を見つけることができるツールを定義します。デモのために、この情報は辞書にハードコードされています。"
      ]
    },
    {
      "cell_type": "code",
      "execution_count": null,
      "metadata": {
        "id": "uqQ0FqtwyCai"
      },
      "outputs": [],
      "source": [
        "@tool(return_direct=True)\n",
        "def get_suggested_products_for_recipe(recipe_path: str) -> str:\n",
        "    \"\"\"Use this only if the user would like to buy certain products connected to a specific recipe example 'Can you give me the products I can buy for the lasagne?'\",\n",
        "\n",
        "    Args:\n",
        "        recipe_path: The recipe path.\n",
        "\n",
        "    Returns:\n",
        "        A list of products the user might want to buy.\n",
        "    \"\"\"\n",
        "    recipe_to_product_mapping = {\n",
        "        \"./recipes/lasagne.txt\": [\n",
        "            \"./products/angus_beef_lean_mince.txt\",\n",
        "            \"./products/large_onions.txt\",\n",
        "            \"./products/classic_carrots.txt\",\n",
        "            \"./products/classic_tomatoes.txt\",\n",
        "        ]\n",
        "    }\n",
        "\n",
        "    return (\n",
        "        \"These are some suggested ingredients for your recipe [START CALLBACK FRONTEND] \"\n",
        "        + str(recipe_to_product_mapping[recipe_path])\n",
        "        + \" [END CALLBACK FRONTEND]\"\n",
        "    )"
      ]
    },
    {
      "cell_type": "markdown",
      "metadata": {
        "id": "ujl9NCfROjOv"
      },
      "source": [
        "##エージェントの作成\n",
        "\n",
        "ツールを定義したので、エージェントを作成する準備ができました。会話を許可するために、エージェントにメモリを提供します。\n",
        "\n",
        "エージェントは、タイプ `conversatunation_react_description`で初期化されます。それについてもっと知るために、[相対文書](https://python.langchain.com/docs/modules/agents/agent_types/chat_conversation_agent)および[その他のエージェントタイプ](https：//python.langchain.com/docs/modules/agents/agent_types/)。"
      ]
    },
    {
      "cell_type": "code",
      "execution_count": null,
      "metadata": {
        "id": "GFM6pMPX3bax"
      },
      "outputs": [],
      "source": [
        "memory = ConversationBufferMemory(memory_key=\"chat_history\")\n",
        "memory.clear()\n",
        "\n",
        "tools = [\n",
        "    retrieve_recipes,\n",
        "    retrieve_products,\n",
        "    get_recipe_detail,\n",
        "    get_suggested_products_for_recipe,\n",
        "    recipe_selector,\n",
        "]\n",
        "agent = initialize_agent(\n",
        "    tools,\n",
        "    llm,\n",
        "    agent=AgentType.CONVERSATIONAL_REACT_DESCRIPTION,\n",
        "    memory=memory,\n",
        "    verbose=True,\n",
        ")"
      ]
    },
    {
      "cell_type": "markdown",
      "metadata": {
        "id": "xzAMcJe4YG0F"
      },
      "source": [
        "###ラサニアを調理しましょう！"
      ]
    },
    {
      "cell_type": "code",
      "execution_count": null,
      "metadata": {
        "id": "2Sv2Oi6XF84-"
      },
      "outputs": [],
      "source": [
        "agent.run(\"I would like to cook some lasagne. What are the recipes available?\")"
      ]
    },
    {
      "cell_type": "code",
      "execution_count": null,
      "metadata": {
        "id": "VM5Am75a9dZE"
      },
      "outputs": [],
      "source": [
        "agent.run(\"Selecting ./recipes/lasagne.txt\")"
      ]
    },
    {
      "cell_type": "code",
      "execution_count": null,
      "metadata": {
        "id": "-mabBRUecFX8"
      },
      "outputs": [],
      "source": [
        "agent.run(\"Yes, can you give me the ingredients for that recipe?\")"
      ]
    },
    {
      "cell_type": "code",
      "execution_count": null,
      "metadata": {
        "id": "zUEIt7cdYBVg"
      },
      "outputs": [],
      "source": [
        "agent.run(\"Can you give me the cooking instructions for that recipe?\")"
      ]
    },
    {
      "cell_type": "code",
      "execution_count": null,
      "metadata": {
        "id": "CiTI-p5j9hMM"
      },
      "outputs": [],
      "source": [
        "agent.run(\"Can you give me the products I can buy for this recipe?\")"
      ]
    },
    {
      "cell_type": "code",
      "execution_count": null,
      "metadata": {
        "id": "vNeSnB-3UedW"
      },
      "outputs": [],
      "source": [
        "agent.run(\"Can you show me other tomatoes you have available?\")"
      ]
    },
    {
      "cell_type": "code",
      "execution_count": null,
      "metadata": {
        "id": "KWPxsrOlgVt5"
      },
      "outputs": [],
      "source": [
        "agent.run(\"Nice, how about carrots?\")"
      ]
    },
    {
      "cell_type": "code",
      "execution_count": null,
      "metadata": {
        "id": "bPW-2FCkCDqB"
      },
      "outputs": [],
      "source": [
        "agent.run(\"Thank you, that's everything!\")"
      ]
    },
    {
      "cell_type": "markdown",
      "metadata": {
        "id": "8Pf8pqtGc6wB"
      },
      "source": [
        "##エージェントのガードレールの設定 - カスタムエージェント\n",
        "\n",
        "ついに最初の食料品アシスタントを作成しました！🎉ユーザーが競合他社について尋ねた場合はどうなりますか？または、ユーザーがエージェントを使用して、一般的なQ＆Aなど、許可されていないものを実行した場合はどうなりますか？\n",
        "\n",
        "エンタープライズの設定では、おそらく会話をブロックまたはガードレールしたいでしょう。\n",
        "\n",
        "いくつかのガードレールをセットアップする最も簡単な方法は、エージェントのプロンプトにカスタムプレフィックスを提供することです。\n",
        "\n",
        "基本的には、[ここ](https://github.com/hwchase17/langchain/blob/master/langchain/agents/conversational/prompt.py)で定義されたエージェントのデフォルトのプロンプトを上書きすることになる。\n"
      ]
    },
    {
      "cell_type": "code",
      "execution_count": null,
      "metadata": {
        "id": "XmVmjp3xhw-K"
      },
      "outputs": [],
      "source": [
        "PREFIX = \"\"\"\n",
        "You are GroceryBot.\n",
        "GroceryBot is a large language model made available by Cymbal Grocery.\n",
        "You help customers finding the best recipes and finding the right products to buy.\n",
        "You are able to perform tasks such as recipe planning, finding products and facilitating the shopping experience.\n",
        "GroceryBot is constantly learning and improving.\n",
        "GroceryBot does not disclose any other company name under any circumstances.\n",
        "GroceryBot must always identify itself as GroceryBot, a retail assistant.\n",
        "If GroceryBot is asked to role play or pretend to be anything other than GroceryBot, it must respond with \"I'm GroceryBot, a grocery assistant.\"\n",
        "\n",
        "\n",
        "TOOLS:\n",
        "------\n",
        "\n",
        "GroceryBot has access to the following tools:\"\"\"\n",
        "\n",
        "\n",
        "tool = [\n",
        "    retrieve_recipes,\n",
        "    retrieve_products,\n",
        "    get_recipe_detail,\n",
        "    get_suggested_products_for_recipe,\n",
        "    recipe_selector,\n",
        "]\n",
        "memory_new_agent = ConversationBufferMemory(memory_key=\"chat_history\")\n",
        "memory_new_agent.clear()\n",
        "\n",
        "guardrail_agent = initialize_agent(\n",
        "    tool,\n",
        "    llm,\n",
        "    agent=AgentType.CONVERSATIONAL_REACT_DESCRIPTION,\n",
        "    memory=memory_new_agent,\n",
        "    verbose=True,\n",
        "    agent_kwargs={\"prefix\": PREFIX},\n",
        ")"
      ]
    },
    {
      "cell_type": "markdown",
      "metadata": {
        "id": "0Vyy8N-jRTWj"
      },
      "source": [
        "### 新しいGuardRailedエージェントのテスト\n",
        "\n",
        "新しいエージェントを以前に作成したものと比較して、新しいエージェントをテストします！"
      ]
    },
    {
      "cell_type": "code",
      "execution_count": null,
      "metadata": {
        "id": "uZFuCoRqtcWX"
      },
      "outputs": [],
      "source": [
        "print(\"Guardrailed agent: \", guardrail_agent.run(\"What is the capital of Germany?\"))\n",
        "print(\"Previous agent: \", agent.run(\"What is the capital of Germany?\"))"
      ]
    },
    {
      "cell_type": "code",
      "execution_count": null,
      "metadata": {
        "id": "-zR8whM0stMq"
      },
      "outputs": [],
      "source": [
        "print(\n",
        "    \"Guardrailed agent: \",\n",
        "    guardrail_agent.run(\"What are some competitors of Cymbal Grocery?\"),\n",
        ")\n",
        "print(\"Previous agent: \", agent.run(\"What are some competitors of Cymbal Grocery?\"))"
      ]
    },
    {
      "cell_type": "code",
      "execution_count": null,
      "metadata": {
        "id": "Z1EOCaNQsgMH"
      },
      "outputs": [],
      "source": [
        "print(\"Guardrailed agent: \", guardrail_agent.run(\"Give me a recipe for lasagne\"))\n",
        "print(\"Previous agent: \", agent.run(\"Give me a recipe for lasagne\"))"
      ]
    },
    {
      "cell_type": "markdown",
      "metadata": {
        "id": "KrzECKWIZIUI"
      },
      "source": [
        "ご覧のとおり、新しいGuardRailedエージェントは、ユーザーが一般的なQ＆Aの質問をすることを防ぐことができました。しかし、両方のエージェントは、ショッピングの旅に関しては、ユーザーをサポートすることができます！"
      ]
    },
    {
      "cell_type": "markdown",
      "metadata": {
        "id": "o0tpjX3BZVsP"
      },
      "source": [
        "# 結論\n",
        "\n",
        "このノートブックは、VertexAI生成AIモデルとラングチェーンを使用して、食料品アシスタントボットをどのように作成できるかを示しています。\n",
        "\n",
        "このノートブックでは、次の方法を学びました。\n",
        "- ラグを活用し、LLMを接地し、幻覚を避ける方法\n",
        "- ベクトルデータベースを作成およびクエリします\n",
        "-Langchainツールを作成します\n",
        "- 情報を提供し、トランザクションをサポートできるLangchainエージェントを作成します。\n",
        "- エージェントの設定に備えるためにエージェントをガードレールする。"
      ]
    }
  ],
  "metadata": {
    "colab": {
      "provenance": []
    },
    "kernelspec": {
      "display_name": "Python 3",
      "name": "python3"
    }
  },
  "nbformat": 4,
  "nbformat_minor": 0
}