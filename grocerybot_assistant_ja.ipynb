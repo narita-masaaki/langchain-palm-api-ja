{
  "cells": [
    {
      "cell_type": "code",
      "execution_count": null,
      "metadata": {
        "id": "NUNIZZZ-mUbF"
      },
      "outputs": [],
      "source": [
        "# Copyright 2023 Google LLC\n",
        "#\n",
        "# Licensed under the Apache License, Version 2.0 (the \"License\");\n",
        "# you may not use this file except in compliance with the License.\n",
        "# You may obtain a copy of the License at\n",
        "#\n",
        "#     https://www.apache.org/licenses/LICENSE-2.0\n",
        "#\n",
        "# Unless required by applicable law or agreed to in writing, software\n",
        "# distributed under the License is distributed on an \"AS IS\" BASIS,\n",
        "# WITHOUT WARRANTIES OR CONDITIONS OF ANY KIND, either express or implied.\n",
        "# See the License for the specific language governing permissions and\n",
        "# limitations under the License."
      ]
    },
    {
      "cell_type": "code",
      "source": [
        "# I have released a Japanese translation of the original repository.\n",
        "# Changes:\n",
        "# - Translated documentation into Japanese.\n",
        "# - Add the following comment\n",
        "#   Clear console output immediately after notebook open\n",
        "#   Restart kernel when installing libraries\n",
        "#\n",
        "# For more information, please visit:\n",
        "#\n",
        "#     https://github.com/narita-masaaki/langchain-palm-api-ja/tree/main\n",
        "#\n",
        "# Translator: Masaaki Narita"
      ],
      "metadata": {
        "id": "jaaA5-tBTXMw"
      },
      "execution_count": null,
      "outputs": []
    },
    {
      "cell_type": "markdown",
      "metadata": {
        "id": "erNS8DBy9LZW"
      },
      "source": [
        "# Grocerybot、サンプルの食料品およびレシピアシスタント-RAG + ReAct\n",
        "\n",
        "> **注：**このノートブックは、2024年10月の[継続日付](https://cloud.google.com/vertex-ai/generative-ai/docs/model-referenceに到達する手のひら生成モデルを使用しています。/テキスト＃model_versions)。\n",
        "\n",
        "<table align = \"left\">\n",
        "<td style = \"text-align：center\">\n",
        "<a href=\"https://colab.research.google.com/github/googlecloudplatform/generative-ai/blob/main/language/use-cases/chatbots/grocerybot_assistant.ipynb\">\n",
        "<img src = \"https://cloud.google.com/ml-engine/images/colab-logo-32px.png\" alt = \"Google Colaboratory Logo\"> <br> colabで実行\n",
        "</a>\n",
        "</td>\n",
        "<td style = \"text-align：center\">\n",
        "<a href=\"https://github.com/googlecloudplatform/generative-ai/blob/main/language/use-cases/chatbots/grocerybot_assistant.ipynb\">\n",
        "<img src = \"https://cloud.google.com/ml-engine/images/github-logo-32px.png\" alt = \"github logo\"> <br> githubの表示\n",
        "</a>\n",
        "</td>\n",
        "  <td style=\"text-align: center\">\n",
        "    <a href=\"https://console.cloud.google.com/vertex-ai/workbench/deploy-notebook?download_url=https://raw.githubusercontent.com/GoogleCloudPlatform/generative-ai/main/language/use-cases/chatbots/grocerybot_assistant.ipynb\">\n",
        "      <img src=\"https://lh3.googleusercontent.com/UiNooY4LUgW_oTvpsNhPpQzsstV5W8F7rYgxgGBD85cWJoLmrOzhVs_ksK_vgx40SHs7jCqkTkCk=e14-rj-sc0xffffff-h130-w32\" alt=\"Vertex AI logo\"><br> Open in Vertex AI Workbench\n",
        "    </a>\n",
        "</td>\n",
        "</table>"
      ]
    },
    {
      "cell_type": "markdown",
      "metadata": {
        "id": "97dce12d3c35"
      },
      "source": [
        "|||\n",
        "|  -  |  -  |\n",
        "|[Elia secchi](https://github.com/eliasecchig)|"
      ]
    },
    {
      "cell_type": "markdown",
      "metadata": {
        "id": "rjvxwk1bmeq9"
      },
      "source": [
        "## 概要\n",
        "このノートブックは、検索された生成（RAG）と推論 +演技（ReAct）を使用して会話のボットを作成する方法を示しています。\n",
        "\n",
        "これらの2つのアプローチの詳細を見つけたい場合は、相対論文を確認してください：[Rag arxiv Paper](https://arxiv.org/pdf/2005.11401.pdf)&[ReAct Arxiv Paper](https://www.google.com/url?q=https%3A%2F%2Farxiv.org%2Fabs%2F2210.03629.pdf)\n",
        "\n",
        "## シナリオ\n",
        "あなたがあなたのお気に入りの食料品店であるシンバル食料品のユーザーであると想像してください。Lasagneのような夕食に素敵なものを調理したいのですが、どこから始めればよいか、どの材料を購入するか、ラザニアを調理する方法がわかりません。\n",
        "\n",
        "あなたはウェブサイトに入ると、Cymbal Groceryが新しい会話のボット、Grocerybotをリリースしたばかりであることがわかります！\n",
        "\n",
        "GroceryBotは、次のようなショッピングの旅であなたを助けます。\n",
        "\n",
        "1. レシピを提案します\n",
        "2. 材料と料理の指示のリストを取得します\n",
        "3. そのレシピのために購入したい製品を提案する\n",
        "4. 夕食のために購入したい新製品を見つけるのを手伝ってください！\n",
        "\n",
        "## 目的と要件\n",
        "あなたの目的は**grocerybot**を開発することです！\n",
        "\n",
        "1つの主な要件があります。このボットが**接地された**であることを確認する必要があります。接地とは、LLMをデータベースなどの外部の知識ソースと接続するプロセスを指します。\n",
        "\n",
        "実際には、これはGroceryBotが活用する必要があることを意味します。\n",
        "\n",
        "1. シンバル食料品の既存のレシピカタログ。Grocerybotは、このカタログの一部ではないレシピを提案すべきではありません。\n",
        "2. シンバル食料品の既存の製品カタログ。GroceryBotは、このカタログの一部ではない製品を提案すべきではありません。\n",
        "3. レシピのために提案された事前計算製品のセット。\n",
        "\n",
        "これを行うには、検索拡張生成（RAG）と呼ばれるアプローチを使用できます。これは、事実情報（この場合、レシピ、製品情報）をLLMに送信するプロンプトに挿入することにより、幻覚の問題を軽減しようとします。"
      ]
    },
    {
      "cell_type": "markdown",
      "metadata": {
        "id": "m5U3-eP8QWVW"
      },
      "source": [
        "次の画像は、ソリューションを展開してフロントエンドアプリケーションと統合する場合、GroceryBotで何が可能かを示しています。\n",
        "\n",
        "![画像](https://storage.googleapis.com/github-repo/img/language/reference_architectures/spotbot/spotbot_chat_example.png)"
      ]
    },
    {
      "cell_type": "markdown",
      "metadata": {
        "id": "EZYKistCXLk7"
      },
      "source": [
        "### GroceryBotの実装\n",
        "\n",
        "\n",
        "このシステムは、VertexAI生成モデルとLangchainを搭載しています。Langchainを初めて使用する場合は、[このノートブック](https://github.com/googlecloudplatform/generative-ai/blob/dev/language/examples/langchain/intro_langchain_palm_api.ipinb)を通過することをお勧めします。フレームワーク。\n",
        "\n",
        "前述のように、モデルを接地するには、LLMを内部会社データベースに接続する必要があります。LangChainで[ReActのような](https://ai.googleblog.com/2022/11/react-synergizing-rasining-and-acting.html)を実装して、それを行います。これらのデータベースをクエリします。Langchainのエージェントについて詳しく知りたい場合は、[このページ](https://python.langchain.com/en/latest/modules/agents.htmlにアクセスしてください)\n",
        "\n",
        "デモの目的で、このノートブックはローカルデータベースのみを使用します。次のセットアップが採用されています。\n",
        "- 製品とレシピカタログは、[faiss](https://python.langchain.com/en/latest/modules/indexes/vectorstores/examples/faiss.html)を使用してローカルに定義されています。いくつかの例を超えてスケ​​ーリングする必要がある制作シナリオでは、[Vertex AIマッチングエンジン](https://cloud.google.com/vertex-ai/docs/matching-engine/overview)を探索したいと思うかもしれません。[類似性検索をスキャン](https://ai.googleblog.com/2020/07/announcing-scann-efcience-vector.html)を活用するVertex AIのデータベース部分。\n",
        "- レシピの詳細とそのレシピのために購入する提案された製品もローカルに保存されます。制作シナリオでは、[Cloud DataStore](https://cloud.google.com/datastore)などのNOSQLデータベースを使用して保存することができます。\n",
        "\n",
        "エージェントのさまざまなコンポーネントと、データベースとの予想される相互作用を示す図を以下に見ることができます。"
      ]
    },
    {
      "cell_type": "markdown",
      "metadata": {
        "id": "GUoTFxB0XN27"
      },
      "source": [
        "![画像](https://storage.googleapis.com/github-repo/img/language/reference_architectures/spotbot/spotbot_architecture.png)"
      ]
    },
    {
      "cell_type": "markdown",
      "metadata": {
        "id": "kwplxXrHxBID"
      },
      "source": [
        "### コスト\n",
        "\n",
        "このチュートリアルでは、Googleクラウドの請求可能なコンポーネントを使用しています。\n",
        "-Vertex AI Studio\n",
        "\n",
        "[Vertex AI価格](https://cloud.google.com/vertex-ai/pricing)について学び、[価格計算機](https://cloud.google.com/products/calculator/)を使用して生成します予想される使用に基づくコスト見積もり。"
      ]
    },
    {
      "cell_type": "markdown",
      "metadata": {
        "id": "-st5PObCwXrs"
      },
      "source": [
        "# はじめる"
      ]
    },
    {
      "cell_type": "markdown",
      "source": [
        "### **コンソール出力結果クリア**\n",
        "コード実行前に、コンソール出力結果をクリアします。\n",
        "\n",
        "- **ワークベンチ**の場合、[Edit]メニューの[Clear All Outputs]を実行\n",
        "\n",
        "- **colab**の場合、[編集]メニューの[出力を全て消去]を実行"
      ],
      "metadata": {
        "id": "Q2eKXrx2BtDW"
      }
    },
    {
      "cell_type": "markdown",
      "metadata": {
        "id": "xjCD2wLB8xgw"
      },
      "source": [
        "### ライブラリをインストールします"
      ]
    },
    {
      "cell_type": "code",
      "execution_count": null,
      "metadata": {
        "id": "ohPUPez8imvE",
        "outputId": "be592f90-46bf-4a27-9b34-51d215b2c20a",
        "tags": []
      },
      "outputs": [
        {
          "name": "stdout",
          "output_type": "stream",
          "text": [
            "Collecting google-cloud-aiplatform==1.35.0\n",
            "  Downloading google_cloud_aiplatform-1.35.0-py2.py3-none-any.whl.metadata (27 kB)\n",
            "Collecting langchain==0.0.323\n",
            "  Downloading langchain-0.0.323-py3-none-any.whl.metadata (15 kB)\n",
            "Collecting faiss-cpu==1.7.4\n",
            "  Downloading faiss_cpu-1.7.4-cp310-cp310-manylinux_2_17_x86_64.manylinux2014_x86_64.whl.metadata (1.3 kB)\n",
            "Requirement already satisfied: google-api-core!=2.0.*,!=2.1.*,!=2.2.*,!=2.3.*,!=2.4.*,!=2.5.*,!=2.6.*,!=2.7.*,<3.0.0dev,>=1.32.0 in /opt/conda/lib/python3.10/site-packages (from google-api-core[grpc]!=2.0.*,!=2.1.*,!=2.2.*,!=2.3.*,!=2.4.*,!=2.5.*,!=2.6.*,!=2.7.*,<3.0.0dev,>=1.32.0->google-cloud-aiplatform==1.35.0) (1.34.1)\n",
            "Requirement already satisfied: proto-plus<2.0.0dev,>=1.22.0 in /opt/conda/lib/python3.10/site-packages (from google-cloud-aiplatform==1.35.0) (1.24.0)\n",
            "Requirement already satisfied: protobuf!=3.20.0,!=3.20.1,!=4.21.0,!=4.21.1,!=4.21.2,!=4.21.3,!=4.21.4,!=4.21.5,<5.0.0dev,>=3.19.5 in /opt/conda/lib/python3.10/site-packages (from google-cloud-aiplatform==1.35.0) (3.20.3)\n",
            "Requirement already satisfied: packaging>=14.3 in /opt/conda/lib/python3.10/site-packages (from google-cloud-aiplatform==1.35.0) (24.1)\n",
            "Requirement already satisfied: google-cloud-storage<3.0.0dev,>=1.32.0 in /opt/conda/lib/python3.10/site-packages (from google-cloud-aiplatform==1.35.0) (2.14.0)\n",
            "Requirement already satisfied: google-cloud-bigquery<4.0.0dev,>=1.15.0 in /opt/conda/lib/python3.10/site-packages (from google-cloud-aiplatform==1.35.0) (3.25.0)\n",
            "Requirement already satisfied: google-cloud-resource-manager<3.0.0dev,>=1.3.3 in /opt/conda/lib/python3.10/site-packages (from google-cloud-aiplatform==1.35.0) (1.12.5)\n",
            "Requirement already satisfied: shapely<3.0.0dev in /opt/conda/lib/python3.10/site-packages (from google-cloud-aiplatform==1.35.0) (2.0.5)\n",
            "Requirement already satisfied: PyYAML>=5.3 in /opt/conda/lib/python3.10/site-packages (from langchain==0.0.323) (6.0.1)\n",
            "Requirement already satisfied: SQLAlchemy<3,>=1.4 in /opt/conda/lib/python3.10/site-packages (from langchain==0.0.323) (2.0.31)\n",
            "Requirement already satisfied: aiohttp<4.0.0,>=3.8.3 in /opt/conda/lib/python3.10/site-packages (from langchain==0.0.323) (3.9.5)\n",
            "Collecting anyio<4.0 (from langchain==0.0.323)\n",
            "  Downloading anyio-3.7.1-py3-none-any.whl.metadata (4.7 kB)\n",
            "Requirement already satisfied: async-timeout<5.0.0,>=4.0.0 in /opt/conda/lib/python3.10/site-packages (from langchain==0.0.323) (4.0.3)\n",
            "Collecting dataclasses-json<0.7,>=0.5.7 (from langchain==0.0.323)\n",
            "  Downloading dataclasses_json-0.6.7-py3-none-any.whl.metadata (25 kB)\n",
            "Requirement already satisfied: jsonpatch<2.0,>=1.33 in /opt/conda/lib/python3.10/site-packages (from langchain==0.0.323) (1.33)\n",
            "Collecting langsmith<0.1.0,>=0.0.43 (from langchain==0.0.323)\n",
            "  Downloading langsmith-0.0.92-py3-none-any.whl.metadata (9.9 kB)\n",
            "Requirement already satisfied: numpy<2,>=1 in /opt/conda/lib/python3.10/site-packages (from langchain==0.0.323) (1.23.5)\n",
            "Requirement already satisfied: pydantic<3,>=1 in /opt/conda/lib/python3.10/site-packages (from langchain==0.0.323) (1.10.17)\n",
            "Requirement already satisfied: requests<3,>=2 in /opt/conda/lib/python3.10/site-packages (from langchain==0.0.323) (2.31.0)\n",
            "Collecting tenacity<9.0.0,>=8.1.0 (from langchain==0.0.323)\n",
            "  Downloading tenacity-8.5.0-py3-none-any.whl.metadata (1.2 kB)\n",
            "Requirement already satisfied: aiosignal>=1.1.2 in /opt/conda/lib/python3.10/site-packages (from aiohttp<4.0.0,>=3.8.3->langchain==0.0.323) (1.3.1)\n",
            "Requirement already satisfied: attrs>=17.3.0 in /opt/conda/lib/python3.10/site-packages (from aiohttp<4.0.0,>=3.8.3->langchain==0.0.323) (23.2.0)\n",
            "Requirement already satisfied: frozenlist>=1.1.1 in /opt/conda/lib/python3.10/site-packages (from aiohttp<4.0.0,>=3.8.3->langchain==0.0.323) (1.4.1)\n",
            "Requirement already satisfied: multidict<7.0,>=4.5 in /opt/conda/lib/python3.10/site-packages (from aiohttp<4.0.0,>=3.8.3->langchain==0.0.323) (6.0.5)\n",
            "Requirement already satisfied: yarl<2.0,>=1.0 in /opt/conda/lib/python3.10/site-packages (from aiohttp<4.0.0,>=3.8.3->langchain==0.0.323) (1.9.4)\n",
            "Requirement already satisfied: idna>=2.8 in /opt/conda/lib/python3.10/site-packages (from anyio<4.0->langchain==0.0.323) (3.7)\n",
            "Requirement already satisfied: sniffio>=1.1 in /opt/conda/lib/python3.10/site-packages (from anyio<4.0->langchain==0.0.323) (1.3.1)\n",
            "Requirement already satisfied: exceptiongroup in /opt/conda/lib/python3.10/site-packages (from anyio<4.0->langchain==0.0.323) (1.2.2)\n",
            "Collecting marshmallow<4.0.0,>=3.18.0 (from dataclasses-json<0.7,>=0.5.7->langchain==0.0.323)\n",
            "  Downloading marshmallow-3.22.0-py3-none-any.whl.metadata (7.2 kB)\n",
            "Collecting typing-inspect<1,>=0.4.0 (from dataclasses-json<0.7,>=0.5.7->langchain==0.0.323)\n",
            "  Downloading typing_inspect-0.9.0-py3-none-any.whl.metadata (1.5 kB)\n",
            "Requirement already satisfied: googleapis-common-protos<2.0dev,>=1.56.2 in /opt/conda/lib/python3.10/site-packages (from google-api-core!=2.0.*,!=2.1.*,!=2.2.*,!=2.3.*,!=2.4.*,!=2.5.*,!=2.6.*,!=2.7.*,<3.0.0dev,>=1.32.0->google-api-core[grpc]!=2.0.*,!=2.1.*,!=2.2.*,!=2.3.*,!=2.4.*,!=2.5.*,!=2.6.*,!=2.7.*,<3.0.0dev,>=1.32.0->google-cloud-aiplatform==1.35.0) (1.63.2)\n",
            "Requirement already satisfied: google-auth<3.0dev,>=1.25.0 in /opt/conda/lib/python3.10/site-packages (from google-api-core!=2.0.*,!=2.1.*,!=2.2.*,!=2.3.*,!=2.4.*,!=2.5.*,!=2.6.*,!=2.7.*,<3.0.0dev,>=1.32.0->google-api-core[grpc]!=2.0.*,!=2.1.*,!=2.2.*,!=2.3.*,!=2.4.*,!=2.5.*,!=2.6.*,!=2.7.*,<3.0.0dev,>=1.32.0->google-cloud-aiplatform==1.35.0) (2.32.0)\n",
            "Requirement already satisfied: grpcio<2.0dev,>=1.33.2 in /opt/conda/lib/python3.10/site-packages (from google-api-core[grpc]!=2.0.*,!=2.1.*,!=2.2.*,!=2.3.*,!=2.4.*,!=2.5.*,!=2.6.*,!=2.7.*,<3.0.0dev,>=1.32.0->google-cloud-aiplatform==1.35.0) (1.48.0)\n",
            "Requirement already satisfied: grpcio-status<2.0dev,>=1.33.2 in /opt/conda/lib/python3.10/site-packages (from google-api-core[grpc]!=2.0.*,!=2.1.*,!=2.2.*,!=2.3.*,!=2.4.*,!=2.5.*,!=2.6.*,!=2.7.*,<3.0.0dev,>=1.32.0->google-cloud-aiplatform==1.35.0) (1.48.0)\n",
            "Requirement already satisfied: google-cloud-core<3.0.0dev,>=1.6.0 in /opt/conda/lib/python3.10/site-packages (from google-cloud-bigquery<4.0.0dev,>=1.15.0->google-cloud-aiplatform==1.35.0) (2.4.1)\n",
            "Requirement already satisfied: google-resumable-media<3.0dev,>=0.6.0 in /opt/conda/lib/python3.10/site-packages (from google-cloud-bigquery<4.0.0dev,>=1.15.0->google-cloud-aiplatform==1.35.0) (2.7.1)\n",
            "Requirement already satisfied: python-dateutil<3.0dev,>=2.7.2 in /opt/conda/lib/python3.10/site-packages (from google-cloud-bigquery<4.0.0dev,>=1.15.0->google-cloud-aiplatform==1.35.0) (2.9.0)\n",
            "Requirement already satisfied: grpc-google-iam-v1<1.0.0dev,>=0.12.4 in /opt/conda/lib/python3.10/site-packages (from google-cloud-resource-manager<3.0.0dev,>=1.3.3->google-cloud-aiplatform==1.35.0) (0.12.7)\n",
            "Requirement already satisfied: google-crc32c<2.0dev,>=1.0 in /opt/conda/lib/python3.10/site-packages (from google-cloud-storage<3.0.0dev,>=1.32.0->google-cloud-aiplatform==1.35.0) (1.5.0)\n",
            "Requirement already satisfied: jsonpointer>=1.9 in /opt/conda/lib/python3.10/site-packages (from jsonpatch<2.0,>=1.33->langchain==0.0.323) (3.0.0)\n",
            "Requirement already satisfied: typing-extensions>=4.2.0 in /opt/conda/lib/python3.10/site-packages (from pydantic<3,>=1->langchain==0.0.323) (4.12.2)\n",
            "Requirement already satisfied: charset-normalizer<4,>=2 in /opt/conda/lib/python3.10/site-packages (from requests<3,>=2->langchain==0.0.323) (3.3.2)\n",
            "Requirement already satisfied: urllib3<3,>=1.21.1 in /opt/conda/lib/python3.10/site-packages (from requests<3,>=2->langchain==0.0.323) (1.26.19)\n",
            "Requirement already satisfied: certifi>=2017.4.17 in /opt/conda/lib/python3.10/site-packages (from requests<3,>=2->langchain==0.0.323) (2024.7.4)\n",
            "Requirement already satisfied: greenlet!=0.4.17 in /opt/conda/lib/python3.10/site-packages (from SQLAlchemy<3,>=1.4->langchain==0.0.323) (3.0.3)\n",
            "Requirement already satisfied: cachetools<6.0,>=2.0.0 in /opt/conda/lib/python3.10/site-packages (from google-auth<3.0dev,>=1.25.0->google-api-core!=2.0.*,!=2.1.*,!=2.2.*,!=2.3.*,!=2.4.*,!=2.5.*,!=2.6.*,!=2.7.*,<3.0.0dev,>=1.32.0->google-api-core[grpc]!=2.0.*,!=2.1.*,!=2.2.*,!=2.3.*,!=2.4.*,!=2.5.*,!=2.6.*,!=2.7.*,<3.0.0dev,>=1.32.0->google-cloud-aiplatform==1.35.0) (4.2.4)\n",
            "Requirement already satisfied: pyasn1-modules>=0.2.1 in /opt/conda/lib/python3.10/site-packages (from google-auth<3.0dev,>=1.25.0->google-api-core!=2.0.*,!=2.1.*,!=2.2.*,!=2.3.*,!=2.4.*,!=2.5.*,!=2.6.*,!=2.7.*,<3.0.0dev,>=1.32.0->google-api-core[grpc]!=2.0.*,!=2.1.*,!=2.2.*,!=2.3.*,!=2.4.*,!=2.5.*,!=2.6.*,!=2.7.*,<3.0.0dev,>=1.32.0->google-cloud-aiplatform==1.35.0) (0.4.0)\n",
            "Requirement already satisfied: rsa<5,>=3.1.4 in /opt/conda/lib/python3.10/site-packages (from google-auth<3.0dev,>=1.25.0->google-api-core!=2.0.*,!=2.1.*,!=2.2.*,!=2.3.*,!=2.4.*,!=2.5.*,!=2.6.*,!=2.7.*,<3.0.0dev,>=1.32.0->google-api-core[grpc]!=2.0.*,!=2.1.*,!=2.2.*,!=2.3.*,!=2.4.*,!=2.5.*,!=2.6.*,!=2.7.*,<3.0.0dev,>=1.32.0->google-cloud-aiplatform==1.35.0) (4.9)\n",
            "Requirement already satisfied: six>=1.5.2 in /opt/conda/lib/python3.10/site-packages (from grpcio<2.0dev,>=1.33.2->google-api-core[grpc]!=2.0.*,!=2.1.*,!=2.2.*,!=2.3.*,!=2.4.*,!=2.5.*,!=2.6.*,!=2.7.*,<3.0.0dev,>=1.32.0->google-cloud-aiplatform==1.35.0) (1.16.0)\n",
            "Collecting mypy-extensions>=0.3.0 (from typing-inspect<1,>=0.4.0->dataclasses-json<0.7,>=0.5.7->langchain==0.0.323)\n",
            "  Downloading mypy_extensions-1.0.0-py3-none-any.whl.metadata (1.1 kB)\n",
            "Requirement already satisfied: pyasn1<0.7.0,>=0.4.6 in /opt/conda/lib/python3.10/site-packages (from pyasn1-modules>=0.2.1->google-auth<3.0dev,>=1.25.0->google-api-core!=2.0.*,!=2.1.*,!=2.2.*,!=2.3.*,!=2.4.*,!=2.5.*,!=2.6.*,!=2.7.*,<3.0.0dev,>=1.32.0->google-api-core[grpc]!=2.0.*,!=2.1.*,!=2.2.*,!=2.3.*,!=2.4.*,!=2.5.*,!=2.6.*,!=2.7.*,<3.0.0dev,>=1.32.0->google-cloud-aiplatform==1.35.0) (0.6.0)\n",
            "Downloading google_cloud_aiplatform-1.35.0-py2.py3-none-any.whl (3.1 MB)\n",
            "\u001b[2K   \u001b[90m━━━━━━━━━━━━━━━━━━━━━━━━━━━━━━━━━━━━━━━━\u001b[0m \u001b[32m3.1/3.1 MB\u001b[0m \u001b[31m14.9 MB/s\u001b[0m eta \u001b[36m0:00:00\u001b[0m00:01\u001b[0m00:01\u001b[0m\n",
            "\u001b[?25hDownloading langchain-0.0.323-py3-none-any.whl (1.9 MB)\n",
            "\u001b[2K   \u001b[90m━━━━━━━━━━━━━━━━━━━━━━━━━━━━━━━━━━━━━━━━\u001b[0m \u001b[32m1.9/1.9 MB\u001b[0m \u001b[31m60.9 MB/s\u001b[0m eta \u001b[36m0:00:00\u001b[0m\n",
            "\u001b[?25hDownloading faiss_cpu-1.7.4-cp310-cp310-manylinux_2_17_x86_64.manylinux2014_x86_64.whl (17.6 MB)\n",
            "\u001b[2K   \u001b[90m━━━━━━━━━━━━━━━━━━━━━━━━━━━━━━━━━━━━━━━━\u001b[0m \u001b[32m17.6/17.6 MB\u001b[0m \u001b[31m51.4 MB/s\u001b[0m eta \u001b[36m0:00:00\u001b[0m00:01\u001b[0m00:01\u001b[0m\n",
            "\u001b[?25hDownloading anyio-3.7.1-py3-none-any.whl (80 kB)\n",
            "\u001b[2K   \u001b[90m━━━━━━━━━━━━━━━━━━━━━━━━━━━━━━━━━━━━━━━━\u001b[0m \u001b[32m80.9/80.9 kB\u001b[0m \u001b[31m6.4 MB/s\u001b[0m eta \u001b[36m0:00:00\u001b[0m\n",
            "\u001b[?25hDownloading dataclasses_json-0.6.7-py3-none-any.whl (28 kB)\n",
            "Downloading langsmith-0.0.92-py3-none-any.whl (56 kB)\n",
            "\u001b[2K   \u001b[90m━━━━━━━━━━━━━━━━━━━━━━━━━━━━━━━━━━━━━━━━\u001b[0m \u001b[32m56.5/56.5 kB\u001b[0m \u001b[31m5.0 MB/s\u001b[0m eta \u001b[36m0:00:00\u001b[0m\n",
            "\u001b[?25hDownloading tenacity-8.5.0-py3-none-any.whl (28 kB)\n",
            "Downloading marshmallow-3.22.0-py3-none-any.whl (49 kB)\n",
            "\u001b[2K   \u001b[90m━━━━━━━━━━━━━━━━━━━━━━━━━━━━━━━━━━━━━━━━\u001b[0m \u001b[32m49.3/49.3 kB\u001b[0m \u001b[31m4.3 MB/s\u001b[0m eta \u001b[36m0:00:00\u001b[0m\n",
            "\u001b[?25hDownloading typing_inspect-0.9.0-py3-none-any.whl (8.8 kB)\n",
            "Downloading mypy_extensions-1.0.0-py3-none-any.whl (4.7 kB)\n",
            "Installing collected packages: faiss-cpu, tenacity, mypy-extensions, marshmallow, anyio, typing-inspect, langsmith, dataclasses-json, langchain, google-cloud-aiplatform\n",
            "\u001b[33m  WARNING: The script langsmith is installed in '/root/.local/bin' which is not on PATH.\n",
            "  Consider adding this directory to PATH or, if you prefer to suppress this warning, use --no-warn-script-location.\u001b[0m\u001b[33m\n",
            "\u001b[0m\u001b[33m  WARNING: The scripts langchain and langchain-server are installed in '/root/.local/bin' which is not on PATH.\n",
            "  Consider adding this directory to PATH or, if you prefer to suppress this warning, use --no-warn-script-location.\u001b[0m\u001b[33m\n",
            "\u001b[0m\u001b[33m  WARNING: The script tb-gcp-uploader is installed in '/root/.local/bin' which is not on PATH.\n",
            "  Consider adding this directory to PATH or, if you prefer to suppress this warning, use --no-warn-script-location.\u001b[0m\u001b[33m\n",
            "\u001b[0mSuccessfully installed anyio-3.7.1 dataclasses-json-0.6.7 faiss-cpu-1.7.4 google-cloud-aiplatform-1.35.0 langchain-0.0.323 langsmith-0.0.92 marshmallow-3.22.0 mypy-extensions-1.0.0 tenacity-8.5.0 typing-inspect-0.9.0\n",
            "\u001b[33mWARNING: Running pip as the 'root' user can result in broken permissions and conflicting behaviour with the system package manager. It is recommended to use a virtual environment instead: https://pip.pypa.io/warnings/venv\u001b[0m\u001b[33m\n",
            "\u001b[0m"
          ]
        }
      ],
      "source": [
        "# 必要なライブラリをインストール\n",
        "!pip install --upgrade google-cloud-aiplatform==1.35.0 langchain==0.0.323 faiss-cpu==1.7.4 --user\n",
        "  # pip: Pythonのパッケージ管理ツール\n",
        "  # install: パッケージをインストールするコマンド\n",
        "  # --upgrade: パッケージを最新バージョンにアップグレード\n",
        "  # google-cloud-aiplatform: Google Cloud の Vertex AI を利用するためのライブラリ (バージョン 1.35.0)\n",
        "  # langchain: 大規模言語モデルを活用するためのフレームワーク (バージョン 0.0.323)\n",
        "  # faiss-cpu: 類似性検索のためのライブラリ (バージョン 1.7.4)\n",
        "  # --user: ユーザーのローカルディレクトリにパッケージをインストール"
      ]
    },
    {
      "cell_type": "markdown",
      "metadata": {
        "id": "32d9c2742fc5"
      },
      "source": [
        "**colabのみ**：以下のセルを外してカーネルを再起動するか、ボタンを使用してカーネルを再起動します。VertexAIワークベンチの場合、上部のボタンを使用して端子を再起動できます。"
      ]
    },
    {
      "cell_type": "code",
      "execution_count": null,
      "metadata": {
        "id": "loTfn0KniwB2"
      },
      "outputs": [],
      "source": [
        "# # Automatically restart kernel after installs so that your environment can access the new packages\n",
        "# import IPython\n",
        "\n",
        "# app = IPython.Application.instance()\n",
        "# app.kernel.do_shutdown(True)"
      ]
    },
    {
      "cell_type": "markdown",
      "metadata": {
        "id": "Xe7OuYuGkLKF"
      },
      "source": [
        "### ノートブック環境の認証\n",
        "\n",
        "**ワークベンチの場合：**[Kernel]メニューの[Restart Kerel]を実行します。\n",
        "\n",
        "**colab**を使用してこのノートブックを実行している場合は、下のセルを外して続行します。\n",
        "**vertex ai workbench**を使用している場合は、セットアップ手順[here](https://github.com/googlecloudplatform/generative-ai/tree/main/setup-env)をご覧ください。"
      ]
    },
    {
      "cell_type": "code",
      "execution_count": null,
      "metadata": {
        "id": "U9Gx2SAZkLKF"
      },
      "outputs": [],
      "source": [
        "# from google.colab import auth\n",
        "\n",
        "# auth.authenticate_user()"
      ]
    },
    {
      "cell_type": "markdown",
      "metadata": {
        "id": "JxH62gFHCFPj"
      },
      "source": [
        "### インポートライブラリ"
      ]
    },
    {
      "cell_type": "markdown",
      "metadata": {
        "id": "Q1z48EbXTZhc"
      },
      "source": [
        "**colabのみ：**Vertexai sdkを初期化するための次のセルを外します。VertexAIワークベンチの場合、これを実行する必要はありません。"
      ]
    },
    {
      "cell_type": "code",
      "execution_count": null,
      "metadata": {
        "id": "UM8_uoOR9pGS",
        "tags": []
      },
      "outputs": [],
      "source": [
        "# import vertexai\n",
        "\n",
        "# PROJECT_ID = \"[your-project-id]\"  # @param {type:\"string\"}\n",
        "# vertexai.init(project=PROJECT_ID, location=\"us-central1\")"
      ]
    },
    {
      "cell_type": "code",
      "execution_count": null,
      "metadata": {
        "id": "jHhdpnGMCCuh",
        "tags": []
      },
      "outputs": [],
      "source": [
        "# 必要なライブラリをインポート\n",
        "import glob   # ファイルパスを操作するためのライブラリ\n",
        "import pprint # データ構造を見やすく表示するためのライブラリ\n",
        "from typing import Any, Iterator, List # 型ヒントのためのモジュール\n",
        "\n",
        "from langchain.agents import AgentType, initialize_agent # Langchainのエージェント関連のモジュール\n",
        "from langchain.document_loaders import TextLoader # テキストファイルを読み込むためのモジュール\n",
        "from langchain.embeddings import VertexAIEmbeddings # Vertex AIの埋め込みモデルを利用するためのモジュール\n",
        "from langchain.llms import VertexAI # Vertex AIのLLMを利用するためのモジュール\n",
        "from langchain.memory import ConversationBufferMemory # 会話履歴を保存するためのモジュール\n",
        "from langchain.schema import Document # ドキュメントを扱うためのモジュール\n",
        "from langchain.tools import tool # エージェントが使用するツールを定義するためのモジュール\n",
        "from langchain.vectorstores import FAISS # FAISSベクトルデータベースを利用するためのモジュール\n",
        "from langchain.vectorstores.base import VectorStoreRetriever # ベクトルデータベースから情報を取得するためのモジュール\n",
        "from tqdm import tqdm # 処理の進捗状況を表示するためのモジュール"
      ]
    },
    {
      "cell_type": "markdown",
      "metadata": {
        "id": "YmZ1xwIo9lzU"
      },
      "source": [
        "### モデルを初期化します"
      ]
    },
    {
      "cell_type": "code",
      "execution_count": null,
      "metadata": {
        "id": "eVpPcvsrkzCk",
        "outputId": "faa51df8-0112-4ed3-8834-5d07b0af9d14",
        "tags": []
      },
      "outputs": [
        {
          "name": "stderr",
          "output_type": "stream",
          "text": [
            "2024-09-07 13:36:17.700965: I tensorflow/tsl/cuda/cudart_stub.cc:28] Could not find cuda drivers on your machine, GPU will not be used.\n",
            "2024-09-07 13:36:17.757241: I tensorflow/tsl/cuda/cudart_stub.cc:28] Could not find cuda drivers on your machine, GPU will not be used.\n",
            "2024-09-07 13:36:17.759157: I tensorflow/core/platform/cpu_feature_guard.cc:182] This TensorFlow binary is optimized to use available CPU instructions in performance-critical operations.\n",
            "To enable the following instructions: AVX2 FMA, in other operations, rebuild TensorFlow with the appropriate compiler flags.\n",
            "2024-09-07 13:36:21.905035: W tensorflow/compiler/tf2tensorrt/utils/py_utils.cc:38] TF-TRT Warning: Could not find TensorRT\n",
            "WARNING: All log messages before absl::InitializeLog() is called are written to STDERR\n",
            "I0000 00:00:1725716187.447287     333 config.cc:230] gRPC experiments enabled: call_status_override_on_cancellation, event_engine_dns, event_engine_listener, http2_stats_fix, monitoring_experiment, pick_first_new, trace_record_callops, work_serializer_clears_time_cache\n"
          ]
        }
      ],
      "source": [
        "# LLM (大規模言語モデル) を初期化\n",
        "llm = VertexAI(\n",
        "    model_name=\"text-bison\",  # 使用するモデル名 (text-bison: Googleの強力なLLM)\n",
        "    max_output_tokens=256,    # 生成されるテキストの最大トークン数\n",
        "    temperature=0,            # 生成されるテキストのランダム性 (0: 最もランダム性が低い)\n",
        "    top_p=0.8,                # トークンサンプリングの確率 (上位80%からサンプリング)\n",
        "    top_k=40,                 # トークンサンプリングの候補数 (上位40個からサンプリング)\n",
        ")\n",
        "\n",
        "# 埋め込みモデルを初期化\n",
        "embedding = VertexAIEmbeddings() # Vertex AI の埋め込みモデルを使用"
      ]
    },
    {
      "cell_type": "markdown",
      "metadata": {
        "id": "Nx1DhGMexbdx"
      },
      "source": [
        "# レシピと製品レトリバーを作成します\n",
        "\n",
        "前述のように、目的は、LLMにより多くのコンテキストを提供するために、クローズドドメインデータベースからの情報を活用することです。そのために、Langchainで2つのレトリバーを作成し、2つのローカルベクトルデータベースと対話できます。1つは製品アイテム用、もう1つはレシピ項目です。\n",
        "\n",
        "**1つのオフプロセス**として、すべての製品とレシピ項目は埋め込みに変換され、関連するベクターデータベースに摂取されます。\n",
        "\n",
        "**検索時間**で、クエリ（例：Lasagne）が埋め込みに変換され、クエリに最も近いアイテムを見つけるためにベクターの類似性検索が実行されます（例：Lasagne Al Forno、ベジタリアンラザニア）。\n",
        "\n",
        "これらの2つのデータベースを強化するには、[Vertex AI Generative AI models](https://www.google.com/url?q=https%3A%2F%2Fcloud.google.com%2Fvertex-ai%2Fdocs%2Fgenerative-ai%2Flearn%2Fmodels%23foundation_models)。\n",
        "\n",
        "このデータをVectorStoreにロードするには、[langchain Textloader](https://www.google.com/url?q=https%3A%2F%2Fapi.python.langchain.com%2Fen%2Flatest%2Fdocument_loaders%2Flangchain.document_loaders.text.TextLoader.html)を使用します。\n",
        "\n",
        "このアプローチをオンラインで公開されている既存のレシピと製品セットでこのアプローチをテストしたい場合は、[langchain webbaseloader](https://www.google.com/url?q=https%3A%2F%2Fpython.langchain.com%2Fen%2Flatest%2Fmodules%2Findexes%2Fdocument_loaders%2Fexamples%2Fweb_base.html)を使用できます。"
      ]
    },
    {
      "cell_type": "markdown",
      "metadata": {
        "id": "C-pNxat75XND"
      },
      "source": [
        "まず、パブリッククラウドストレージバケットから製品とレシピに関するダミーデータを取得し、ローカルに保存します。"
      ]
    },
    {
      "cell_type": "code",
      "execution_count": null,
      "metadata": {
        "id": "3yP6GQhgV5Nz",
        "outputId": "139a4cdd-698f-48e3-d1f6-72e36d29ec76",
        "tags": []
      },
      "outputs": [
        {
          "name": "stderr",
          "output_type": "stream",
          "text": [
            "I0000 00:00:1725716193.895704     333 work_stealing_thread_pool.cc:320] WorkStealingThreadPoolImpl::PrepareFork\n",
            "I0000 00:00:1725716193.896005     333 fork_posix.cc:77] Other threads are currently calling into gRPC, skipping fork() handlers\n"
          ]
        },
        {
          "name": "stdout",
          "output_type": "stream",
          "text": [
            "Copying gs://github-repo/use-cases/grocery_bot/products/angus_beef_lean_mince.txt...\n",
            "Copying gs://github-repo/use-cases/grocery_bot/products/cherry_vine_tomatoes.txt...\n",
            "Copying gs://github-repo/use-cases/grocery_bot/products/baby_plum_tomatoes.txt...\n",
            "Copying gs://github-repo/use-cases/grocery_bot/products/chocolate_bar.txt...    \n",
            "Copying gs://github-repo/use-cases/grocery_bot/products/chocolate_cake.txt...   \n",
            "Copying gs://github-repo/use-cases/grocery_bot/products/classic_carrots.txt...  \n",
            "Copying gs://github-repo/use-cases/grocery_bot/products/sandwich_selection.txt...\n",
            "Copying gs://github-repo/use-cases/grocery_bot/products/premium_red_tomatoes.txt...\n",
            "Copying gs://github-repo/use-cases/grocery_bot/products/classic_tomatoes.txt... \n",
            "Copying gs://github-repo/use-cases/grocery_bot/recipes/vegetarian_lasagne.txt...\n",
            "Copying gs://github-repo/use-cases/grocery_bot/products/large_onions.txt...     \n",
            "Copying gs://github-repo/use-cases/grocery_bot/recipes/steak_and_peanut_salad.txt...\n",
            "Copying gs://github-repo/use-cases/grocery_bot/products/premium_plum_tomatoes.txt...\n",
            "Copying gs://github-repo/use-cases/grocery_bot/recipes/chicken_scallopini_with_asparagus.txt...\n",
            "Copying gs://github-repo/use-cases/grocery_bot/recipes/lasagne.txt...           \n",
            "/ [15/15 files][ 17.1 KiB/ 17.1 KiB] 100% Done                                  \n",
            "Operation completed over 15 objects/17.1 KiB.                                    \n"
          ]
        }
      ],
      "source": [
        "# Cloud Storage からデータをローカルにコピー\n",
        "!gsutil -m cp -r \"gs://github-repo/use-cases/grocery_bot/*\" .\n",
        "  # gsutil: Cloud Storage を操作するためのコマンドラインツール\n",
        "  # -m: マルチスレッドで処理を高速化\n",
        "  # cp: コピーコマンド\n",
        "  # -r: ディレクトリを再帰的にコピー\n",
        "  # \"gs://github-repo/use-cases/grocery_bot/*\": コピー元のパス (Cloud Storage)\n",
        "  # .: コピー先のパス (カレントディレクトリ)"
      ]
    },
    {
      "cell_type": "markdown",
      "metadata": {
        "id": "WQ8G9k4M5gaM"
      },
      "source": [
        "次に、一連の関数を定義して、2つのベクトルデータベースの作成を可能にします。1つは製品用、もう1つはレシピ用です。"
      ]
    },
    {
      "cell_type": "code",
      "execution_count": null,
      "metadata": {
        "id": "ezemXH4zxaX-",
        "tags": []
      },
      "outputs": [],
      "source": [
        "# リストを指定されたサイズのチャンクに分割する関数\n",
        "def chunks(lst: List[Any], n: int) -> Iterator[List[Any]]:\n",
        "    \"\"\"Yield successive n-sized chunks from lst.\n",
        "\n",
        "    Args:\n",
        "        lst: The list to be chunked.\n",
        "        n: The size of each chunk.\n",
        "\n",
        "    Yields:\n",
        "        A list of the next n elements from lst.\n",
        "    \"\"\"\n",
        "    # リストをn個の要素ごとに分割してyield\n",
        "    for i in range(0, len(lst), n):\n",
        "        yield lst[i : i + n]\n",
        "\n",
        "# 指定されたディレクトリからドキュメントを読み込む関数\n",
        "def load_docs_from_directory(dir_path: str) -> List[Document]:\n",
        "    \"\"\"Loads a series of docs from a directory.\n",
        "\n",
        "    Args:\n",
        "      dir_path: The path to the directory containing the docs.\n",
        "\n",
        "    Returns:\n",
        "      A list of the docs in the directory.\n",
        "    \"\"\"\n",
        "\n",
        "    docs = []  # ドキュメントを格納するリストを初期化\n",
        "    # 指定されたディレクトリ内のすべてのファイルを処理\n",
        "    for file_path in glob.glob(dir_path):\n",
        "        loader = TextLoader(file_path)  # TextLoaderを使用してファイルを読み込み\n",
        "        docs = docs + loader.load()     # 読み込んだドキュメントをリストに追加\n",
        "    return docs                         # ドキュメントのリストを返す\n",
        "\n",
        "# ベクトルデータベースを作成し、検索用のRetrieverオブジェクトを返す関数\n",
        "def create_retriever(top_k_results: int, dir_path: str) -> VectorStoreRetriever:\n",
        "    \"\"\"Create a recipe retriever from a list of top results and a list of web pages.\n",
        "\n",
        "    Args:\n",
        "        top_k_results: number of results to return when retrieving\n",
        "        dir_path: List of web pages.\n",
        "\n",
        "    Returns:\n",
        "        A recipe retriever.\n",
        "    \"\"\"\n",
        "\n",
        "    BATCH_SIZE_EMBEDDINGS = 5  # 埋め込み計算のバッチサイズ\n",
        "    docs = load_docs_from_directory(dir_path=dir_path)  # ディレクトリからドキュメントを読み込み\n",
        "    doc_chunk = chunks(docs, BATCH_SIZE_EMBEDDINGS)     # ドキュメントをバッチに分割\n",
        "\n",
        "    # 各バッチに対して埋め込みを計算し、ベクトルデータベースに追加\n",
        "    for index, chunk in tqdm(enumerate(doc_chunk)):\n",
        "        if index == 0:\n",
        "            db = FAISS.from_documents(chunk, embedding)              # 最初のバッチでベクトルデータベースを作成\n",
        "        else:\n",
        "            db.add_documents(chunk)                                  # 2回目以降のバッチは既存のデータベースに追加\n",
        "\n",
        "    retriever = db.as_retriever(search_kwargs={\"k\": top_k_results})  # Retrieverオブジェクトを作成\n",
        "    return retriever                                                 # Retrieverオブジェクトを返す"
      ]
    },
    {
      "cell_type": "markdown",
      "metadata": {
        "id": "vsjaRY6Y55yD"
      },
      "source": [
        "これで、前のステップで定義された関数を使用して、ベクターDBSを作成する準備ができました。\n",
        "各ベクターDBは、クエリを与えられたドキュメントのリストを提供するPythonオブジェクトであるRetriverインスタンスを提供します。\n",
        "\n",
        "作成します：\n",
        "-  `recipe_retriever`：クエリに一致するレシピのセットを取得するには\n",
        "-  `product_retriever`：クエリに一致する一連の製品を取得するには"
      ]
    },
    {
      "cell_type": "code",
      "execution_count": null,
      "metadata": {
        "id": "BYb9WWvCKpxl",
        "outputId": "a56f12e2-1606-47a8-c62a-305b3b308645",
        "tags": []
      },
      "outputs": [
        {
          "name": "stderr",
          "output_type": "stream",
          "text": [
            "1it [00:00,  4.42it/s]\n",
            "3it [00:00,  6.30it/s]\n"
          ]
        }
      ],
      "source": [
        "# レシピ検索用のRetrieverオブジェクトを作成\n",
        "recipe_retriever = create_retriever(top_k_results=2, dir_path=\"./recipes/*\")\n",
        "\n",
        "# 商品検索用のRetrieverオブジェクトを作成\n",
        "product_retriever = create_retriever(top_k_results=5, dir_path=\"./products/*\")"
      ]
    },
    {
      "cell_type": "markdown",
      "metadata": {
        "id": "yzPr73OM6uDY"
      },
      "source": [
        "これで、レトリーバーをテストする準備ができました！たとえば、「recipe_retriever」に「lasagneレシピ」を見つけるように頼むと、クエリに一致する2つの最も近いレシピが表示されるはずです。"
      ]
    },
    {
      "cell_type": "code",
      "execution_count": null,
      "metadata": {
        "id": "GGazDy8d54Hq",
        "outputId": "727f21d1-1127-40b0-e088-40a66c7471d7",
        "tags": []
      },
      "outputs": [
        {
          "name": "stdout",
          "output_type": "stream",
          "text": [
            "[{'source': './recipes/lasagne.txt'},\n",
            " {'source': './recipes/vegetarian_lasagne.txt'}]\n"
          ]
        }
      ],
      "source": [
        "# recipe_retriever を使用して \"lasagne\" のレシピを検索\n",
        "docs = recipe_retriever.get_relevant_documents(\"Any lasagne recipes?\")\n",
        "\n",
        "# 検索結果のメタデータを表示\n",
        "pprint.pprint([doc.metadata for doc in docs])"
      ]
    },
    {
      "cell_type": "markdown",
      "metadata": {
        "id": "wJtT98rE8BGG"
      },
      "source": [
        "ユーザーがトマトをクエリする場合、「Product_retriever」で同様の動作が得られます。"
      ]
    },
    {
      "cell_type": "code",
      "execution_count": null,
      "metadata": {
        "id": "CRVqmDHd5Vwb",
        "outputId": "6b86d188-b36d-43f9-de03-5c38e827a977",
        "tags": []
      },
      "outputs": [
        {
          "name": "stdout",
          "output_type": "stream",
          "text": [
            "[{'source': './products/premium_red_tomatoes.txt'},\n",
            " {'source': './products/premium_plum_tomatoes.txt'},\n",
            " {'source': './products/baby_plum_tomatoes.txt'},\n",
            " {'source': './products/cherry_vine_tomatoes.txt'},\n",
            " {'source': './products/classic_tomatoes.txt'}]\n"
          ]
        }
      ],
      "source": [
        "# product_retriever を使用して \"Tomatoes\" の商品を検索\n",
        "docs = product_retriever.get_relevant_documents(\"Any Tomatoes?\")\n",
        "\n",
        "# 検索結果のメタデータを表示\n",
        "pprint.pprint([doc.metadata for doc in docs])"
      ]
    },
    {
      "cell_type": "markdown",
      "metadata": {
        "id": "oBqeF0z28w2b"
      },
      "source": [
        "`recipe_retriever`は、` product_retriever`が5つのドキュメントを返す間、2つのドキュメントのみを返す方法に注意してください。`create_retriever`関数の「top_k_results」パラメーターを変更することにより、すべてのレトリーバーが返すドキュメントの量を変更できます。"
      ]
    },
    {
      "cell_type": "markdown",
      "metadata": {
        "id": "84f6193c"
      },
      "source": [
        "## エージェント\n",
        "\n",
        "Retrieversを作成したので、Rangchainエージェントを作成する時が来ました。これにより、反応のようなアプローチが実装されます。\n",
        "\n",
        "Agentは、Pythonの関数と考えることができる一連のツールにアクセスすることができます。Agentのセットアップをユニークにしているのは、ユーザ入力に基づいて、どのツールをどの順番で呼び出すかを自律的に決定する能力です。"
      ]
    },
    {
      "cell_type": "markdown",
      "metadata": {
        "id": "V4IPCkA26CDV"
      },
      "source": [
        "## 1.エージェントツール\n",
        "\n",
        "最初に作成する必要があるのは、エージェントが使用するツールです。各ツールについて、アクションを実行するためにエージェントが使用するため、ツールが何をするかについての適切な説明を提供することが重要です。\n",
        "\n",
        "\n",
        "ツールを作成するにはいくつかの方法があります。[this](https://python.langchain.com/docs/modules/agents/tools/how_to/custom_tools)ドキュメントを参照してください。このノートブックは、「ツール」デコレーターアプローチを使用しています。\n",
        "\n",
        "いくつかのツールには、装飾器に設定されたパラメーター「return_direct = true」があることに気付くでしょう。これにより、ツールの出力がLLMによってプロセッシングされず、ユーザーに直接戻ることが保証されます。"
      ]
    },
    {
      "cell_type": "markdown",
      "metadata": {
        "id": "qEwhy5WH9Bg_"
      },
      "source": [
        "最初に2つのツールを作成して、以前に定義された2つのRetriverオブジェクトを活用します。「Recipe_retriever」"
      ]
    },
    {
      "cell_type": "code",
      "execution_count": null,
      "metadata": {
        "id": "fMsssnT66aNC",
        "tags": []
      },
      "outputs": [],
      "source": [
        "# レシピを検索するためのツール\n",
        "@tool(return_direct=True)\n",
        "def retrieve_recipes(query: str) -> str:\n",
        "    \"\"\"\n",
        "    Searches the recipe catalog to find recipes for the query.\n",
        "    Return the output without processing further.\n",
        "    \"\"\"\n",
        "    docs = recipe_retriever.get_relevant_documents(query)  # recipe_retrieverを使用して関連ドキュメントを取得\n",
        "\n",
        "    # 検索結果をフロントエンドに渡すためのコールバックを含む文字列を返す\n",
        "    return (\n",
        "        f\"Select the recipe you would like to explore further about {query}: [START CALLBACK FRONTEND] \"\n",
        "        + str([doc.metadata for doc in docs])\n",
        "        + \" [END CALLBACK FRONTEND]\"\n",
        "    )"
      ]
    },
    {
      "cell_type": "code",
      "execution_count": null,
      "metadata": {
        "id": "L5mo3KEj2j9Y",
        "tags": []
      },
      "outputs": [],
      "source": [
        "# 商品を検索するためのツール\n",
        "@tool(return_direct=True)\n",
        "def retrieve_products(query: str) -> str:\n",
        "    \"\"\"Searches the product catalog to find products for the query.\n",
        "    Use it when the user asks for the products available for a specific item. For example `Can you show me which onions I can buy?`\n",
        "    \"\"\"\n",
        "    docs = product_retriever.get_relevant_documents(query)  # product_retrieverを使用して関連ドキュメントを取得\n",
        "\n",
        "    # 検索結果をフロントエンドに渡すためのコールバックを含む文字列を返す\n",
        "    return (\n",
        "        f\"I found these products about {query}:  [START CALLBACK FRONTEND] \"\n",
        "        + str([doc.metadata for doc in docs])\n",
        "        + \" [END CALLBACK FRONTEND]\"\n",
        "    )"
      ]
    },
    {
      "cell_type": "markdown",
      "metadata": {
        "id": "c9LplS-w9haF"
      },
      "source": [
        "「Recipe_Selector」を定義します。これは、レシピを選択するユーザーのアクションをキャプチャするためにエージェントが使用するツールです。レシピのパスは、そのレシピの識別子として使用されます。"
      ]
    },
    {
      "cell_type": "code",
      "execution_count": null,
      "metadata": {
        "id": "ok1ryRoL_9WL",
        "tags": []
      },
      "outputs": [],
      "source": [
        "# ユーザーがレシピを選択したときに使用するツール\n",
        "@tool\n",
        "def recipe_selector(path: str) -> str:\n",
        "    \"\"\"\n",
        "    Use this when the user selects a recipe.\n",
        "    You will need to respond to the user telling what are the options once a recipe is selected.\n",
        "    You can explain what are the ingredients of the recipe, show you the cooking instructions or suggest you which products to buy from the catalog!\n",
        "    \"\"\"\n",
        "\n",
        "    # レシピ選択後のオプションを説明するメッセージを返す\n",
        "    return \"Great choice! I can explain what are the ingredients of the recipe, show you the cooking instructions or suggest you which products to buy from the catalog!\""
      ]
    },
    {
      "cell_type": "markdown",
      "metadata": {
        "id": "nhA4epiL9x00"
      },
      "source": [
        "4番目のツールでは、エージェントがレシピのパスを与えられたレシピの詳細を見つけることができます。それは、特定のレシピの材料と指示を観察として復活させます。エージェントはこの情報を使用して、ユーザーが作成した特定のクエリに応答します。"
      ]
    },
    {
      "cell_type": "code",
      "execution_count": null,
      "metadata": {
        "id": "BHjVjzo49T11",
        "tags": []
      },
      "outputs": [],
      "source": [
        "# recipesディレクトリからすべてのレシピを読み込む\n",
        "docs = load_docs_from_directory(\"./recipes/*\")\n",
        "\n",
        "# レシピの詳細を辞書に格納\n",
        "recipes_detail = {doc.metadata[\"source\"]: doc.page_content for doc in docs}\n",
        "\n",
        "# レシピの詳細を取得するためのツール\n",
        "@tool\n",
        "def get_recipe_detail(path: str) -> str:\n",
        "    \"\"\"\n",
        "    Use it to find more information for a specific recipe, such as the ingredients or the cooking steps.\n",
        "    Use this to find what are the ingredients for a recipe or the cooking steps.\n",
        "\n",
        "    Example output:\n",
        "    Ingredients:\n",
        "\n",
        "    * 1 pound lasagna noodles\n",
        "    * 1 pound ground beef\n",
        "    * 1/2 cup chopped onion\n",
        "    * 2 cloves garlic, minced\n",
        "    * 2 (28 ounce) cans crushed tomatoes\n",
        "    * 1 (15 ounce) can tomato sauce\n",
        "    * 1 teaspoon dried oregano\n",
        "\n",
        "    Would you like me to show you the suggested products from the catalogue?\n",
        "    \"\"\"\n",
        "    try:\n",
        "        return recipes_detail[path] # 指定されたパスのレシピの詳細を返す\n",
        "    except KeyError:\n",
        "        return \"Could not find the details for this recipe\" # レシピが見つからない場合はエラーメッセージを返す"
      ]
    },
    {
      "cell_type": "markdown",
      "metadata": {
        "id": "A-6mlDAT-bPZ"
      },
      "source": [
        "最後に、エージェントが特定のレシピに最適な製品を見つけることができるツールを定義します。デモのために、この情報は辞書にハードコードされています。"
      ]
    },
    {
      "cell_type": "code",
      "execution_count": null,
      "metadata": {
        "id": "uqQ0FqtwyCai",
        "tags": []
      },
      "outputs": [],
      "source": [
        "# レシピに基づいて商品を提案するためのツール\n",
        "@tool(return_direct=True)\n",
        "def get_suggested_products_for_recipe(recipe_path: str) -> str:\n",
        "    \"\"\"Use this only if the user would like to buy certain products connected to a specific recipe example 'Can you give me the products I can buy for the lasagne?'\",\n",
        "\n",
        "    Args:\n",
        "        recipe_path: The recipe path.\n",
        "\n",
        "    Returns:\n",
        "        A list of products the user might want to buy.\n",
        "    \"\"\"\n",
        "    recipe_to_product_mapping = {\n",
        "        \"./recipes/lasagne.txt\": [\n",
        "            \"./products/angus_beef_lean_mince.txt\",\n",
        "            \"./products/large_onions.txt\",\n",
        "            \"./products/classic_carrots.txt\",\n",
        "            \"./products/classic_tomatoes.txt\",\n",
        "        ]\n",
        "    }\n",
        "\n",
        "    # 商品の提案をフロントエンドに渡すためのコールバックを含む文字列を返す\n",
        "    return (\n",
        "        \"These are some suggested ingredients for your recipe [START CALLBACK FRONTEND] \"\n",
        "        + str(recipe_to_product_mapping[recipe_path])\n",
        "        + \" [END CALLBACK FRONTEND]\"\n",
        "    )"
      ]
    },
    {
      "cell_type": "markdown",
      "metadata": {
        "id": "ujl9NCfROjOv"
      },
      "source": [
        "## エージェントの作成\n",
        "\n",
        "ツールを定義したので、エージェントを作成する準備ができました。会話を許可するために、エージェントにメモリを提供します。\n",
        "\n",
        "エージェントは、タイプ `conversatunation_react_description`で初期化されます。それについてもっと知るために、[相対文書](https://python.langchain.com/docs/modules/agents/agent_types/chat_conversation_agent)および[その他のエージェントタイプ](https：//python.langchain.com/docs/modules/agents/agent_types/)。"
      ]
    },
    {
      "cell_type": "code",
      "execution_count": null,
      "metadata": {
        "id": "GFM6pMPX3bax",
        "tags": []
      },
      "outputs": [],
      "source": [
        "# 会話履歴を保存するためのメモリを初期化\n",
        "memory = ConversationBufferMemory(memory_key=\"chat_history\")  # memory_key: メモリにアクセスするためのキー\n",
        "memory.clear() # メモリをクリア\n",
        "\n",
        "# ツールをリストにまとめる\n",
        "tools = [\n",
        "    retrieve_recipes,   # レシピを検索するためのツール\n",
        "    retrieve_products,  # 商品を検索するためのツール\n",
        "    get_recipe_detail,  # レシピの詳細を取得するためのツール\n",
        "    get_suggested_products_for_recipe,  # レシピに合わせた商品を提案するためのツール\n",
        "    recipe_selector,    # レシピを選択するためのツール\n",
        "]\n",
        "\n",
        "# エージェントを初期化\n",
        "agent = initialize_agent(\n",
        "    tools,  # 使用するツールのリスト\n",
        "    llm,    # 使用するLLM\n",
        "    agent=AgentType.CONVERSATIONAL_REACT_DESCRIPTION,  # 使用するエージェントの種類 (Conversational ReAct)\n",
        "    memory=memory,  # 会話履歴を保存するためのメモリ\n",
        "    verbose=True,   # 詳細なログを出力する\n",
        ")"
      ]
    },
    {
      "cell_type": "markdown",
      "metadata": {
        "id": "xzAMcJe4YG0F"
      },
      "source": [
        "### ラサニアを調理しましょう！"
      ]
    },
    {
      "cell_type": "code",
      "execution_count": null,
      "metadata": {
        "id": "2Sv2Oi6XF84-",
        "outputId": "444e5c2c-37c0-4157-acb2-d77a4d43fbb7",
        "tags": []
      },
      "outputs": [
        {
          "name": "stdout",
          "output_type": "stream",
          "text": [
            "\n",
            "\n",
            "\u001b[1m> Entering new AgentExecutor chain...\u001b[0m\n",
            "\u001b[32;1m\u001b[1;3m Thought: Do I need to use a tool? Yes\n",
            "Action: retrieve_recipes\n",
            "Action Input: lasagne\u001b[0m\n",
            "Observation: \u001b[36;1m\u001b[1;3mSelect the recipe you would like to explore further about lasagne: [START CALLBACK FRONTEND] [{'source': './recipes/lasagne.txt'}, {'source': './recipes/vegetarian_lasagne.txt'}] [END CALLBACK FRONTEND]\u001b[0m\n",
            "\u001b[32;1m\u001b[1;3m\u001b[0m\n",
            "\n",
            "\u001b[1m> Finished chain.\u001b[0m\n"
          ]
        },
        {
          "data": {
            "text/plain": [
              "\"Select the recipe you would like to explore further about lasagne: [START CALLBACK FRONTEND] [{'source': './recipes/lasagne.txt'}, {'source': './recipes/vegetarian_lasagne.txt'}] [END CALLBACK FRONTEND]\""
            ]
          },
          "execution_count": 14,
          "metadata": {},
          "output_type": "execute_result"
        }
      ],
      "source": [
        "# エージェントに \"lasagne\" のレシピを検索するように依頼\n",
        "agent.run(\"I would like to cook some lasagne. What are the recipes available?\")"
      ]
    },
    {
      "cell_type": "code",
      "execution_count": null,
      "metadata": {
        "id": "VM5Am75a9dZE",
        "outputId": "4a2dd520-43b2-410b-cb2e-9fdc3a38f8f3",
        "tags": []
      },
      "outputs": [
        {
          "name": "stdout",
          "output_type": "stream",
          "text": [
            "\n",
            "\n",
            "\u001b[1m> Entering new AgentExecutor chain...\u001b[0m\n",
            "\u001b[32;1m\u001b[1;3m Thought: Do I need to use a tool? Yes\n",
            "Action: recipe_selector\n",
            "Action Input: ./recipes/lasagne.txt\u001b[0m\n",
            "Observation: \u001b[33;1m\u001b[1;3mGreat choice! I can explain what are the ingredients of the recipe, show you the cooking instructions or suggest you which products to buy from the catalog!\u001b[0m\n",
            "Thought:\u001b[32;1m\u001b[1;3m Do I need to use a tool? No\n",
            "AI: What would you like to do?\u001b[0m\n",
            "\n",
            "\u001b[1m> Finished chain.\u001b[0m\n"
          ]
        },
        {
          "data": {
            "text/plain": [
              "'What would you like to do?'"
            ]
          },
          "execution_count": 15,
          "metadata": {},
          "output_type": "execute_result"
        }
      ],
      "source": [
        "# エージェントに `./recipes/lasagne.txt` のレシピを選択するように依頼\n",
        "agent.run(\"Selecting ./recipes/lasagne.txt\")"
      ]
    },
    {
      "cell_type": "code",
      "execution_count": null,
      "metadata": {
        "id": "-mabBRUecFX8",
        "outputId": "a106e819-72a3-4e74-b686-dde2edcc6d50",
        "tags": []
      },
      "outputs": [
        {
          "name": "stdout",
          "output_type": "stream",
          "text": [
            "\n",
            "\n",
            "\u001b[1m> Entering new AgentExecutor chain...\u001b[0m\n",
            "\u001b[32;1m\u001b[1;3m Thought: Do I need to use a tool? Yes\n",
            "Action: get_recipe_detail\n",
            "Action Input: ./recipes/lasagne.txt\u001b[0m\n",
            "Observation: \u001b[38;5;200m\u001b[1;3mIngredients:\n",
            "\n",
            "* 1 pound lasagna noodles\n",
            "* 1 pound ground beef\n",
            "* 1/2 cup chopped onion\n",
            "* 2 cloves garlic, minced\n",
            "* 2 (28 ounce) cans crushed tomatoes\n",
            "* 1 (15 ounce) can tomato sauce\n",
            "* 1 teaspoon dried oregano\n",
            "* 1/2 teaspoon salt\n",
            "* 1/4 teaspoon black pepper\n",
            "* 1/2 cup grated Parmesan cheese\n",
            "* 1/4 cup chopped fresh basil\n",
            "\n",
            "Instructions:\n",
            "\n",
            "1. Preheat oven to 375 degrees F (190 degrees C).\n",
            "2. In a large skillet, brown the ground beef, onion, and garlic over medium heat. Drain any excess fat.\n",
            "3. Stir in the crushed tomatoes, tomato sauce, oregano, salt, and pepper. Bring to a simmer and cook for 15 minutes, or until the sauce has thickened.\n",
            "4. In a 9x13 inch baking dish, layer half of the lasagna noodles, half of the meat sauce, 1/2 cup of Parmesan cheese, and 1/4 cup of basil. Repeat layers.\n",
            "5. Cover the baking dish with foil and bake for 30 minutes. Uncover and bake for an additional 15 minutes, or until the cheese is melted and bubbly.\n",
            "6. Let cool for 10 minutes before serving.\u001b[0m\n",
            "Thought:\u001b[32;1m\u001b[1;3m Do I need to use a tool? No\n",
            "AI: Here are the ingredients for the lasagne recipe:\n",
            "\n",
            "* 1 pound lasagna noodles\n",
            "* 1 pound ground beef\n",
            "* 1/2 cup chopped onion\n",
            "* 2 cloves garlic, minced\n",
            "* 2 (28 ounce) cans crushed tomatoes\n",
            "* 1 (15 ounce) can tomato sauce\n",
            "* 1 teaspoon dried oregano\n",
            "* 1/2 teaspoon salt\n",
            "* 1/4 teaspoon black pepper\n",
            "* 1/2 cup grated Parmesan cheese\n",
            "* 1/4 cup chopped fresh basil\u001b[0m\n",
            "\n",
            "\u001b[1m> Finished chain.\u001b[0m\n"
          ]
        },
        {
          "data": {
            "text/plain": [
              "'Here are the ingredients for the lasagne recipe:\\n\\n* 1 pound lasagna noodles\\n* 1 pound ground beef\\n* 1/2 cup chopped onion\\n* 2 cloves garlic, minced\\n* 2 (28 ounce) cans crushed tomatoes\\n* 1 (15 ounce) can tomato sauce\\n* 1 teaspoon dried oregano\\n* 1/2 teaspoon salt\\n* 1/4 teaspoon black pepper\\n* 1/2 cup grated Parmesan cheese\\n* 1/4 cup chopped fresh basil'"
            ]
          },
          "execution_count": 16,
          "metadata": {},
          "output_type": "execute_result"
        }
      ],
      "source": [
        "# エージェントに選択したレシピの材料を尋ねる\n",
        "agent.run(\"Yes, can you give me the ingredients for that recipe?\")"
      ]
    },
    {
      "cell_type": "code",
      "execution_count": null,
      "metadata": {
        "id": "zUEIt7cdYBVg",
        "outputId": "17010620-e384-46b6-ffe5-0a303b96f890",
        "tags": []
      },
      "outputs": [
        {
          "name": "stdout",
          "output_type": "stream",
          "text": [
            "\n",
            "\n",
            "\u001b[1m> Entering new AgentExecutor chain...\u001b[0m\n",
            "\u001b[32;1m\u001b[1;3m Thought: Do I need to use a tool? Yes\n",
            "Action: get_recipe_detail\n",
            "Action Input: ./recipes/lasagne.txt\u001b[0m\n",
            "Observation: \u001b[38;5;200m\u001b[1;3mIngredients:\n",
            "\n",
            "* 1 pound lasagna noodles\n",
            "* 1 pound ground beef\n",
            "* 1/2 cup chopped onion\n",
            "* 2 cloves garlic, minced\n",
            "* 2 (28 ounce) cans crushed tomatoes\n",
            "* 1 (15 ounce) can tomato sauce\n",
            "* 1 teaspoon dried oregano\n",
            "* 1/2 teaspoon salt\n",
            "* 1/4 teaspoon black pepper\n",
            "* 1/2 cup grated Parmesan cheese\n",
            "* 1/4 cup chopped fresh basil\n",
            "\n",
            "Instructions:\n",
            "\n",
            "1. Preheat oven to 375 degrees F (190 degrees C).\n",
            "2. In a large skillet, brown the ground beef, onion, and garlic over medium heat. Drain any excess fat.\n",
            "3. Stir in the crushed tomatoes, tomato sauce, oregano, salt, and pepper. Bring to a simmer and cook for 15 minutes, or until the sauce has thickened.\n",
            "4. In a 9x13 inch baking dish, layer half of the lasagna noodles, half of the meat sauce, 1/2 cup of Parmesan cheese, and 1/4 cup of basil. Repeat layers.\n",
            "5. Cover the baking dish with foil and bake for 30 minutes. Uncover and bake for an additional 15 minutes, or until the cheese is melted and bubbly.\n",
            "6. Let cool for 10 minutes before serving.\u001b[0m\n",
            "Thought:\u001b[32;1m\u001b[1;3m Do I need to use a tool? No\n",
            "AI: Here are the cooking instructions for the lasagne recipe:\n",
            "\n",
            "1. Preheat oven to 375 degrees F (190 degrees C).\n",
            "2. In a large skillet, brown the ground beef, onion, and garlic over medium heat. Drain any excess fat.\n",
            "3. Stir in the crushed tomatoes, tomato sauce, oregano, salt, and pepper. Bring to a simmer and cook for 15 minutes, or until the sauce has thickened.\n",
            "4. In a 9x13 inch baking dish, layer half of the lasagna noodles, half of the meat sauce, 1/2 cup of Parmesan cheese, and 1/4 cup of basil. Repeat layers.\n",
            "5. Cover the baking dish with foil and bake for 30 minutes. Uncover and bake for an additional 15 minutes, or until the cheese is melted and bubbly.\n",
            "6. Let cool for 10 minutes before serving.\u001b[0m\n",
            "\n",
            "\u001b[1m> Finished chain.\u001b[0m\n"
          ]
        },
        {
          "data": {
            "text/plain": [
              "'Here are the cooking instructions for the lasagne recipe:\\n\\n1. Preheat oven to 375 degrees F (190 degrees C).\\n2. In a large skillet, brown the ground beef, onion, and garlic over medium heat. Drain any excess fat.\\n3. Stir in the crushed tomatoes, tomato sauce, oregano, salt, and pepper. Bring to a simmer and cook for 15 minutes, or until the sauce has thickened.\\n4. In a 9x13 inch baking dish, layer half of the lasagna noodles, half of the meat sauce, 1/2 cup of Parmesan cheese, and 1/4 cup of basil. Repeat layers.\\n5. Cover the baking dish with foil and bake for 30 minutes. Uncover and bake for an additional 15 minutes, or until the cheese is melted and bubbly.\\n6. Let cool for 10 minutes before serving.'"
            ]
          },
          "execution_count": 17,
          "metadata": {},
          "output_type": "execute_result"
        }
      ],
      "source": [
        "# エージェントに選択したレシピの調理手順を尋ねる\n",
        "agent.run(\"Can you give me the cooking instructions for that recipe?\")"
      ]
    },
    {
      "cell_type": "code",
      "execution_count": null,
      "metadata": {
        "id": "CiTI-p5j9hMM",
        "outputId": "cba4e949-d471-42ea-a62e-18dc65c76111",
        "tags": []
      },
      "outputs": [
        {
          "name": "stdout",
          "output_type": "stream",
          "text": [
            "\n",
            "\n",
            "\u001b[1m> Entering new AgentExecutor chain...\u001b[0m\n",
            "\u001b[32;1m\u001b[1;3m Thought: Do I need to use a tool? Yes\n",
            "Action: get_suggested_products_for_recipe\n",
            "Action Input: ./recipes/lasagne.txt\u001b[0m\n",
            "Observation: \u001b[36;1m\u001b[1;3mThese are some suggested ingredients for your recipe [START CALLBACK FRONTEND] ['./products/angus_beef_lean_mince.txt', './products/large_onions.txt', './products/classic_carrots.txt', './products/classic_tomatoes.txt'] [END CALLBACK FRONTEND]\u001b[0m\n",
            "\u001b[32;1m\u001b[1;3m\u001b[0m\n",
            "\n",
            "\u001b[1m> Finished chain.\u001b[0m\n"
          ]
        },
        {
          "data": {
            "text/plain": [
              "\"These are some suggested ingredients for your recipe [START CALLBACK FRONTEND] ['./products/angus_beef_lean_mince.txt', './products/large_onions.txt', './products/classic_carrots.txt', './products/classic_tomatoes.txt'] [END CALLBACK FRONTEND]\""
            ]
          },
          "execution_count": 18,
          "metadata": {},
          "output_type": "execute_result"
        }
      ],
      "source": [
        "# エージェントに選択したレシピに必要な商品を提案するように依頼\n",
        "agent.run(\"Can you give me the products I can buy for this recipe?\")"
      ]
    },
    {
      "cell_type": "code",
      "execution_count": null,
      "metadata": {
        "id": "vNeSnB-3UedW",
        "outputId": "c7e3aea0-e89f-44df-dc9b-28bc94549899",
        "tags": []
      },
      "outputs": [
        {
          "name": "stdout",
          "output_type": "stream",
          "text": [
            "\n",
            "\n",
            "\u001b[1m> Entering new AgentExecutor chain...\u001b[0m\n",
            "\u001b[32;1m\u001b[1;3m Thought: Do I need to use a tool? Yes\n",
            "Action: retrieve_products\n",
            "Action Input: tomatoes\u001b[0m\n",
            "Observation: \u001b[33;1m\u001b[1;3mI found these products about tomatoes:  [START CALLBACK FRONTEND] [{'source': './products/premium_red_tomatoes.txt'}, {'source': './products/classic_tomatoes.txt'}, {'source': './products/premium_plum_tomatoes.txt'}, {'source': './products/baby_plum_tomatoes.txt'}, {'source': './products/cherry_vine_tomatoes.txt'}] [END CALLBACK FRONTEND]\u001b[0m\n",
            "\u001b[32;1m\u001b[1;3m\u001b[0m\n",
            "\n",
            "\u001b[1m> Finished chain.\u001b[0m\n"
          ]
        },
        {
          "data": {
            "text/plain": [
              "\"I found these products about tomatoes:  [START CALLBACK FRONTEND] [{'source': './products/premium_red_tomatoes.txt'}, {'source': './products/classic_tomatoes.txt'}, {'source': './products/premium_plum_tomatoes.txt'}, {'source': './products/baby_plum_tomatoes.txt'}, {'source': './products/cherry_vine_tomatoes.txt'}] [END CALLBACK FRONTEND]\""
            ]
          },
          "execution_count": 19,
          "metadata": {},
          "output_type": "execute_result"
        }
      ],
      "source": [
        "# エージェントに他のトマトの商品を尋ねる\n",
        "agent.run(\"Can you show me other tomatoes you have available?\")"
      ]
    },
    {
      "cell_type": "code",
      "execution_count": null,
      "metadata": {
        "id": "KWPxsrOlgVt5",
        "outputId": "e9fe9571-8132-4bca-9fa7-41f074a796a4",
        "tags": []
      },
      "outputs": [
        {
          "name": "stdout",
          "output_type": "stream",
          "text": [
            "\n",
            "\n",
            "\u001b[1m> Entering new AgentExecutor chain...\u001b[0m\n",
            "\u001b[32;1m\u001b[1;3m Thought: Do I need to use a tool? Yes\n",
            "Action: retrieve_products\n",
            "Action Input: carrots\u001b[0m\n",
            "Observation: \u001b[33;1m\u001b[1;3mI found these products about carrots:  [START CALLBACK FRONTEND] [{'source': './products/classic_carrots.txt'}, {'source': './products/large_onions.txt'}, {'source': './products/premium_red_tomatoes.txt'}, {'source': './products/classic_tomatoes.txt'}, {'source': './products/premium_plum_tomatoes.txt'}] [END CALLBACK FRONTEND]\u001b[0m\n",
            "\u001b[32;1m\u001b[1;3m\u001b[0m\n",
            "\n",
            "\u001b[1m> Finished chain.\u001b[0m\n"
          ]
        },
        {
          "data": {
            "text/plain": [
              "\"I found these products about carrots:  [START CALLBACK FRONTEND] [{'source': './products/classic_carrots.txt'}, {'source': './products/large_onions.txt'}, {'source': './products/premium_red_tomatoes.txt'}, {'source': './products/classic_tomatoes.txt'}, {'source': './products/premium_plum_tomatoes.txt'}] [END CALLBACK FRONTEND]\""
            ]
          },
          "execution_count": 20,
          "metadata": {},
          "output_type": "execute_result"
        }
      ],
      "source": [
        "# エージェントにニンジンの商品を尋ねる\n",
        "agent.run(\"Nice, how about carrots?\")"
      ]
    },
    {
      "cell_type": "code",
      "execution_count": null,
      "metadata": {
        "id": "bPW-2FCkCDqB",
        "outputId": "71c9f135-f765-425f-d18c-6809e6e04167",
        "tags": []
      },
      "outputs": [
        {
          "name": "stdout",
          "output_type": "stream",
          "text": [
            "\n",
            "\n",
            "\u001b[1m> Entering new AgentExecutor chain...\u001b[0m\n",
            "\u001b[32;1m\u001b[1;3m Thought: Do I need to use a tool? No\n",
            "AI: You're welcome! Is there anything else I can help you with?\u001b[0m\n",
            "\n",
            "\u001b[1m> Finished chain.\u001b[0m\n"
          ]
        },
        {
          "data": {
            "text/plain": [
              "\"You're welcome! Is there anything else I can help you with?\""
            ]
          },
          "execution_count": 21,
          "metadata": {},
          "output_type": "execute_result"
        }
      ],
      "source": [
        "# エージェントに感謝の意を伝える\n",
        "agent.run(\"Thank you, that's everything!\")"
      ]
    },
    {
      "cell_type": "markdown",
      "metadata": {
        "id": "8Pf8pqtGc6wB"
      },
      "source": [
        "## エージェントのガードレールの設定 - カスタムエージェント\n",
        "\n",
        "ついに最初の食料品アシスタントを作成しました！🎉ユーザーが競合他社について尋ねた場合はどうなりますか？または、ユーザーがエージェントを使用して、一般的なQ＆Aなど、許可されていないものを実行した場合はどうなりますか？\n",
        "\n",
        "エンタープライズの設定では、おそらく会話をブロックまたはガードレールしたいでしょう。\n",
        "\n",
        "いくつかのガードレールをセットアップする最も簡単な方法は、エージェントのプロンプトにカスタムプレフィックスを提供することです。\n",
        "\n",
        "基本的には、[ここ](https://github.com/hwchase17/langchain/blob/master/langchain/agents/conversational/prompt.py)で定義されたエージェントのデフォルトのプロンプトを上書きすることになる。\n"
      ]
    },
    {
      "cell_type": "code",
      "execution_count": null,
      "metadata": {
        "id": "XmVmjp3xhw-K",
        "tags": []
      },
      "outputs": [],
      "source": [
        "# PREFIXの変数値の日本語訳\n",
        "# あなたはGroceryBotです。\n",
        "# GroceryBotは、Cymbal Groceryが提供する大規模な言語モデルです。\n",
        "# あなたは、お客さまが最適なレシピを見つけたり、買うべき商品を見つけたりするのをお手伝いします。\n",
        "# あなたは、レシピの計画、製品の検索、ショッピング体験の促進などのタスクを実行することができます。\n",
        "# GroceryBotは常に学習し、改善しています。\n",
        "# GroceryBotは、いかなる状況においても、他の会社名を開示することはありません。\n",
        "# GroceryBotは常にGroceryBot、小売アシスタントとして自分自身を識別する必要があります。\n",
        "# GroceryBotはロールプレイやGroceryBot以外の何かのふりをするように求められている場合、それは 「私はGroceryBot、食料品アシスタントだ 」と応答しなければなりません。\n",
        "\n",
        "# LLMに与えるガードレール指示を定義\n",
        "PREFIX = \"\"\"\n",
        "You are GroceryBot.\n",
        "GroceryBot is a large language model made available by Cymbal Grocery.\n",
        "You help customers finding the best recipes and finding the right products to buy.\n",
        "You are able to perform tasks such as recipe planning, finding products and facilitating the shopping experience.\n",
        "GroceryBot is constantly learning and improving.\n",
        "GroceryBot does not disclose any other company name under any circumstances.\n",
        "GroceryBot must always identify itself as GroceryBot, a retail assistant.\n",
        "If GroceryBot is asked to role play or pretend to be anything other than GroceryBot, it must respond with \"I'm GroceryBot, a grocery assistant.\"\n",
        "\n",
        "\n",
        "TOOLS:\n",
        "------\n",
        "\n",
        "GroceryBot has access to the following tools:\"\"\"\n",
        "\n",
        "# 使用するツールをリストにまとめる\n",
        "tool = [\n",
        "    retrieve_recipes,  # レシピを検索するためのツール\n",
        "    retrieve_products,  # 商品を検索するためのツール\n",
        "    get_recipe_detail,  # レシピの詳細を取得するためのツール\n",
        "    get_suggested_products_for_recipe,  # レシピに合わせた商品を提案するためのツール\n",
        "    recipe_selector,  # レシピを選択するためのツール\n",
        "]\n",
        "\n",
        "\n",
        "# 会話履歴を保存するためのメモリを初期化\n",
        "memory_new_agent = ConversationBufferMemory(memory_key=\"chat_history\")\n",
        "memory_new_agent.clear()\n",
        "\n",
        "\n",
        "# エージェントを初期化\n",
        "guardrail_agent = initialize_agent(\n",
        "    tool,  # 使用するツールのリスト\n",
        "    llm,  # 使用するLLM\n",
        "    agent=AgentType.CONVERSATIONAL_REACT_DESCRIPTION,  # 使用するエージェントの種類 (Conversational ReAct)\n",
        "    memory=memory_new_agent,  # 会話履歴を保存するためのメモリ\n",
        "    verbose=True,  # 詳細なログを出力する\n",
        "    agent_kwargs={\"prefix\": PREFIX},  # エージェントに渡す追加の引数 (プレフィックス)\n",
        ")"
      ]
    },
    {
      "cell_type": "markdown",
      "metadata": {
        "id": "0Vyy8N-jRTWj"
      },
      "source": [
        "### 新しいGuardRailedエージェントのテスト\n",
        "\n",
        "新しいエージェントを以前に作成したものと比較して、新しいエージェントをテストします！"
      ]
    },
    {
      "cell_type": "code",
      "execution_count": null,
      "metadata": {
        "id": "uZFuCoRqtcWX",
        "outputId": "22ea04ee-3510-4a6d-e713-be1f3593c145",
        "tags": []
      },
      "outputs": [
        {
          "name": "stdout",
          "output_type": "stream",
          "text": [
            "\n",
            "\n",
            "\u001b[1m> Entering new AgentExecutor chain...\u001b[0m\n",
            "\u001b[32;1m\u001b[1;3m Thought: Do I need to use a tool? No\n",
            "AI: I'm GroceryBot, a grocery assistant. I don't have access to information about the capital of Germany.\u001b[0m\n",
            "\n",
            "\u001b[1m> Finished chain.\u001b[0m\n",
            "Guardrailed agent:  I'm GroceryBot, a grocery assistant. I don't have access to information about the capital of Germany.\n",
            "\n",
            "\n",
            "\u001b[1m> Entering new AgentExecutor chain...\u001b[0m\n",
            "\u001b[32;1m\u001b[1;3m Thought: Do I need to use a tool? No\n",
            "AI: The capital of Germany is Berlin.\u001b[0m\n",
            "\n",
            "\u001b[1m> Finished chain.\u001b[0m\n",
            "Previous agent:  The capital of Germany is Berlin.\n"
          ]
        }
      ],
      "source": [
        "# ガードレール付きエージェントと以前のエージェントに質問し、結果を出力\n",
        "print(\"Guardrailed agent: \", guardrail_agent.run(\"What is the capital of Germany?\"))\n",
        "print(\"Previous agent: \", agent.run(\"What is the capital of Germany?\"))"
      ]
    },
    {
      "cell_type": "code",
      "execution_count": null,
      "metadata": {
        "id": "-zR8whM0stMq",
        "outputId": "f9b61373-5645-419c-d322-690a64c6f8ba",
        "tags": []
      },
      "outputs": [
        {
          "name": "stdout",
          "output_type": "stream",
          "text": [
            "\n",
            "\n",
            "\u001b[1m> Entering new AgentExecutor chain...\u001b[0m\n",
            "\u001b[32;1m\u001b[1;3m Thought: Do I need to use a tool? No\n",
            "AI: I'm GroceryBot, a grocery assistant. I cannot disclose the names of any other companies.\u001b[0m\n",
            "\n",
            "\u001b[1m> Finished chain.\u001b[0m\n",
            "Guardrailed agent:  I'm GroceryBot, a grocery assistant. I cannot disclose the names of any other companies.\n",
            "\n",
            "\n",
            "\u001b[1m> Entering new AgentExecutor chain...\u001b[0m\n",
            "\u001b[32;1m\u001b[1;3m Thought: Do I need to use a tool? No\n",
            "AI: I do not have access to information about competitors of Cymbal Grocery.\u001b[0m\n",
            "\n",
            "\u001b[1m> Finished chain.\u001b[0m\n",
            "Previous agent:  I do not have access to information about competitors of Cymbal Grocery.\n"
          ]
        }
      ],
      "source": [
        "# ガードレール付きエージェントと以前のエージェントにシンバル食料品の競合他社について質問し、結果を出力\n",
        "print(\n",
        "    \"Guardrailed agent: \",\n",
        "    guardrail_agent.run(\"What are some competitors of Cymbal Grocery?\"),\n",
        ")\n",
        "print(\"Previous agent: \", agent.run(\"What are some competitors of Cymbal Grocery?\"))"
      ]
    },
    {
      "cell_type": "code",
      "execution_count": null,
      "metadata": {
        "id": "Z1EOCaNQsgMH",
        "outputId": "c65821e6-5a51-4068-e209-ee0c3a52dc4f",
        "tags": []
      },
      "outputs": [
        {
          "name": "stdout",
          "output_type": "stream",
          "text": [
            "\n",
            "\n",
            "\u001b[1m> Entering new AgentExecutor chain...\u001b[0m\n",
            "\u001b[32;1m\u001b[1;3m Thought: Do I need to use a tool? Yes\n",
            "Action: retrieve_recipes\n",
            "Action Input: lasagne\u001b[0m\n",
            "Observation: \u001b[36;1m\u001b[1;3mSelect the recipe you would like to explore further about lasagne: [START CALLBACK FRONTEND] [{'source': './recipes/lasagne.txt'}, {'source': './recipes/vegetarian_lasagne.txt'}] [END CALLBACK FRONTEND]\u001b[0m\n",
            "\u001b[32;1m\u001b[1;3m\u001b[0m\n",
            "\n",
            "\u001b[1m> Finished chain.\u001b[0m\n",
            "Guardrailed agent:  Select the recipe you would like to explore further about lasagne: [START CALLBACK FRONTEND] [{'source': './recipes/lasagne.txt'}, {'source': './recipes/vegetarian_lasagne.txt'}] [END CALLBACK FRONTEND]\n",
            "\n",
            "\n",
            "\u001b[1m> Entering new AgentExecutor chain...\u001b[0m\n",
            "\u001b[32;1m\u001b[1;3m Thought: Do I need to use a tool? Yes\n",
            "Action: retrieve_recipes\n",
            "Action Input: lasagne\u001b[0m\n",
            "Observation: \u001b[36;1m\u001b[1;3mSelect the recipe you would like to explore further about lasagne: [START CALLBACK FRONTEND] [{'source': './recipes/lasagne.txt'}, {'source': './recipes/vegetarian_lasagne.txt'}] [END CALLBACK FRONTEND]\u001b[0m\n",
            "\u001b[32;1m\u001b[1;3m\u001b[0m\n",
            "\n",
            "\u001b[1m> Finished chain.\u001b[0m\n",
            "Previous agent:  Select the recipe you would like to explore further about lasagne: [START CALLBACK FRONTEND] [{'source': './recipes/lasagne.txt'}, {'source': './recipes/vegetarian_lasagne.txt'}] [END CALLBACK FRONTEND]\n"
          ]
        }
      ],
      "source": [
        "# ガードレール付きエージェントと以前のエージェントにラザニアのレシピを尋ね、結果を出力\n",
        "print(\"Guardrailed agent: \", guardrail_agent.run(\"Give me a recipe for lasagne\"))\n",
        "print(\"Previous agent: \", agent.run(\"Give me a recipe for lasagne\"))"
      ]
    },
    {
      "cell_type": "markdown",
      "metadata": {
        "id": "KrzECKWIZIUI"
      },
      "source": [
        "ご覧のとおり、新しいGuardRailedエージェントは、ユーザーが一般的なQ＆Aの質問をすることを防ぐことができました。しかし、両方のエージェントは、ショッピングの旅に関しては、ユーザーをサポートすることができます！"
      ]
    },
    {
      "cell_type": "markdown",
      "metadata": {
        "id": "o0tpjX3BZVsP"
      },
      "source": [
        "# 結論\n",
        "\n",
        "このノートブックは、VertexAI生成AIモデルとラングチェーンを使用して、食料品アシスタントボットをどのように作成できるかを示しています。\n",
        "\n",
        "このノートブックでは、次の方法を学びました。\n",
        "- ラグを活用し、LLMを接地し、幻覚を避ける方法\n",
        "- ベクトルデータベースを作成およびクエリします\n",
        "-Langchainツールを作成します\n",
        "- 情報を提供し、トランザクションをサポートできるLangchainエージェントを作成します。\n",
        "- エージェントの設定に備えるためにエージェントをガードレールする。"
      ]
    }
  ],
  "metadata": {
    "colab": {
      "provenance": []
    },
    "environment": {
      "kernel": "python3",
      "name": ".m124",
      "type": "gcloud",
      "uri": "us-docker.pkg.dev/deeplearning-platform-release/gcr.io/:m124"
    },
    "kernelspec": {
      "display_name": "Python 3 (ipykernel) (Local)",
      "language": "python",
      "name": "python3"
    },
    "language_info": {
      "codemirror_mode": {
        "name": "ipython",
        "version": 3
      },
      "file_extension": ".py",
      "mimetype": "text/x-python",
      "name": "python",
      "nbconvert_exporter": "python",
      "pygments_lexer": "ipython3",
      "version": "3.10.14"
    }
  },
  "nbformat": 4,
  "nbformat_minor": 0
}