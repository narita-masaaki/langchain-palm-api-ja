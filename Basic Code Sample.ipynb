{
  "cells": [
    {
      "cell_type": "markdown",
      "source": [
        "# 1.LCELでシンプルなテキスト生成アプリケーション"
      ],
      "metadata": {
        "id": "p8gXKTZHmyuD"
      },
      "id": "p8gXKTZHmyuD"
    },
    {
      "cell_type": "markdown",
      "source": [
        "### (1)シックレートキー読み込み"
      ],
      "metadata": {
        "id": "_smoWQAtlEBM"
      },
      "id": "_smoWQAtlEBM"
    },
    {
      "cell_type": "code",
      "source": [
        "!pip install google-cloud-secret-manager"
      ],
      "metadata": {
        "id": "JSUQh2iclKys"
      },
      "id": "JSUQh2iclKys",
      "execution_count": null,
      "outputs": []
    },
    {
      "cell_type": "code",
      "source": [
        "from google.cloud import secretmanager\n",
        "def access_secret_version(secret_id, version_id=\"latest\"):\n",
        "    client = secretmanager.SecretManagerServiceClient()\n",
        "    name = client.secret_version_path(\"[Google Cloud Your Project]\",secret_id, version_id)\n",
        "    response = client.access_secret_version(request={\"name\": name})\n",
        "    return response.payload.data.decode(\"UTF-8\")\n",
        "\n",
        "secret_id = \"GEMINI_API_KEY\"\n",
        "api_key = access_secret_version(secret_id)"
      ],
      "metadata": {
        "id": "lR6hnGjrlWkP"
      },
      "id": "lR6hnGjrlWkP",
      "execution_count": null,
      "outputs": []
    },
    {
      "cell_type": "markdown",
      "source": [
        "### (2)ライブラリインストール"
      ],
      "metadata": {
        "id": "NbNjw1r7jthS"
      },
      "id": "NbNjw1r7jthS"
    },
    {
      "cell_type": "code",
      "id": "A7iY1NQhI71UFqpzOq0PwWOf",
      "metadata": {
        "tags": [],
        "id": "A7iY1NQhI71UFqpzOq0PwWOf",
        "colab": {
          "base_uri": "https://localhost:8080/"
        },
        "executionInfo": {
          "status": "ok",
          "timestamp": 1726067463845,
          "user_tz": -540,
          "elapsed": 8149,
          "user": {
            "displayName": "",
            "userId": ""
          }
        },
        "outputId": "51e9716d-3263-4159-82ce-48bb6e639a5f"
      },
      "source": [
        "# Vertex AI LLM SDK、langchainと依存関係をインストール\n",
        "! pip install google-cloud-aiplatform langchain==0.0.323"
      ],
      "execution_count": 1,
      "outputs": [
        {
          "output_type": "stream",
          "name": "stdout",
          "text": [
            "Requirement already satisfied: google-cloud-aiplatform in /usr/local/lib/python3.10/dist-packages (1.66.0)\n",
            "Collecting langchain==0.0.323\n",
            "  Using cached langchain-0.0.323-py3-none-any.whl.metadata (15 kB)\n",
            "Requirement already satisfied: PyYAML>=5.3 in /usr/local/lib/python3.10/dist-packages (from langchain==0.0.323) (6.0.2)\n",
            "Requirement already satisfied: SQLAlchemy<3,>=1.4 in /usr/local/lib/python3.10/dist-packages (from langchain==0.0.323) (2.0.32)\n",
            "Requirement already satisfied: aiohttp<4.0.0,>=3.8.3 in /usr/local/lib/python3.10/dist-packages (from langchain==0.0.323) (3.10.5)\n",
            "Requirement already satisfied: anyio<4.0 in /usr/local/lib/python3.10/dist-packages (from langchain==0.0.323) (3.7.1)\n",
            "Requirement already satisfied: async-timeout<5.0.0,>=4.0.0 in /usr/local/lib/python3.10/dist-packages (from langchain==0.0.323) (4.0.3)\n",
            "Requirement already satisfied: dataclasses-json<0.7,>=0.5.7 in /usr/local/lib/python3.10/dist-packages (from langchain==0.0.323) (0.6.7)\n",
            "Requirement already satisfied: jsonpatch<2.0,>=1.33 in /usr/local/lib/python3.10/dist-packages (from langchain==0.0.323) (1.33)\n",
            "Collecting langsmith<0.1.0,>=0.0.43 (from langchain==0.0.323)\n",
            "  Using cached langsmith-0.0.92-py3-none-any.whl.metadata (9.9 kB)\n",
            "Requirement already satisfied: numpy<2,>=1 in /usr/local/lib/python3.10/dist-packages (from langchain==0.0.323) (1.26.4)\n",
            "Requirement already satisfied: pydantic<3,>=1 in /usr/local/lib/python3.10/dist-packages (from langchain==0.0.323) (1.10.8)\n",
            "Requirement already satisfied: requests<3,>=2 in /usr/local/lib/python3.10/dist-packages (from langchain==0.0.323) (2.32.3)\n",
            "Requirement already satisfied: tenacity<9.0.0,>=8.1.0 in /usr/local/lib/python3.10/dist-packages (from langchain==0.0.323) (8.5.0)\n",
            "Requirement already satisfied: google-api-core!=2.0.*,!=2.1.*,!=2.2.*,!=2.3.*,!=2.4.*,!=2.5.*,!=2.6.*,!=2.7.*,<3.0.0dev,>=1.34.1 in /usr/local/lib/python3.10/dist-packages (from google-api-core[grpc]!=2.0.*,!=2.1.*,!=2.2.*,!=2.3.*,!=2.4.*,!=2.5.*,!=2.6.*,!=2.7.*,<3.0.0dev,>=1.34.1->google-cloud-aiplatform) (2.19.1)\n",
            "Requirement already satisfied: google-auth<3.0.0dev,>=2.14.1 in /usr/local/lib/python3.10/dist-packages (from google-cloud-aiplatform) (2.27.0)\n",
            "Requirement already satisfied: proto-plus<2.0.0dev,>=1.22.3 in /usr/local/lib/python3.10/dist-packages (from google-cloud-aiplatform) (1.24.0)\n",
            "Requirement already satisfied: protobuf!=4.21.0,!=4.21.1,!=4.21.2,!=4.21.3,!=4.21.4,!=4.21.5,<6.0.0dev,>=3.20.2 in /usr/local/lib/python3.10/dist-packages (from google-cloud-aiplatform) (3.20.3)\n",
            "Requirement already satisfied: packaging>=14.3 in /usr/local/lib/python3.10/dist-packages (from google-cloud-aiplatform) (24.1)\n",
            "Requirement already satisfied: google-cloud-storage<3.0.0dev,>=1.32.0 in /usr/local/lib/python3.10/dist-packages (from google-cloud-aiplatform) (2.18.2)\n",
            "Requirement already satisfied: google-cloud-bigquery!=3.20.0,<4.0.0dev,>=1.15.0 in /usr/local/lib/python3.10/dist-packages (from google-cloud-aiplatform) (3.25.0)\n",
            "Requirement already satisfied: google-cloud-resource-manager<3.0.0dev,>=1.3.3 in /usr/local/lib/python3.10/dist-packages (from google-cloud-aiplatform) (1.12.5)\n",
            "Requirement already satisfied: shapely<3.0.0dev in /usr/local/lib/python3.10/dist-packages (from google-cloud-aiplatform) (2.0.6)\n",
            "Requirement already satisfied: docstring-parser<1 in /usr/local/lib/python3.10/dist-packages (from google-cloud-aiplatform) (0.16)\n",
            "Requirement already satisfied: aiohappyeyeballs>=2.3.0 in /usr/local/lib/python3.10/dist-packages (from aiohttp<4.0.0,>=3.8.3->langchain==0.0.323) (2.4.0)\n",
            "Requirement already satisfied: aiosignal>=1.1.2 in /usr/local/lib/python3.10/dist-packages (from aiohttp<4.0.0,>=3.8.3->langchain==0.0.323) (1.3.1)\n",
            "Requirement already satisfied: attrs>=17.3.0 in /usr/local/lib/python3.10/dist-packages (from aiohttp<4.0.0,>=3.8.3->langchain==0.0.323) (24.2.0)\n",
            "Requirement already satisfied: frozenlist>=1.1.1 in /usr/local/lib/python3.10/dist-packages (from aiohttp<4.0.0,>=3.8.3->langchain==0.0.323) (1.4.1)\n",
            "Requirement already satisfied: multidict<7.0,>=4.5 in /usr/local/lib/python3.10/dist-packages (from aiohttp<4.0.0,>=3.8.3->langchain==0.0.323) (6.0.5)\n",
            "Requirement already satisfied: yarl<2.0,>=1.0 in /usr/local/lib/python3.10/dist-packages (from aiohttp<4.0.0,>=3.8.3->langchain==0.0.323) (1.9.4)\n",
            "Requirement already satisfied: idna>=2.8 in /usr/local/lib/python3.10/dist-packages (from anyio<4.0->langchain==0.0.323) (3.8)\n",
            "Requirement already satisfied: sniffio>=1.1 in /usr/local/lib/python3.10/dist-packages (from anyio<4.0->langchain==0.0.323) (1.3.1)\n",
            "Requirement already satisfied: exceptiongroup in /usr/local/lib/python3.10/dist-packages (from anyio<4.0->langchain==0.0.323) (1.2.2)\n",
            "Requirement already satisfied: marshmallow<4.0.0,>=3.18.0 in /usr/local/lib/python3.10/dist-packages (from dataclasses-json<0.7,>=0.5.7->langchain==0.0.323) (3.22.0)\n",
            "Requirement already satisfied: typing-inspect<1,>=0.4.0 in /root/.local/lib/python3.10/site-packages (from dataclasses-json<0.7,>=0.5.7->langchain==0.0.323) (0.8.0)\n",
            "Requirement already satisfied: googleapis-common-protos<2.0.dev0,>=1.56.2 in /usr/local/lib/python3.10/dist-packages (from google-api-core!=2.0.*,!=2.1.*,!=2.2.*,!=2.3.*,!=2.4.*,!=2.5.*,!=2.6.*,!=2.7.*,<3.0.0dev,>=1.34.1->google-api-core[grpc]!=2.0.*,!=2.1.*,!=2.2.*,!=2.3.*,!=2.4.*,!=2.5.*,!=2.6.*,!=2.7.*,<3.0.0dev,>=1.34.1->google-cloud-aiplatform) (1.64.0)\n",
            "Requirement already satisfied: grpcio<2.0dev,>=1.33.2 in /usr/local/lib/python3.10/dist-packages (from google-api-core[grpc]!=2.0.*,!=2.1.*,!=2.2.*,!=2.3.*,!=2.4.*,!=2.5.*,!=2.6.*,!=2.7.*,<3.0.0dev,>=1.34.1->google-cloud-aiplatform) (1.64.1)\n",
            "Requirement already satisfied: grpcio-status<2.0.dev0,>=1.33.2 in /usr/local/lib/python3.10/dist-packages (from google-api-core[grpc]!=2.0.*,!=2.1.*,!=2.2.*,!=2.3.*,!=2.4.*,!=2.5.*,!=2.6.*,!=2.7.*,<3.0.0dev,>=1.34.1->google-cloud-aiplatform) (1.48.2)\n",
            "Requirement already satisfied: cachetools<6.0,>=2.0.0 in /usr/local/lib/python3.10/dist-packages (from google-auth<3.0.0dev,>=2.14.1->google-cloud-aiplatform) (5.5.0)\n",
            "Requirement already satisfied: pyasn1-modules>=0.2.1 in /usr/local/lib/python3.10/dist-packages (from google-auth<3.0.0dev,>=2.14.1->google-cloud-aiplatform) (0.4.0)\n",
            "Requirement already satisfied: rsa<5,>=3.1.4 in /usr/local/lib/python3.10/dist-packages (from google-auth<3.0.0dev,>=2.14.1->google-cloud-aiplatform) (4.9)\n",
            "Requirement already satisfied: google-cloud-core<3.0.0dev,>=1.6.0 in /usr/local/lib/python3.10/dist-packages (from google-cloud-bigquery!=3.20.0,<4.0.0dev,>=1.15.0->google-cloud-aiplatform) (2.4.1)\n",
            "Requirement already satisfied: google-resumable-media<3.0dev,>=0.6.0 in /usr/local/lib/python3.10/dist-packages (from google-cloud-bigquery!=3.20.0,<4.0.0dev,>=1.15.0->google-cloud-aiplatform) (2.7.2)\n",
            "Requirement already satisfied: python-dateutil<3.0dev,>=2.7.2 in /usr/local/lib/python3.10/dist-packages (from google-cloud-bigquery!=3.20.0,<4.0.0dev,>=1.15.0->google-cloud-aiplatform) (2.8.2)\n",
            "Requirement already satisfied: grpc-google-iam-v1<1.0.0dev,>=0.12.4 in /usr/local/lib/python3.10/dist-packages (from google-cloud-resource-manager<3.0.0dev,>=1.3.3->google-cloud-aiplatform) (0.13.1)\n",
            "Requirement already satisfied: google-crc32c<2.0dev,>=1.0 in /usr/local/lib/python3.10/dist-packages (from google-cloud-storage<3.0.0dev,>=1.32.0->google-cloud-aiplatform) (1.5.0)\n",
            "Requirement already satisfied: jsonpointer>=1.9 in /usr/local/lib/python3.10/dist-packages (from jsonpatch<2.0,>=1.33->langchain==0.0.323) (3.0.0)\n",
            "Requirement already satisfied: typing-extensions>=4.2.0 in /usr/local/lib/python3.10/dist-packages (from pydantic<3,>=1->langchain==0.0.323) (4.12.2)\n",
            "Requirement already satisfied: charset-normalizer<4,>=2 in /usr/local/lib/python3.10/dist-packages (from requests<3,>=2->langchain==0.0.323) (3.3.2)\n",
            "Requirement already satisfied: urllib3<3,>=1.21.1 in /usr/local/lib/python3.10/dist-packages (from requests<3,>=2->langchain==0.0.323) (2.0.7)\n",
            "Requirement already satisfied: certifi>=2017.4.17 in /usr/local/lib/python3.10/dist-packages (from requests<3,>=2->langchain==0.0.323) (2024.7.4)\n",
            "Requirement already satisfied: greenlet!=0.4.17 in /usr/local/lib/python3.10/dist-packages (from SQLAlchemy<3,>=1.4->langchain==0.0.323) (3.0.3)\n",
            "Requirement already satisfied: pyasn1<0.7.0,>=0.4.6 in /usr/local/lib/python3.10/dist-packages (from pyasn1-modules>=0.2.1->google-auth<3.0.0dev,>=2.14.1->google-cloud-aiplatform) (0.6.0)\n",
            "Requirement already satisfied: six>=1.5 in /usr/local/lib/python3.10/dist-packages (from python-dateutil<3.0dev,>=2.7.2->google-cloud-bigquery!=3.20.0,<4.0.0dev,>=1.15.0->google-cloud-aiplatform) (1.16.0)\n",
            "Requirement already satisfied: mypy-extensions>=0.3.0 in /usr/local/lib/python3.10/dist-packages (from typing-inspect<1,>=0.4.0->dataclasses-json<0.7,>=0.5.7->langchain==0.0.323) (1.0.0)\n",
            "Using cached langchain-0.0.323-py3-none-any.whl (1.9 MB)\n",
            "Using cached langsmith-0.0.92-py3-none-any.whl (56 kB)\n",
            "Installing collected packages: langsmith, langchain\n",
            "  Attempting uninstall: langsmith\n",
            "    Found existing installation: langsmith 0.1.117\n",
            "    Uninstalling langsmith-0.1.117:\n",
            "      Successfully uninstalled langsmith-0.1.117\n",
            "  Attempting uninstall: langchain\n",
            "    Found existing installation: langchain 0.2.16\n",
            "    Uninstalling langchain-0.2.16:\n",
            "      Successfully uninstalled langchain-0.2.16\n",
            "\u001b[31mERROR: pip's dependency resolver does not currently take into account all the packages that are installed. This behaviour is the source of the following dependency conflicts.\n",
            "langchain-community 0.2.16 requires langchain<0.3.0,>=0.2.16, but you have langchain 0.0.323 which is incompatible.\n",
            "langchain-community 0.2.16 requires langsmith<0.2.0,>=0.1.0, but you have langsmith 0.0.92 which is incompatible.\n",
            "langchain-core 0.2.39 requires langsmith<0.2.0,>=0.1.112, but you have langsmith 0.0.92 which is incompatible.\u001b[0m\u001b[31m\n",
            "\u001b[0mSuccessfully installed langchain-0.0.323 langsmith-0.0.92\n"
          ]
        }
      ]
    },
    {
      "cell_type": "markdown",
      "source": [
        "## (3)ライブラリのバージョン表示"
      ],
      "metadata": {
        "id": "NXxOfjR8jz-N"
      },
      "id": "NXxOfjR8jz-N"
    },
    {
      "cell_type": "code",
      "source": [
        "# Utils ユーティリティ関数\n",
        "from langchain.schema import HumanMessage, SystemMessage  # LangChainのHumanMessageとSystemMessageをインポートします。\n",
        "from langchain.llms import VertexAI                       # LangChainのVertexAIをインポートします。\n",
        "from langchain.embeddings import VertexAIEmbeddings       # LangChainのVertexAIEmbeddingsをインポートします。\n",
        "from langchain.chat_models import ChatVertexAI            # LangChainのChatVertexAIをインポートします。\n",
        "from google.cloud import aiplatform                       # google-cloud-aiplatformからaiplatformをインポートします。\n",
        "import time                                               # timeモジュールをインポートします。\n",
        "from typing import List                                   # typingモジュールからListをインポートします。\n",
        "\n",
        "# LangChain\n",
        "import langchain\n",
        "from pydantic import BaseModel\n",
        "\n",
        "print(f\"LangChain version: {langchain.__version__}\")  # LangChainのバージョンを表示します。\n",
        "\n",
        "# Vertex AI\n",
        "print(f\"Vertex AI SDK version: {aiplatform.__version__}\") # Vertex AI SDKのバージョンを表示します。"
      ],
      "metadata": {
        "colab": {
          "base_uri": "https://localhost:8080/"
        },
        "id": "yekF5COpjOBS",
        "executionInfo": {
          "status": "ok",
          "timestamp": 1726067479324,
          "user_tz": -540,
          "elapsed": 5688,
          "user": {
            "displayName": "",
            "userId": ""
          }
        },
        "outputId": "8066d3b0-29ad-4475-9eb6-e8343ef1b521"
      },
      "id": "yekF5COpjOBS",
      "execution_count": 2,
      "outputs": [
        {
          "output_type": "stream",
          "name": "stdout",
          "text": [
            "LangChain version: 0.0.323\n",
            "Vertex AI SDK version: 1.66.0\n"
          ]
        }
      ]
    },
    {
      "cell_type": "markdown",
      "source": [
        "### (4)モデル初期化"
      ],
      "metadata": {
        "id": "gsN1m4E0lfdh"
      },
      "id": "gsN1m4E0lfdh"
    },
    {
      "cell_type": "code",
      "source": [
        "import os\n",
        "\n",
        "# os.environ[\"GOOGLE_API_KEY\"] = secret_id\n",
        "from langchain_google_vertexai import ChatVertexAI\n",
        "\n",
        "model = ChatVertexAI(model=\"gemini-1.5-flash\")"
      ],
      "metadata": {
        "id": "b-a_j197ljVD",
        "executionInfo": {
          "status": "ok",
          "timestamp": 1726067489211,
          "user_tz": -540,
          "elapsed": 1341,
          "user": {
            "displayName": "",
            "userId": ""
          }
        }
      },
      "id": "b-a_j197ljVD",
      "execution_count": 3,
      "outputs": []
    },
    {
      "cell_type": "markdown",
      "source": [
        "### (5)LLMモデルのシンプルな生成"
      ],
      "metadata": {
        "id": "rKFR6FqWl1Aa"
      },
      "id": "rKFR6FqWl1Aa"
    },
    {
      "cell_type": "markdown",
      "source": [
        "プロンプトテンプレート、Outputパーサー設定"
      ],
      "metadata": {
        "id": "YD3ELMc2mFdr"
      },
      "id": "YD3ELMc2mFdr"
    },
    {
      "cell_type": "code",
      "source": [
        "from langchain_core.output_parsers import StrOutputParser\n",
        "from langchain_core.prompts import ChatPromptTemplate\n",
        "\n",
        "prompt = ChatPromptTemplate.from_template(\"{topic}について、1行のビジネス川柳を作成してね\")\n",
        "\n",
        "chain = prompt | model | StrOutputParser()"
      ],
      "metadata": {
        "id": "HLA8iVpnmCe3",
        "executionInfo": {
          "status": "ok",
          "timestamp": 1726067495692,
          "user_tz": -540,
          "elapsed": 389,
          "user": {
            "displayName": "",
            "userId": ""
          }
        }
      },
      "id": "HLA8iVpnmCe3",
      "execution_count": 4,
      "outputs": []
    },
    {
      "cell_type": "markdown",
      "source": [
        "プロンプトから生成を実行"
      ],
      "metadata": {
        "id": "obEDi875mVGu"
      },
      "id": "obEDi875mVGu"
    },
    {
      "cell_type": "code",
      "source": [
        "chain.invoke({\"topic\": \"LLM\"})"
      ],
      "metadata": {
        "colab": {
          "base_uri": "https://localhost:8080/",
          "height": 36
        },
        "id": "_6nGYxyrmO5r",
        "executionInfo": {
          "status": "ok",
          "timestamp": 1726067501093,
          "user_tz": -540,
          "elapsed": 765,
          "user": {
            "displayName": "",
            "userId": ""
          }
        },
        "outputId": "54d17404-38ad-46cf-d7f6-57f05da953f3"
      },
      "id": "_6nGYxyrmO5r",
      "execution_count": 5,
      "outputs": [
        {
          "output_type": "execute_result",
          "data": {
            "text/plain": [
              "'言葉紡ぎ、知恵と創造、未来拓く。 \\n'"
            ],
            "application/vnd.google.colaboratory.intrinsic+json": {
              "type": "string"
            }
          },
          "metadata": {},
          "execution_count": 5
        }
      ]
    },
    {
      "cell_type": "code",
      "source": [
        "chain.invoke({\"topic\": \"Google Cloud\"})"
      ],
      "metadata": {
        "colab": {
          "base_uri": "https://localhost:8080/",
          "height": 36
        },
        "id": "zMTaNJiEmiyA",
        "executionInfo": {
          "status": "ok",
          "timestamp": 1726067504230,
          "user_tz": -540,
          "elapsed": 373,
          "user": {
            "displayName": "",
            "userId": ""
          }
        },
        "outputId": "32e7a6ba-e631-4d17-d1a3-72b5ba64475d"
      },
      "id": "zMTaNJiEmiyA",
      "execution_count": 6,
      "outputs": [
        {
          "output_type": "execute_result",
          "data": {
            "text/plain": [
              "'クラウドの力、Googleが支え、ビジネス躍進！ \\n'"
            ],
            "application/vnd.google.colaboratory.intrinsic+json": {
              "type": "string"
            }
          },
          "metadata": {},
          "execution_count": 6
        }
      ]
    },
    {
      "cell_type": "markdown",
      "source": [
        "\n",
        "\n",
        "---\n",
        "\n"
      ],
      "metadata": {
        "id": "alkRFWPfnrub"
      },
      "id": "alkRFWPfnrub"
    },
    {
      "cell_type": "markdown",
      "source": [
        "# 2.チャットボット"
      ],
      "metadata": {
        "id": "F4t_9l8WnT5T"
      },
      "id": "F4t_9l8WnT5T"
    },
    {
      "cell_type": "markdown",
      "source": [
        "### (1)モデル初期化"
      ],
      "metadata": {
        "id": "relS83_Rn-6i"
      },
      "id": "relS83_Rn-6i"
    },
    {
      "cell_type": "code",
      "source": [
        "from langchain_google_vertexai import ChatVertexAI\n",
        "\n",
        "model = ChatVertexAI(model=\"gemini-1.5-flash\")"
      ],
      "metadata": {
        "id": "9lNxtZ42mn18",
        "executionInfo": {
          "status": "ok",
          "timestamp": 1726067512859,
          "user_tz": -540,
          "elapsed": 350,
          "user": {
            "displayName": "",
            "userId": ""
          }
        }
      },
      "id": "9lNxtZ42mn18",
      "execution_count": 7,
      "outputs": []
    },
    {
      "cell_type": "markdown",
      "source": [
        "### (2)Chatモデルのシンプルな生成"
      ],
      "metadata": {
        "id": "9_JpAclmoMQc"
      },
      "id": "9_JpAclmoMQc"
    },
    {
      "cell_type": "code",
      "source": [
        "from langchain_core.messages import HumanMessage\n",
        "\n",
        "model.invoke([HumanMessage(content=\"こんにちは、ボブ！\")])"
      ],
      "metadata": {
        "colab": {
          "base_uri": "https://localhost:8080/"
        },
        "id": "NJOKRP6bn6tA",
        "executionInfo": {
          "status": "ok",
          "timestamp": 1726067517676,
          "user_tz": -540,
          "elapsed": 363,
          "user": {
            "displayName": "",
            "userId": ""
          }
        },
        "outputId": "c648da28-039d-441e-fcce-5e540d5cc374"
      },
      "id": "NJOKRP6bn6tA",
      "execution_count": 8,
      "outputs": [
        {
          "output_type": "execute_result",
          "data": {
            "text/plain": [
              "AIMessage(content='こんにちは！ 何かお手伝いできることはありますか？ 😄\\n', response_metadata={'is_blocked': False, 'safety_ratings': [{'category': 'HARM_CATEGORY_HATE_SPEECH', 'probability_label': 'NEGLIGIBLE', 'blocked': False, 'severity': 'HARM_SEVERITY_NEGLIGIBLE'}, {'category': 'HARM_CATEGORY_DANGEROUS_CONTENT', 'probability_label': 'NEGLIGIBLE', 'blocked': False, 'severity': 'HARM_SEVERITY_NEGLIGIBLE'}, {'category': 'HARM_CATEGORY_HARASSMENT', 'probability_label': 'NEGLIGIBLE', 'blocked': False, 'severity': 'HARM_SEVERITY_NEGLIGIBLE'}, {'category': 'HARM_CATEGORY_SEXUALLY_EXPLICIT', 'probability_label': 'NEGLIGIBLE', 'blocked': False, 'severity': 'HARM_SEVERITY_NEGLIGIBLE'}], 'usage_metadata': {'prompt_token_count': 5, 'candidates_token_count': 13, 'total_token_count': 18, 'cached_content_token_count': 0}, 'finish_reason': 'STOP'}, id='run-fc3f69ae-5494-4c9e-990f-b9aa04638465-0', usage_metadata={'input_tokens': 5, 'output_tokens': 13, 'total_tokens': 18})"
            ]
          },
          "metadata": {},
          "execution_count": 8
        }
      ]
    },
    {
      "cell_type": "code",
      "source": [
        "model.invoke([HumanMessage(content=\"私の名前は?\")])"
      ],
      "metadata": {
        "colab": {
          "base_uri": "https://localhost:8080/"
        },
        "id": "Us2PNH8AoHgZ",
        "executionInfo": {
          "status": "ok",
          "timestamp": 1726067521041,
          "user_tz": -540,
          "elapsed": 375,
          "user": {
            "displayName": "",
            "userId": ""
          }
        },
        "outputId": "dfed2c28-226a-41b4-d4cf-22408ec2cdd0"
      },
      "id": "Us2PNH8AoHgZ",
      "execution_count": 9,
      "outputs": [
        {
          "output_type": "execute_result",
          "data": {
            "text/plain": [
              "AIMessage(content='私は、あなたに関する情報を保存していません。あなたに名前を教えてください。 😊 \\n', response_metadata={'is_blocked': False, 'safety_ratings': [{'category': 'HARM_CATEGORY_HATE_SPEECH', 'probability_label': 'NEGLIGIBLE', 'blocked': False, 'severity': 'HARM_SEVERITY_NEGLIGIBLE'}, {'category': 'HARM_CATEGORY_DANGEROUS_CONTENT', 'probability_label': 'NEGLIGIBLE', 'blocked': False, 'severity': 'HARM_SEVERITY_NEGLIGIBLE'}, {'category': 'HARM_CATEGORY_HARASSMENT', 'probability_label': 'NEGLIGIBLE', 'blocked': False, 'severity': 'HARM_SEVERITY_NEGLIGIBLE'}, {'category': 'HARM_CATEGORY_SEXUALLY_EXPLICIT', 'probability_label': 'NEGLIGIBLE', 'blocked': False, 'severity': 'HARM_SEVERITY_NEGLIGIBLE'}], 'usage_metadata': {'prompt_token_count': 4, 'candidates_token_count': 18, 'total_token_count': 22, 'cached_content_token_count': 0}, 'finish_reason': 'STOP'}, id='run-091cfa02-d05b-4d12-a165-2f3e538d194a-0', usage_metadata={'input_tokens': 4, 'output_tokens': 18, 'total_tokens': 22})"
            ]
          },
          "metadata": {},
          "execution_count": 9
        }
      ]
    },
    {
      "cell_type": "code",
      "source": [
        "from langchain_core.messages import AIMessage\n",
        "\n",
        "model.invoke(\n",
        "    [\n",
        "        HumanMessage(content=\"こんにちは、私はボブです。\"),\n",
        "        AIMessage(content=\"こんにちは、ボブ! ご機嫌はいかが?\"),\n",
        "        HumanMessage(content=\"私の名前は?\"),\n",
        "    ]\n",
        ")"
      ],
      "metadata": {
        "colab": {
          "base_uri": "https://localhost:8080/"
        },
        "id": "fFHHn08coXA_",
        "executionInfo": {
          "status": "ok",
          "timestamp": 1726067524378,
          "user_tz": -540,
          "elapsed": 8,
          "user": {
            "displayName": "",
            "userId": ""
          }
        },
        "outputId": "899f5da6-176d-41c9-ffc7-4c544c81b33c"
      },
      "id": "fFHHn08coXA_",
      "execution_count": 10,
      "outputs": [
        {
          "output_type": "execute_result",
          "data": {
            "text/plain": [
              "AIMessage(content='あなたの名前はボブですよ！😊 \\n\\n何か私に聞いてみたいことはありますか？ \\n', response_metadata={'is_blocked': False, 'safety_ratings': [{'category': 'HARM_CATEGORY_HATE_SPEECH', 'probability_label': 'NEGLIGIBLE', 'blocked': False, 'severity': 'HARM_SEVERITY_NEGLIGIBLE'}, {'category': 'HARM_CATEGORY_DANGEROUS_CONTENT', 'probability_label': 'NEGLIGIBLE', 'blocked': False, 'severity': 'HARM_SEVERITY_NEGLIGIBLE'}, {'category': 'HARM_CATEGORY_HARASSMENT', 'probability_label': 'NEGLIGIBLE', 'blocked': False, 'severity': 'HARM_SEVERITY_NEGLIGIBLE'}, {'category': 'HARM_CATEGORY_SEXUALLY_EXPLICIT', 'probability_label': 'NEGLIGIBLE', 'blocked': False, 'severity': 'HARM_SEVERITY_NEGLIGIBLE'}], 'usage_metadata': {'prompt_token_count': 22, 'candidates_token_count': 19, 'total_token_count': 41, 'cached_content_token_count': 0}, 'finish_reason': 'STOP'}, id='run-a09bd904-5c82-4dfd-a873-d1f25f843736-0', usage_metadata={'input_tokens': 22, 'output_tokens': 19, 'total_tokens': 41})"
            ]
          },
          "metadata": {},
          "execution_count": 10
        }
      ]
    },
    {
      "cell_type": "markdown",
      "source": [
        "### (3)会話履歴をメモリに保存し、Chat生成"
      ],
      "metadata": {
        "id": "FgN8uhSApDiB"
      },
      "id": "FgN8uhSApDiB"
    },
    {
      "cell_type": "markdown",
      "source": [
        "Message History クラスを使用してモデルをラップし、ステートフルにすることができます。"
      ],
      "metadata": {
        "id": "YDufRWwip37x"
      },
      "id": "YDufRWwip37x"
    },
    {
      "cell_type": "code",
      "source": [
        "!pip install langchain_community"
      ],
      "metadata": {
        "colab": {
          "base_uri": "https://localhost:8080/"
        },
        "id": "c0NpICddo2cr",
        "executionInfo": {
          "status": "ok",
          "timestamp": 1726067541060,
          "user_tz": -540,
          "elapsed": 6456,
          "user": {
            "displayName": "",
            "userId": ""
          }
        },
        "outputId": "fa23ef3b-185a-4c86-83a0-ce59ad75cd9c"
      },
      "id": "c0NpICddo2cr",
      "execution_count": 11,
      "outputs": [
        {
          "output_type": "stream",
          "name": "stdout",
          "text": [
            "Requirement already satisfied: langchain_community in /usr/local/lib/python3.10/dist-packages (0.2.16)\n",
            "Requirement already satisfied: PyYAML>=5.3 in /usr/local/lib/python3.10/dist-packages (from langchain_community) (6.0.2)\n",
            "Requirement already satisfied: SQLAlchemy<3,>=1.4 in /usr/local/lib/python3.10/dist-packages (from langchain_community) (2.0.32)\n",
            "Requirement already satisfied: aiohttp<4.0.0,>=3.8.3 in /usr/local/lib/python3.10/dist-packages (from langchain_community) (3.10.5)\n",
            "Requirement already satisfied: dataclasses-json<0.7,>=0.5.7 in /usr/local/lib/python3.10/dist-packages (from langchain_community) (0.6.7)\n",
            "Collecting langchain<0.3.0,>=0.2.16 (from langchain_community)\n",
            "  Using cached langchain-0.2.16-py3-none-any.whl.metadata (7.1 kB)\n",
            "Requirement already satisfied: langchain-core<0.3.0,>=0.2.38 in /usr/local/lib/python3.10/dist-packages (from langchain_community) (0.2.39)\n",
            "Collecting langsmith<0.2.0,>=0.1.0 (from langchain_community)\n",
            "  Using cached langsmith-0.1.117-py3-none-any.whl.metadata (13 kB)\n",
            "Requirement already satisfied: numpy<2,>=1 in /usr/local/lib/python3.10/dist-packages (from langchain_community) (1.26.4)\n",
            "Requirement already satisfied: requests<3,>=2 in /usr/local/lib/python3.10/dist-packages (from langchain_community) (2.32.3)\n",
            "Requirement already satisfied: tenacity!=8.4.0,<9.0.0,>=8.1.0 in /usr/local/lib/python3.10/dist-packages (from langchain_community) (8.5.0)\n",
            "Requirement already satisfied: aiohappyeyeballs>=2.3.0 in /usr/local/lib/python3.10/dist-packages (from aiohttp<4.0.0,>=3.8.3->langchain_community) (2.4.0)\n",
            "Requirement already satisfied: aiosignal>=1.1.2 in /usr/local/lib/python3.10/dist-packages (from aiohttp<4.0.0,>=3.8.3->langchain_community) (1.3.1)\n",
            "Requirement already satisfied: attrs>=17.3.0 in /usr/local/lib/python3.10/dist-packages (from aiohttp<4.0.0,>=3.8.3->langchain_community) (24.2.0)\n",
            "Requirement already satisfied: frozenlist>=1.1.1 in /usr/local/lib/python3.10/dist-packages (from aiohttp<4.0.0,>=3.8.3->langchain_community) (1.4.1)\n",
            "Requirement already satisfied: multidict<7.0,>=4.5 in /usr/local/lib/python3.10/dist-packages (from aiohttp<4.0.0,>=3.8.3->langchain_community) (6.0.5)\n",
            "Requirement already satisfied: yarl<2.0,>=1.0 in /usr/local/lib/python3.10/dist-packages (from aiohttp<4.0.0,>=3.8.3->langchain_community) (1.9.4)\n",
            "Requirement already satisfied: async-timeout<5.0,>=4.0 in /usr/local/lib/python3.10/dist-packages (from aiohttp<4.0.0,>=3.8.3->langchain_community) (4.0.3)\n",
            "Requirement already satisfied: marshmallow<4.0.0,>=3.18.0 in /usr/local/lib/python3.10/dist-packages (from dataclasses-json<0.7,>=0.5.7->langchain_community) (3.22.0)\n",
            "Requirement already satisfied: typing-inspect<1,>=0.4.0 in /root/.local/lib/python3.10/site-packages (from dataclasses-json<0.7,>=0.5.7->langchain_community) (0.8.0)\n",
            "Requirement already satisfied: langchain-text-splitters<0.3.0,>=0.2.0 in /usr/local/lib/python3.10/dist-packages (from langchain<0.3.0,>=0.2.16->langchain_community) (0.2.4)\n",
            "Requirement already satisfied: pydantic<3,>=1 in /usr/local/lib/python3.10/dist-packages (from langchain<0.3.0,>=0.2.16->langchain_community) (1.10.8)\n",
            "Requirement already satisfied: jsonpatch<2.0,>=1.33 in /usr/local/lib/python3.10/dist-packages (from langchain-core<0.3.0,>=0.2.38->langchain_community) (1.33)\n",
            "Requirement already satisfied: packaging<25,>=23.2 in /usr/local/lib/python3.10/dist-packages (from langchain-core<0.3.0,>=0.2.38->langchain_community) (24.1)\n",
            "Requirement already satisfied: typing-extensions>=4.7 in /usr/local/lib/python3.10/dist-packages (from langchain-core<0.3.0,>=0.2.38->langchain_community) (4.12.2)\n",
            "Requirement already satisfied: httpx<1,>=0.23.0 in /usr/local/lib/python3.10/dist-packages (from langsmith<0.2.0,>=0.1.0->langchain_community) (0.27.2)\n",
            "Requirement already satisfied: orjson<4.0.0,>=3.9.14 in /usr/local/lib/python3.10/dist-packages (from langsmith<0.2.0,>=0.1.0->langchain_community) (3.10.7)\n",
            "Requirement already satisfied: charset-normalizer<4,>=2 in /usr/local/lib/python3.10/dist-packages (from requests<3,>=2->langchain_community) (3.3.2)\n",
            "Requirement already satisfied: idna<4,>=2.5 in /usr/local/lib/python3.10/dist-packages (from requests<3,>=2->langchain_community) (3.8)\n",
            "Requirement already satisfied: urllib3<3,>=1.21.1 in /usr/local/lib/python3.10/dist-packages (from requests<3,>=2->langchain_community) (2.0.7)\n",
            "Requirement already satisfied: certifi>=2017.4.17 in /usr/local/lib/python3.10/dist-packages (from requests<3,>=2->langchain_community) (2024.7.4)\n",
            "Requirement already satisfied: greenlet!=0.4.17 in /usr/local/lib/python3.10/dist-packages (from SQLAlchemy<3,>=1.4->langchain_community) (3.0.3)\n",
            "Requirement already satisfied: anyio in /usr/local/lib/python3.10/dist-packages (from httpx<1,>=0.23.0->langsmith<0.2.0,>=0.1.0->langchain_community) (3.7.1)\n",
            "Requirement already satisfied: httpcore==1.* in /usr/local/lib/python3.10/dist-packages (from httpx<1,>=0.23.0->langsmith<0.2.0,>=0.1.0->langchain_community) (1.0.5)\n",
            "Requirement already satisfied: sniffio in /usr/local/lib/python3.10/dist-packages (from httpx<1,>=0.23.0->langsmith<0.2.0,>=0.1.0->langchain_community) (1.3.1)\n",
            "Requirement already satisfied: h11<0.15,>=0.13 in /usr/local/lib/python3.10/dist-packages (from httpcore==1.*->httpx<1,>=0.23.0->langsmith<0.2.0,>=0.1.0->langchain_community) (0.14.0)\n",
            "Requirement already satisfied: jsonpointer>=1.9 in /usr/local/lib/python3.10/dist-packages (from jsonpatch<2.0,>=1.33->langchain-core<0.3.0,>=0.2.38->langchain_community) (3.0.0)\n",
            "Requirement already satisfied: mypy-extensions>=0.3.0 in /usr/local/lib/python3.10/dist-packages (from typing-inspect<1,>=0.4.0->dataclasses-json<0.7,>=0.5.7->langchain_community) (1.0.0)\n",
            "Requirement already satisfied: exceptiongroup in /usr/local/lib/python3.10/dist-packages (from anyio->httpx<1,>=0.23.0->langsmith<0.2.0,>=0.1.0->langchain_community) (1.2.2)\n",
            "Using cached langchain-0.2.16-py3-none-any.whl (1.0 MB)\n",
            "Using cached langsmith-0.1.117-py3-none-any.whl (290 kB)\n",
            "Installing collected packages: langsmith, langchain\n",
            "  Attempting uninstall: langsmith\n",
            "    Found existing installation: langsmith 0.0.92\n",
            "    Uninstalling langsmith-0.0.92:\n",
            "      Successfully uninstalled langsmith-0.0.92\n",
            "  Attempting uninstall: langchain\n",
            "    Found existing installation: langchain 0.0.323\n",
            "    Uninstalling langchain-0.0.323:\n",
            "      Successfully uninstalled langchain-0.0.323\n",
            "Successfully installed langchain-0.2.16 langsmith-0.1.117\n"
          ]
        }
      ]
    },
    {
      "cell_type": "markdown",
      "source": [
        "関連するクラスをインポートし、モデルをラップしてこのメ​​ッセージ履歴を追加するチェーンを設定します。\n",
        "\n",
        "get_session_history関数は、 session_idを受け取り、メッセージ履歴オブジェクトを返すことが期待されます。"
      ],
      "metadata": {
        "id": "jetuDRZ6qBQz"
      },
      "id": "jetuDRZ6qBQz"
    },
    {
      "cell_type": "code",
      "source": [
        "from langchain_core.chat_history import (\n",
        "    BaseChatMessageHistory,\n",
        "    InMemoryChatMessageHistory,\n",
        ")\n",
        "from langchain_core.runnables.history import RunnableWithMessageHistory\n",
        "\n",
        "store = {}\n",
        "\n",
        "\n",
        "def get_session_history(session_id: str) -> BaseChatMessageHistory:\n",
        "    if session_id not in store:\n",
        "        store[session_id] = InMemoryChatMessageHistory()\n",
        "    return store[session_id]\n",
        "\n",
        "\n",
        "with_message_history = RunnableWithMessageHistory(model, get_session_history)"
      ],
      "metadata": {
        "id": "BTtfdbdWpYLD",
        "executionInfo": {
          "status": "ok",
          "timestamp": 1726067547878,
          "user_tz": -540,
          "elapsed": 4,
          "user": {
            "displayName": "",
            "userId": ""
          }
        }
      },
      "id": "BTtfdbdWpYLD",
      "execution_count": 12,
      "outputs": []
    },
    {
      "cell_type": "markdown",
      "source": [
        "configここで、毎回実行可能ファイルに渡す を作成する必要があります。"
      ],
      "metadata": {
        "id": "tBXbGTnqqqAT"
      },
      "id": "tBXbGTnqqqAT"
    },
    {
      "cell_type": "code",
      "source": [
        "config = {\"configurable\": {\"session_id\": \"abc2\"}}"
      ],
      "metadata": {
        "id": "jwVwBGWTqRfu",
        "executionInfo": {
          "status": "ok",
          "timestamp": 1726067555816,
          "user_tz": -540,
          "elapsed": 2,
          "user": {
            "displayName": "",
            "userId": ""
          }
        }
      },
      "id": "jwVwBGWTqRfu",
      "execution_count": 13,
      "outputs": []
    },
    {
      "cell_type": "code",
      "source": [
        "response = with_message_history.invoke(\n",
        "    [HumanMessage(content=\"私は、ボブです。\")],\n",
        "    config=config,\n",
        ")\n",
        "\n",
        "response.content"
      ],
      "metadata": {
        "colab": {
          "base_uri": "https://localhost:8080/",
          "height": 36
        },
        "id": "o5x8DsoVqv95",
        "executionInfo": {
          "status": "ok",
          "timestamp": 1726067561177,
          "user_tz": -540,
          "elapsed": 783,
          "user": {
            "displayName": "",
            "userId": ""
          }
        },
        "outputId": "b141af3b-3a39-4b53-873d-accd42dfedb6"
      },
      "id": "o5x8DsoVqv95",
      "execution_count": 14,
      "outputs": [
        {
          "output_type": "execute_result",
          "data": {
            "text/plain": [
              "'はじめまして、ボブさん。どうぞよろしくお願いします。😊  何か私にできることはありますか？ \\n'"
            ],
            "application/vnd.google.colaboratory.intrinsic+json": {
              "type": "string"
            }
          },
          "metadata": {},
          "execution_count": 14
        }
      ]
    },
    {
      "cell_type": "code",
      "source": [
        "response = with_message_history.invoke(\n",
        "    [HumanMessage(content=\"私の名前は?\")],\n",
        "    config=config,\n",
        ")\n",
        "\n",
        "response.content"
      ],
      "metadata": {
        "colab": {
          "base_uri": "https://localhost:8080/",
          "height": 36
        },
        "id": "tAH_GtXkq1IU",
        "executionInfo": {
          "status": "ok",
          "timestamp": 1726067563510,
          "user_tz": -540,
          "elapsed": 387,
          "user": {
            "displayName": "",
            "userId": ""
          }
        },
        "outputId": "06384578-a586-45cb-dac8-da577c82899c"
      },
      "id": "tAH_GtXkq1IU",
      "execution_count": 15,
      "outputs": [
        {
          "output_type": "execute_result",
          "data": {
            "text/plain": [
              "'あなたの名前はボブです！  😉  私があなたを覚えていますよ。 \\n'"
            ],
            "application/vnd.google.colaboratory.intrinsic+json": {
              "type": "string"
            }
          },
          "metadata": {},
          "execution_count": 15
        }
      ]
    },
    {
      "cell_type": "markdown",
      "source": [
        "# 3.テキスト エンベディングを取得"
      ],
      "metadata": {
        "id": "3m8VJvKartvS"
      },
      "id": "3m8VJvKartvS"
    },
    {
      "cell_type": "code",
      "source": [
        "from vertexai.language_models import TextEmbeddingModel\n",
        "\n",
        "def get_vertexai_embeddings(texts):\n",
        "    # Initialize the Vertex AI Text Embedding Model\n",
        "    model = TextEmbeddingModel.from_pretrained(\"textembedding-gecko\")\n",
        "\n",
        "    # Generate embeddings for the provided texts\n",
        "    embeddings = model.get_embeddings(texts)\n",
        "\n",
        "    return embeddings\n",
        "\n",
        "# Sample texts\n",
        "texts = [\"Hello, world!\", \"This is a test sentence for generating embeddings.\"]\n",
        "embeddings = get_vertexai_embeddings(texts)\n",
        "\n",
        "# Print the embeddings\n",
        "for text, embedding in zip(texts, embeddings):\n",
        "    print(f\"Text: {text}\")\n",
        "    print(f\"Embedding: {embedding}\")\n",
        "    print(\"\\n\")"
      ],
      "metadata": {
        "colab": {
          "base_uri": "https://localhost:8080/"
        },
        "id": "O86GldY87l0k",
        "executionInfo": {
          "status": "ok",
          "timestamp": 1726067568067,
          "user_tz": -540,
          "elapsed": 413,
          "user": {
            "displayName": "",
            "userId": ""
          }
        },
        "outputId": "79349812-28fa-43d1-d5a1-7464e7b1c123"
      },
      "id": "O86GldY87l0k",
      "execution_count": 16,
      "outputs": [
        {
          "output_type": "stream",
          "name": "stdout",
          "text": [
            "Text: Hello, world!\n",
            "Embedding: TextEmbedding(values=[0.05048881471157074, -0.027526220306754112, -0.029739122837781906, -0.023983176797628403, 0.014556266367435455, 0.009877710603177547, 0.031096046790480614, -0.013410440646111965, 0.010270212776958942, -0.0028309847693890333, 0.04382384195923805, 0.04735852777957916, 0.0038899395149201155, -0.05870475620031357, -0.013154584914445877, -0.018172577023506165, 0.01607293263077736, -0.008533775806427002, -0.004098878242075443, -0.004364946857094765, 0.003848735708743334, 0.004871689714491367, -0.023533562198281288, -0.03507405146956444, 0.02098313719034195, -0.0014545134035870433, 0.0008274627616629004, -0.07081551104784012, 0.0011253736447542906, 0.06359116733074188, -0.04751729965209961, 0.007458766922354698, -0.05418795347213745, 0.008057346567511559, 0.040036819875240326, -0.06546219438314438, 0.040994979441165924, 0.011809512041509151, -0.0030763561371713877, 0.006217926740646362, 0.02165478654205799, -0.08145613968372345, -0.043191101402044296, -0.035838909447193146, 0.049893397837877274, -0.005726260133087635, 0.005936641711741686, 0.004415619652718306, 0.02217748761177063, -0.0835578665137291, 0.04015425965189934, 0.027812954038381577, 0.053679779171943665, -0.016857093200087547, 0.01949101872742176, -0.013253969140350819, 0.08038000762462616, 0.022622421383857727, -0.07959556579589844, 0.008046436123549938, 0.027295157313346863, 0.021349798887968063, -0.01973770186305046, 0.06585876643657684, 0.00436722207814455, -0.02234615944325924, -0.062187083065509796, 0.04618538171052933, 0.048352066427469254, -0.027763573452830315, 0.009783121757209301, -0.0253431499004364, 0.03293408080935478, -0.040931545197963715, -0.027531404048204422, -0.05209473520517349, -0.009170291014015675, 0.03385336324572563, -0.01598748378455639, -0.012373657897114754, -0.03219446539878845, -0.06252016872167587, -0.01750873029232025, -0.021072639152407646, -0.08675862848758698, 0.038547854870557785, -0.02796001546084881, 0.03003074787557125, -0.013659159652888775, 0.07964766025543213, 0.010575171560049057, -0.02796539105474949, 0.05638904124498367, -0.05756859853863716, -0.03226183354854584, 0.033197563141584396, -0.00896495208144188, -0.029663290828466415, -0.0063441041857004166, -0.062392156571149826, 0.029394114390015602, -0.06376134604215622, -0.03182327747344971, -0.0014910721220076084, 0.037683747708797455, 0.016848286613821983, -0.025911672040820122, 0.026020627468824387, -0.008634413592517376, 0.04249121993780136, -0.05040716379880905, 0.043802909553050995, -0.04726192355155945, -0.0069200689904391766, 0.01211615465581417, 0.007213786244392395, -0.004749517887830734, 0.09605716913938522, 0.009756126441061497, 0.06330560147762299, -0.02105744741857052, -0.004535681568086147, 0.027011282742023468, -0.028617754578590393, -0.0011115361703559756, 0.012106712907552719, 0.0393097847700119, 0.04576713964343071, 0.024737844243645668, 0.016377273947000504, -0.014828656800091267, -0.05709558352828026, 0.07621139287948608, -0.00214051129296422, 0.023849932476878166, 0.03955599665641785, 0.07564951479434967, -0.02221582643687725, 0.020026162266731262, 0.01249027531594038, -0.013390850275754929, 0.00039984285831451416, -0.025672240182757378, 0.009095313027501106, -0.02450590766966343, 0.02297414280474186, -0.010872364044189453, -0.05460240691900253, 0.001279307994991541, -0.04930294305086136, -0.002163279801607132, -0.004844293929636478, -0.06175044924020767, 0.00034633933682926, 0.08819784969091415, 0.0037579121999442577, -0.035145703703165054, 0.006065757945179939, 0.045841142535209656, -0.004726576618850231, 0.012755367904901505, -0.029894821345806122, 0.05989886820316315, 0.001740244566462934, -0.022283338010311127, -0.034990567713975906, -0.007469993084669113, -0.011840088292956352, -0.028322072699666023, 0.01410376001149416, 0.013006347231566906, 0.0058363499119877815, -0.022358562797307968, -0.05372200906276703, 0.004307241644710302, -0.05788533389568329, 0.03553245961666107, -0.011626613326370716, -0.04356124997138977, -0.011199640110135078, -0.03944147378206253, 0.0024815683718770742, 0.002854561200365424, 0.016770176589488983, -0.0001249788620043546, 0.01372956670820713, 0.07578808814287186, -0.04865918308496475, 0.0063447789289057255, 0.022786134853959084, 0.003352648811414838, -0.0010485266102477908, 0.008305536583065987, 0.010489699430763721, -0.012418154627084732, 0.06661593168973923, -0.04097845405340195, 0.05746240168809891, 0.040789127349853516, -0.02546471171081066, 0.035971030592918396, 0.10388145595788956, 0.0018573784036561847, -0.027180448174476624, 0.06734710931777954, -0.044276390224695206, 0.09131501615047455, -0.05139993876218796, -0.005260597448796034, 0.024136753752827644, -0.04355710372328758, -0.007198034785687923, -0.010573305189609528, -0.012780292890965939, 0.05881589651107788, 0.02499900758266449, -0.008862905204296112, 0.02092086896300316, -0.028798026964068413, -0.03646732494235039, -0.0300727691501379, 0.0044889915734529495, -0.03199475631117821, 0.008313515223562717, 0.0034508949611335993, 0.03470147028565407, -0.0280691497027874, 0.002574035432189703, -0.0015235701575875282, -0.04431282356381416, -0.017172465100884438, 0.06082095205783844, -0.02527809888124466, -0.012473152950406075, 0.03199690207839012, -0.011954929679632187, -0.03945895656943321, 0.008965118788182735, 0.004340264480561018, 0.051437363028526306, -0.07123009115457535, 0.022114254534244537, 0.044540468603372574, 0.02134203352034092, -0.06749401986598969, -0.016641765832901, -0.0556761734187603, 0.012263336218893528, -0.0318685919046402, 0.005688264966011047, -0.00046509868116118014, -0.03238753229379654, 0.01819145865738392, 0.048415299504995346, -0.06626275926828384, 0.061984315514564514, -0.018225697800517082, -0.017609652131795883, -0.020563269034028053, 0.005252506118267775, 0.048270124942064285, 0.007986734621226788, 0.04708337411284447, 0.03302944451570511, -0.06063301861286163, -0.008139587007462978, 0.0591203048825264, -0.0392698273062706, -0.01483495905995369, 0.025580553337931633, 0.006437988020479679, -0.048715539276599884, 0.09328629076480865, -0.0012749797897413373, -0.03490881621837616, 0.013713770546019077, -0.006639918778091669, 0.015079639852046967, 0.04950341954827309, -0.024954553693532944, -0.008788487873971462, 0.01835896261036396, 0.03973441570997238, -0.021965032443404198, -0.009827908128499985, -0.009073064662516117, -0.026504401117563248, 0.007096302695572376, 0.05945611372590065, -0.020541047677397728, -0.06174413487315178, -0.001628735102713108, -0.0014965063892304897, -0.03234318643808365, -0.05796140804886818, -0.010218676179647446, 0.012611678801476955, 0.013897312805056572, 0.010139456018805504, -0.024605339393019676, -0.012010953389108181, -0.011011309921741486, -0.011520869098603725, -0.04940436780452728, -0.017981208860874176, -0.007599710486829281, 0.006189392879605293, -0.04125132039189339, 0.020360523834824562, 0.007487389259040356, -0.03591667115688324, -0.012753114104270935, -0.0422552116215229, 0.02915925532579422, 0.06827525794506073, 0.02939269132912159, 0.0008129241177812219, 0.04736143350601196, -0.033379364758729935, 0.06482771039009094, 0.0038646054454147816, 0.09300840646028519, -0.016037626191973686, -0.021659696474671364, -0.009233599528670311, 0.009761362336575985, -0.0003000504511874169, 0.05559496581554413, 0.017730189487338066, -0.014302380383014679, -0.013134639710187912, -0.021828843280673027, -0.03672652319073677, 0.01356380246579647, 0.0409422442317009, 0.005327377002686262, -0.009354215115308762, 0.038764022290706635, -0.01477749552577734, -0.04990699514746666, -0.04255665838718414, -0.007590760011225939, -0.025440173223614693, -0.04937170445919037, -0.01496218703687191, -0.004936849698424339, -0.02028416469693184, 0.008934488520026207, 0.04526345431804657, 0.020093830302357674, -0.008266357704997063, 0.07205309718847275, -0.08323013782501221, 0.000984611688181758, 0.03335424140095711, -0.029326751828193665, 0.03772014379501343, 0.009054121561348438, 0.06526707857847214, -0.025128647685050964, -0.02799651399254799, 0.05030035227537155, -0.006409610155969858, 0.006113482639193535, -0.023092418909072876, 0.034454744309186935, 0.013408164493739605, -0.017473764717578888, -0.031243586912751198, 0.03468030318617821, 0.003875902621075511, -0.07176929712295532, 0.009555959142744541, -0.04518919810652733, -0.0012582286726683378, -0.02391684055328369, -0.03677450865507126, -0.022498931735754013, 0.007628349121659994, 0.005078847054392099, -0.03052770532667637, -0.017451932653784752, 0.022016916424036026, 0.0022409679368138313, 0.027049120515584946, -0.029115615412592888, 0.014280630275607109, 0.04786651208996773, 0.004839290399104357, -0.00027537590358406305, 0.014293836429715157, -0.018804460763931274, 0.08318626880645752, 0.03968362137675285, -0.018574098125100136, -0.00906510092318058, -0.03109736368060112, -0.07550416886806488, 0.012706107459962368, -0.018197473138570786, 0.012814562767744064, -0.011795408092439175, -0.012649375014007092, -0.008847317658364773, -0.03823036700487137, -0.037896666675806046, -0.027831343933939934, -0.0029609508346766233, -0.012834933586418629, -0.048240724951028824, 0.03383106738328934, 0.016642138361930847, 0.03912949934601784, -0.06612611562013626, -0.0755065381526947, -0.0662422925233841, 0.04461014270782471, -0.007287071086466312, -0.03128625452518463, -0.00613235542550683, 0.03162446245551109, 0.02582944929599762, 0.014173564501106739, -0.020902367308735847, -0.015123449265956879, -0.028805652633309364, 0.003126519965007901, 0.02464974671602249, -0.023508938029408455, 0.002371480455622077, -0.004358425736427307, -0.022694246843457222, 0.004687533248215914, 0.0071828062646090984, -0.0328206941485405, -0.06906614452600479, 0.028847448527812958, 0.01949232444167137, -0.06397179514169693, 0.014178839512169361, -0.02342826873064041, -0.029171576723456383, 0.0654691755771637, -0.007628267630934715, -0.04259704798460007, -0.027929743751883507, -0.03281397372484207, -0.07744726538658142, 0.04944213479757309, -0.10532320290803909, 0.01864009164273739, -0.11103657633066177, -0.0009490032680332661, -0.05272367596626282, -0.023499317467212677, -0.08286543935537338, 0.022493701428174973, 0.054035212844610214, -0.03546225279569626, 0.022841349244117737, -0.020918885245919228, 0.01572534441947937, -0.0028781117871403694, -0.05289721116423607, 0.020483199506998062, -0.052916646003723145, 0.04305537790060043, -0.0021593538112938404, 0.07346950471401215, 0.025077832862734795, 0.0189216248691082, -0.018086794763803482, 0.05880950391292572, 0.02406248077750206, -0.0019414295675233006, 0.020785009488463402, -0.09058212488889694, -0.015965769067406654, -0.02808975987136364, -0.002345767803490162, -0.007282078731805086, 0.01307911891490221, 0.02886461466550827, 0.03133400157094002, -0.013235914520919323, 0.028085071593523026, 0.031825825572013855, -0.01149363536387682, -0.049601174890995026, 0.08339793980121613, 0.005623531993478537, 0.00899712648242712, -0.047910939902067184, -0.02312525548040867, 0.006884375587105751, 0.017631754279136658, -0.02596757933497429, 0.012668577954173088, 0.033638641238212585, 0.06527292728424072, -0.022699706256389618, -0.008766166865825653, -0.0016238351818174124, -0.007219393737614155, 0.052212685346603394, -0.08038291335105896, -0.010863379575312138, 0.02943316102027893, 0.004808931145817041, 0.011947402730584145, -0.01895204558968544, 0.0005591020453721285, 0.002685248153284192, -0.03375242277979851, 0.039630111306905746, 0.0025801188312470913, 0.0003271967580076307, -0.029098061844706535, 0.01970246061682701, 0.024860944598913193, 0.07895715534687042, 0.0027984557673335075, -0.09241224080324173, -0.012274940498173237, -0.001420358195900917, -0.07325121015310287, 0.0020709210075438023, 0.03186861425638199, -0.004592281300574541, 0.009516391903162003, -0.02649470418691635, 0.1194513663649559, -0.06271858513355255, 0.0244598388671875, -0.008720234036445618, -0.016850097104907036, 0.0022406058851629496, 0.04492678493261337, 0.029608596116304398, -0.010358477011322975, 0.06458061188459396, -0.011375079862773418, 0.027281945571303368, 0.026977425441145897, 0.0002983447047881782, 0.0022105034440755844, 0.03035282902419567, -0.0887354165315628, 0.026569824665784836, -0.012239317409694195, -0.03052319586277008, -0.0011565977474674582, 0.035126376897096634, -0.012919021770358086, 0.04634983837604523, -0.0032808887772262096, -0.02431025356054306, 0.03050963021814823, 0.036734528839588165, 0.0340995267033577, 0.03861783817410469, -0.021886086091399193, 0.010406753979623318, -0.011804656125605106, 0.07431964576244354, 0.029152875766158104, -0.03748985007405281, 0.0398012138903141, 0.06892003864049911, -0.023491177707910538, -0.024622498080134392, -0.006232163868844509, 0.03395649045705795, -0.02854849584400654, 0.02460159920156002, -0.07006806880235672, -0.028290104120969772, 0.01722113788127899, -0.005218458827584982, 0.015336769632995129, 0.06896880269050598, 0.012697800062596798, -0.005446743685752153, 0.04795892536640167, -0.028898946940898895, 0.05614053085446358, 0.00165919354185462, 0.002167809521779418, 0.08021370321512222, 0.012944221496582031, -0.01975875534117222, 0.06399604678153992, 0.006487736012786627, 0.0180831141769886, -0.03436427563428879, 0.009045123122632504, -0.009545131586492062, 0.021521959453821182, 0.027270250022411346, 0.0009329408057965338, 0.025512490421533585, -0.032981425523757935, 0.07631786912679672, -0.04723008722066879, -0.0005259111057966948, -0.004224197007715702, -0.04198897257447243, 0.0008310348493978381, 0.0017853586468845606, 0.07287606596946716, 0.02774207666516304, -0.03606622293591499, 0.005327143706381321, -0.024046320468187332, 0.005719941575080156, -0.03088179975748062, 0.03012167103588581, 0.0008938959217630327, -0.019376307725906372, -0.021418245509266853, 0.007708759047091007, 0.00862341932952404, -0.03955577313899994, 0.02498646453022957, 0.06427087634801865, 0.006755762733519077, -0.015858575701713562, -0.023900115862488747, 0.018243400380015373, 0.03133203089237213, 0.03724142163991928, 0.05653050169348717, 0.014243630692362785, -0.013850953429937363, -0.02043214999139309, 0.02028529718518257, 0.0450698547065258, -0.005071192979812622, 0.051660846918821335, 0.0011238999431952834, -0.08971481025218964, 0.023906249552965164, 0.06930700689554214, -0.012624049559235573, -0.014303240925073624, 0.08640982955694199, 0.011801064014434814, -0.10267116874456406, 0.01301330141723156, 0.0067197284661233425, -0.0007439990295097232, -0.001174167962744832, 0.018251799046993256, 0.0004240316047798842, -0.00937394704669714, 0.025276297703385353, -0.015060467645525932, -0.03181926906108856, 0.012844697572290897, -0.009249947965145111, -0.03598010540008545, 0.008038402535021305, -0.01404185127466917, -0.014198902063071728, 0.038280218839645386, -0.04425692558288574, -0.06214151531457901, -0.0640263706445694, -0.000601115869358182, 0.05550296977162361, -0.042019814252853394, 0.026628589257597923, 0.041480645537376404, -0.01870727725327015, 0.00533691281452775, 0.04223823919892311, -0.03675965964794159, 0.023335779085755348, 0.00967302918434143, 0.015140189789235592, -0.01766934245824814, -0.06298468261957169, -0.029771072790026665, 0.014519737102091312, 0.009873416274785995, 0.016891950741410255, 0.02255154959857464, -0.014083638787269592, -0.03710096329450607, 0.007112094666808844, 0.022781439125537872, 0.01798386685550213, -0.008758307434618473, -0.006145016755908728, 0.06082449480891228, 0.0017840055515989661, -0.0005946565652266145, -0.020742032676935196, 0.02007255144417286, 0.06901489943265915, -0.00958032812923193, -0.01132611557841301, 0.0038101044483482838, -0.007014111615717411, -0.0012746395077556372, 0.031289566308259964, -0.006520641501992941, 0.008000494912266731, -0.022863442078232765, 0.01295003667473793, 0.011762014590203762, -0.024780426174402237, -0.046798914670944214, 0.01817389577627182, 0.011570850387215614, -0.018795747309923172, 0.02787284180521965, 0.011013510636985302, -0.02390098012983799, 0.05200187489390373, 0.0483076311647892, 0.026392465457320213, 0.05144932121038437, -0.044122401624917984, -0.04323697090148926, 0.02980905957520008, -0.061367541551589966, 0.024975577369332314, -0.04777581989765167, -0.040183864533901215, 0.11073079705238342, -0.046591855585575104, 0.022644147276878357, 0.010370703414082527, -0.006849383935332298, 0.05296317860484123, -0.016744425520300865, 0.01684105582535267, -0.00790176447480917, -0.0640357956290245, -0.05670444294810295, -0.00431230291724205, 0.021564044058322906, 0.06619346141815186, 0.03749330714344978, -0.013060581870377064, 0.045510921627283096, 0.021636903285980225, -0.0011851638555526733, -0.012267595157027245, -0.06650494039058685, -0.02341298572719097, -0.020254695788025856, 0.08707056939601898, 0.03260407969355583, -0.00019849177624564618, -0.018585726618766785, 0.0330340601503849, -0.002430547960102558, 0.005140149965882301, -0.0572429783642292, 0.004046608228236437, 0.012601814232766628, 0.013820738531649113, 0.013911939226090908, 0.018623072654008865, -0.0443502739071846, -0.002139854244887829], statistics=TextEmbeddingStatistics(token_count=4.0, truncated=False), _prediction_response=Prediction(predictions=[{'embeddings': {'statistics': {'truncated': False, 'token_count': 4.0}, 'values': [0.05048881471157074, -0.027526220306754112, -0.029739122837781906, -0.023983176797628403, 0.014556266367435455, 0.009877710603177547, 0.031096046790480614, -0.013410440646111965, 0.010270212776958942, -0.0028309847693890333, 0.04382384195923805, 0.04735852777957916, 0.0038899395149201155, -0.05870475620031357, -0.013154584914445877, -0.018172577023506165, 0.01607293263077736, -0.008533775806427002, -0.004098878242075443, -0.004364946857094765, 0.003848735708743334, 0.004871689714491367, -0.023533562198281288, -0.03507405146956444, 0.02098313719034195, -0.0014545134035870433, 0.0008274627616629004, -0.07081551104784012, 0.0011253736447542906, 0.06359116733074188, -0.04751729965209961, 0.007458766922354698, -0.05418795347213745, 0.008057346567511559, 0.040036819875240326, -0.06546219438314438, 0.040994979441165924, 0.011809512041509151, -0.0030763561371713877, 0.006217926740646362, 0.02165478654205799, -0.08145613968372345, -0.043191101402044296, -0.035838909447193146, 0.049893397837877274, -0.005726260133087635, 0.005936641711741686, 0.004415619652718306, 0.02217748761177063, -0.0835578665137291, 0.04015425965189934, 0.027812954038381577, 0.053679779171943665, -0.016857093200087547, 0.01949101872742176, -0.013253969140350819, 0.08038000762462616, 0.022622421383857727, -0.07959556579589844, 0.008046436123549938, 0.027295157313346863, 0.021349798887968063, -0.01973770186305046, 0.06585876643657684, 0.00436722207814455, -0.02234615944325924, -0.062187083065509796, 0.04618538171052933, 0.048352066427469254, -0.027763573452830315, 0.009783121757209301, -0.0253431499004364, 0.03293408080935478, -0.040931545197963715, -0.027531404048204422, -0.05209473520517349, -0.009170291014015675, 0.03385336324572563, -0.01598748378455639, -0.012373657897114754, -0.03219446539878845, -0.06252016872167587, -0.01750873029232025, -0.021072639152407646, -0.08675862848758698, 0.038547854870557785, -0.02796001546084881, 0.03003074787557125, -0.013659159652888775, 0.07964766025543213, 0.010575171560049057, -0.02796539105474949, 0.05638904124498367, -0.05756859853863716, -0.03226183354854584, 0.033197563141584396, -0.00896495208144188, -0.029663290828466415, -0.0063441041857004166, -0.062392156571149826, 0.029394114390015602, -0.06376134604215622, -0.03182327747344971, -0.0014910721220076084, 0.037683747708797455, 0.016848286613821983, -0.025911672040820122, 0.026020627468824387, -0.008634413592517376, 0.04249121993780136, -0.05040716379880905, 0.043802909553050995, -0.04726192355155945, -0.0069200689904391766, 0.01211615465581417, 0.007213786244392395, -0.004749517887830734, 0.09605716913938522, 0.009756126441061497, 0.06330560147762299, -0.02105744741857052, -0.004535681568086147, 0.027011282742023468, -0.028617754578590393, -0.0011115361703559756, 0.012106712907552719, 0.0393097847700119, 0.04576713964343071, 0.024737844243645668, 0.016377273947000504, -0.014828656800091267, -0.05709558352828026, 0.07621139287948608, -0.00214051129296422, 0.023849932476878166, 0.03955599665641785, 0.07564951479434967, -0.02221582643687725, 0.020026162266731262, 0.01249027531594038, -0.013390850275754929, 0.00039984285831451416, -0.025672240182757378, 0.009095313027501106, -0.02450590766966343, 0.02297414280474186, -0.010872364044189453, -0.05460240691900253, 0.001279307994991541, -0.04930294305086136, -0.002163279801607132, -0.004844293929636478, -0.06175044924020767, 0.00034633933682926, 0.08819784969091415, 0.0037579121999442577, -0.035145703703165054, 0.006065757945179939, 0.045841142535209656, -0.004726576618850231, 0.012755367904901505, -0.029894821345806122, 0.05989886820316315, 0.001740244566462934, -0.022283338010311127, -0.034990567713975906, -0.007469993084669113, -0.011840088292956352, -0.028322072699666023, 0.01410376001149416, 0.013006347231566906, 0.0058363499119877815, -0.022358562797307968, -0.05372200906276703, 0.004307241644710302, -0.05788533389568329, 0.03553245961666107, -0.011626613326370716, -0.04356124997138977, -0.011199640110135078, -0.03944147378206253, 0.0024815683718770742, 0.002854561200365424, 0.016770176589488983, -0.0001249788620043546, 0.01372956670820713, 0.07578808814287186, -0.04865918308496475, 0.0063447789289057255, 0.022786134853959084, 0.003352648811414838, -0.0010485266102477908, 0.008305536583065987, 0.010489699430763721, -0.012418154627084732, 0.06661593168973923, -0.04097845405340195, 0.05746240168809891, 0.040789127349853516, -0.02546471171081066, 0.035971030592918396, 0.10388145595788956, 0.0018573784036561847, -0.027180448174476624, 0.06734710931777954, -0.044276390224695206, 0.09131501615047455, -0.05139993876218796, -0.005260597448796034, 0.024136753752827644, -0.04355710372328758, -0.007198034785687923, -0.010573305189609528, -0.012780292890965939, 0.05881589651107788, 0.02499900758266449, -0.008862905204296112, 0.02092086896300316, -0.028798026964068413, -0.03646732494235039, -0.0300727691501379, 0.0044889915734529495, -0.03199475631117821, 0.008313515223562717, 0.0034508949611335993, 0.03470147028565407, -0.0280691497027874, 0.002574035432189703, -0.0015235701575875282, -0.04431282356381416, -0.017172465100884438, 0.06082095205783844, -0.02527809888124466, -0.012473152950406075, 0.03199690207839012, -0.011954929679632187, -0.03945895656943321, 0.008965118788182735, 0.004340264480561018, 0.051437363028526306, -0.07123009115457535, 0.022114254534244537, 0.044540468603372574, 0.02134203352034092, -0.06749401986598969, -0.016641765832901, -0.0556761734187603, 0.012263336218893528, -0.0318685919046402, 0.005688264966011047, -0.00046509868116118014, -0.03238753229379654, 0.01819145865738392, 0.048415299504995346, -0.06626275926828384, 0.061984315514564514, -0.018225697800517082, -0.017609652131795883, -0.020563269034028053, 0.005252506118267775, 0.048270124942064285, 0.007986734621226788, 0.04708337411284447, 0.03302944451570511, -0.06063301861286163, -0.008139587007462978, 0.0591203048825264, -0.0392698273062706, -0.01483495905995369, 0.025580553337931633, 0.006437988020479679, -0.048715539276599884, 0.09328629076480865, -0.0012749797897413373, -0.03490881621837616, 0.013713770546019077, -0.006639918778091669, 0.015079639852046967, 0.04950341954827309, -0.024954553693532944, -0.008788487873971462, 0.01835896261036396, 0.03973441570997238, -0.021965032443404198, -0.009827908128499985, -0.009073064662516117, -0.026504401117563248, 0.007096302695572376, 0.05945611372590065, -0.020541047677397728, -0.06174413487315178, -0.001628735102713108, -0.0014965063892304897, -0.03234318643808365, -0.05796140804886818, -0.010218676179647446, 0.012611678801476955, 0.013897312805056572, 0.010139456018805504, -0.024605339393019676, -0.012010953389108181, -0.011011309921741486, -0.011520869098603725, -0.04940436780452728, -0.017981208860874176, -0.007599710486829281, 0.006189392879605293, -0.04125132039189339, 0.020360523834824562, 0.007487389259040356, -0.03591667115688324, -0.012753114104270935, -0.0422552116215229, 0.02915925532579422, 0.06827525794506073, 0.02939269132912159, 0.0008129241177812219, 0.04736143350601196, -0.033379364758729935, 0.06482771039009094, 0.0038646054454147816, 0.09300840646028519, -0.016037626191973686, -0.021659696474671364, -0.009233599528670311, 0.009761362336575985, -0.0003000504511874169, 0.05559496581554413, 0.017730189487338066, -0.014302380383014679, -0.013134639710187912, -0.021828843280673027, -0.03672652319073677, 0.01356380246579647, 0.0409422442317009, 0.005327377002686262, -0.009354215115308762, 0.038764022290706635, -0.01477749552577734, -0.04990699514746666, -0.04255665838718414, -0.007590760011225939, -0.025440173223614693, -0.04937170445919037, -0.01496218703687191, -0.004936849698424339, -0.02028416469693184, 0.008934488520026207, 0.04526345431804657, 0.020093830302357674, -0.008266357704997063, 0.07205309718847275, -0.08323013782501221, 0.000984611688181758, 0.03335424140095711, -0.029326751828193665, 0.03772014379501343, 0.009054121561348438, 0.06526707857847214, -0.025128647685050964, -0.02799651399254799, 0.05030035227537155, -0.006409610155969858, 0.006113482639193535, -0.023092418909072876, 0.034454744309186935, 0.013408164493739605, -0.017473764717578888, -0.031243586912751198, 0.03468030318617821, 0.003875902621075511, -0.07176929712295532, 0.009555959142744541, -0.04518919810652733, -0.0012582286726683378, -0.02391684055328369, -0.03677450865507126, -0.022498931735754013, 0.007628349121659994, 0.005078847054392099, -0.03052770532667637, -0.017451932653784752, 0.022016916424036026, 0.0022409679368138313, 0.027049120515584946, -0.029115615412592888, 0.014280630275607109, 0.04786651208996773, 0.004839290399104357, -0.00027537590358406305, 0.014293836429715157, -0.018804460763931274, 0.08318626880645752, 0.03968362137675285, -0.018574098125100136, -0.00906510092318058, -0.03109736368060112, -0.07550416886806488, 0.012706107459962368, -0.018197473138570786, 0.012814562767744064, -0.011795408092439175, -0.012649375014007092, -0.008847317658364773, -0.03823036700487137, -0.037896666675806046, -0.027831343933939934, -0.0029609508346766233, -0.012834933586418629, -0.048240724951028824, 0.03383106738328934, 0.016642138361930847, 0.03912949934601784, -0.06612611562013626, -0.0755065381526947, -0.0662422925233841, 0.04461014270782471, -0.007287071086466312, -0.03128625452518463, -0.00613235542550683, 0.03162446245551109, 0.02582944929599762, 0.014173564501106739, -0.020902367308735847, -0.015123449265956879, -0.028805652633309364, 0.003126519965007901, 0.02464974671602249, -0.023508938029408455, 0.002371480455622077, -0.004358425736427307, -0.022694246843457222, 0.004687533248215914, 0.0071828062646090984, -0.0328206941485405, -0.06906614452600479, 0.028847448527812958, 0.01949232444167137, -0.06397179514169693, 0.014178839512169361, -0.02342826873064041, -0.029171576723456383, 0.0654691755771637, -0.007628267630934715, -0.04259704798460007, -0.027929743751883507, -0.03281397372484207, -0.07744726538658142, 0.04944213479757309, -0.10532320290803909, 0.01864009164273739, -0.11103657633066177, -0.0009490032680332661, -0.05272367596626282, -0.023499317467212677, -0.08286543935537338, 0.022493701428174973, 0.054035212844610214, -0.03546225279569626, 0.022841349244117737, -0.020918885245919228, 0.01572534441947937, -0.0028781117871403694, -0.05289721116423607, 0.020483199506998062, -0.052916646003723145, 0.04305537790060043, -0.0021593538112938404, 0.07346950471401215, 0.025077832862734795, 0.0189216248691082, -0.018086794763803482, 0.05880950391292572, 0.02406248077750206, -0.0019414295675233006, 0.020785009488463402, -0.09058212488889694, -0.015965769067406654, -0.02808975987136364, -0.002345767803490162, -0.007282078731805086, 0.01307911891490221, 0.02886461466550827, 0.03133400157094002, -0.013235914520919323, 0.028085071593523026, 0.031825825572013855, -0.01149363536387682, -0.049601174890995026, 0.08339793980121613, 0.005623531993478537, 0.00899712648242712, -0.047910939902067184, -0.02312525548040867, 0.006884375587105751, 0.017631754279136658, -0.02596757933497429, 0.012668577954173088, 0.033638641238212585, 0.06527292728424072, -0.022699706256389618, -0.008766166865825653, -0.0016238351818174124, -0.007219393737614155, 0.052212685346603394, -0.08038291335105896, -0.010863379575312138, 0.02943316102027893, 0.004808931145817041, 0.011947402730584145, -0.01895204558968544, 0.0005591020453721285, 0.002685248153284192, -0.03375242277979851, 0.039630111306905746, 0.0025801188312470913, 0.0003271967580076307, -0.029098061844706535, 0.01970246061682701, 0.024860944598913193, 0.07895715534687042, 0.0027984557673335075, -0.09241224080324173, -0.012274940498173237, -0.001420358195900917, -0.07325121015310287, 0.0020709210075438023, 0.03186861425638199, -0.004592281300574541, 0.009516391903162003, -0.02649470418691635, 0.1194513663649559, -0.06271858513355255, 0.0244598388671875, -0.008720234036445618, -0.016850097104907036, 0.0022406058851629496, 0.04492678493261337, 0.029608596116304398, -0.010358477011322975, 0.06458061188459396, -0.011375079862773418, 0.027281945571303368, 0.026977425441145897, 0.0002983447047881782, 0.0022105034440755844, 0.03035282902419567, -0.0887354165315628, 0.026569824665784836, -0.012239317409694195, -0.03052319586277008, -0.0011565977474674582, 0.035126376897096634, -0.012919021770358086, 0.04634983837604523, -0.0032808887772262096, -0.02431025356054306, 0.03050963021814823, 0.036734528839588165, 0.0340995267033577, 0.03861783817410469, -0.021886086091399193, 0.010406753979623318, -0.011804656125605106, 0.07431964576244354, 0.029152875766158104, -0.03748985007405281, 0.0398012138903141, 0.06892003864049911, -0.023491177707910538, -0.024622498080134392, -0.006232163868844509, 0.03395649045705795, -0.02854849584400654, 0.02460159920156002, -0.07006806880235672, -0.028290104120969772, 0.01722113788127899, -0.005218458827584982, 0.015336769632995129, 0.06896880269050598, 0.012697800062596798, -0.005446743685752153, 0.04795892536640167, -0.028898946940898895, 0.05614053085446358, 0.00165919354185462, 0.002167809521779418, 0.08021370321512222, 0.012944221496582031, -0.01975875534117222, 0.06399604678153992, 0.006487736012786627, 0.0180831141769886, -0.03436427563428879, 0.009045123122632504, -0.009545131586492062, 0.021521959453821182, 0.027270250022411346, 0.0009329408057965338, 0.025512490421533585, -0.032981425523757935, 0.07631786912679672, -0.04723008722066879, -0.0005259111057966948, -0.004224197007715702, -0.04198897257447243, 0.0008310348493978381, 0.0017853586468845606, 0.07287606596946716, 0.02774207666516304, -0.03606622293591499, 0.005327143706381321, -0.024046320468187332, 0.005719941575080156, -0.03088179975748062, 0.03012167103588581, 0.0008938959217630327, -0.019376307725906372, -0.021418245509266853, 0.007708759047091007, 0.00862341932952404, -0.03955577313899994, 0.02498646453022957, 0.06427087634801865, 0.006755762733519077, -0.015858575701713562, -0.023900115862488747, 0.018243400380015373, 0.03133203089237213, 0.03724142163991928, 0.05653050169348717, 0.014243630692362785, -0.013850953429937363, -0.02043214999139309, 0.02028529718518257, 0.0450698547065258, -0.005071192979812622, 0.051660846918821335, 0.0011238999431952834, -0.08971481025218964, 0.023906249552965164, 0.06930700689554214, -0.012624049559235573, -0.014303240925073624, 0.08640982955694199, 0.011801064014434814, -0.10267116874456406, 0.01301330141723156, 0.0067197284661233425, -0.0007439990295097232, -0.001174167962744832, 0.018251799046993256, 0.0004240316047798842, -0.00937394704669714, 0.025276297703385353, -0.015060467645525932, -0.03181926906108856, 0.012844697572290897, -0.009249947965145111, -0.03598010540008545, 0.008038402535021305, -0.01404185127466917, -0.014198902063071728, 0.038280218839645386, -0.04425692558288574, -0.06214151531457901, -0.0640263706445694, -0.000601115869358182, 0.05550296977162361, -0.042019814252853394, 0.026628589257597923, 0.041480645537376404, -0.01870727725327015, 0.00533691281452775, 0.04223823919892311, -0.03675965964794159, 0.023335779085755348, 0.00967302918434143, 0.015140189789235592, -0.01766934245824814, -0.06298468261957169, -0.029771072790026665, 0.014519737102091312, 0.009873416274785995, 0.016891950741410255, 0.02255154959857464, -0.014083638787269592, -0.03710096329450607, 0.007112094666808844, 0.022781439125537872, 0.01798386685550213, -0.008758307434618473, -0.006145016755908728, 0.06082449480891228, 0.0017840055515989661, -0.0005946565652266145, -0.020742032676935196, 0.02007255144417286, 0.06901489943265915, -0.00958032812923193, -0.01132611557841301, 0.0038101044483482838, -0.007014111615717411, -0.0012746395077556372, 0.031289566308259964, -0.006520641501992941, 0.008000494912266731, -0.022863442078232765, 0.01295003667473793, 0.011762014590203762, -0.024780426174402237, -0.046798914670944214, 0.01817389577627182, 0.011570850387215614, -0.018795747309923172, 0.02787284180521965, 0.011013510636985302, -0.02390098012983799, 0.05200187489390373, 0.0483076311647892, 0.026392465457320213, 0.05144932121038437, -0.044122401624917984, -0.04323697090148926, 0.02980905957520008, -0.061367541551589966, 0.024975577369332314, -0.04777581989765167, -0.040183864533901215, 0.11073079705238342, -0.046591855585575104, 0.022644147276878357, 0.010370703414082527, -0.006849383935332298, 0.05296317860484123, -0.016744425520300865, 0.01684105582535267, -0.00790176447480917, -0.0640357956290245, -0.05670444294810295, -0.00431230291724205, 0.021564044058322906, 0.06619346141815186, 0.03749330714344978, -0.013060581870377064, 0.045510921627283096, 0.021636903285980225, -0.0011851638555526733, -0.012267595157027245, -0.06650494039058685, -0.02341298572719097, -0.020254695788025856, 0.08707056939601898, 0.03260407969355583, -0.00019849177624564618, -0.018585726618766785, 0.0330340601503849, -0.002430547960102558, 0.005140149965882301, -0.0572429783642292, 0.004046608228236437, 0.012601814232766628, 0.013820738531649113, 0.013911939226090908, 0.018623072654008865, -0.0443502739071846, -0.002139854244887829]}}, {'embeddings': {'values': [0.024067703634500504, -0.0580475851893425, -0.005275300703942776, -0.010721622966229916, 0.026267744600772858, 0.022675445303320885, 0.05015888437628746, -0.023009222000837326, -0.0009670802392065525, 0.0089834900572896, 0.04323103651404381, -0.03130669146776199, -0.008115801028907299, -0.03944068029522896, 0.0008949638577178121, -0.009187118150293827, -0.0006486974889412522, -0.03015446662902832, -0.012672358192503452, -0.010244405828416348, 0.004523328971117735, 0.015747562050819397, 0.007651606574654579, -0.013866329565644264, -0.00953111331909895, -0.014794960618019104, 0.01626945659518242, -0.007323223166167736, -0.043684497475624084, -0.012404166162014008, -0.054185520857572556, 0.044733550399541855, -0.060779690742492676, -0.017037823796272278, -0.012892307713627815, -0.02643047831952572, -0.011069901287555695, -0.025445785373449326, 0.00943901389837265, 0.006648078095167875, 0.022800961509346962, -0.009111498482525349, 0.006442991551011801, -0.06340522319078445, 0.0287962444126606, -0.01744454726576805, -0.0054734195582568645, 0.030026745051145554, -0.002269256394356489, -0.0844174176454544, 0.05544109642505646, -0.008295148611068726, 0.023502284660935402, -0.00644446536898613, -0.024518463760614395, -0.026744602248072624, 0.026386095210909843, 0.03364957123994827, -0.032647307962179184, -0.01755497045814991, 0.006598825566470623, -0.024494273588061333, -0.030924182385206223, 0.05648680031299591, -0.015807515010237694, -0.05691477283835411, -0.036220237612724304, 0.004782934207469225, 0.05832797288894653, -0.03584721311926842, 0.0022803901229053736, -0.01266518048942089, 0.03722378984093666, -0.011206366121768951, -0.044874805957078934, -0.09158742427825928, -0.007877967320382595, 0.07447291165590286, 0.04206458851695061, 0.03246220573782921, -0.00036885362351313233, 0.032369956374168396, -0.005250710994005203, -0.025145675987005234, -0.06431398540735245, 0.045625343918800354, -0.048410218209028244, -0.044038571417331696, -0.06145171821117401, 0.06889966875314713, 0.005879457574337721, 0.019966477528214455, -0.0012615162413567305, -0.09110824018716812, 0.021123088896274567, 0.032010745257139206, 0.008228663355112076, 0.03190968185663223, -0.009723511524498463, -0.009251830168068409, -0.020383227616548538, -0.00855277944356203, -0.021709896624088287, 0.02797558903694153, 0.039165642112493515, -0.03215567767620087, 0.03151785954833031, 0.08095002919435501, -0.051462847739458084, 0.03827868402004242, -0.04121798649430275, -0.044010523706674576, -0.003950795624405146, -0.0367656908929348, 0.02608274295926094, -0.034496113657951355, -0.003771584713831544, 0.025752952322363853, 0.04088328406214714, -0.041011035442352295, 0.01889043115079403, 0.004316260106861591, 0.0480310320854187, -0.010871302336454391, 0.015340294688940048, 0.07076968997716904, 0.012977908365428448, 0.02462649717926979, 0.04618483781814575, 0.05579277500510216, -0.016369909048080444, -0.02477988786995411, 0.024741847068071365, 0.050391651690006256, 0.06634730100631714, 0.04750729724764824, 0.030289432033896446, 0.0374370701611042, 0.019029030576348305, 0.015949197113513947, 0.014884999953210354, -0.0018379378598183393, -0.016569942235946655, 0.08203355967998505, -0.031875304877758026, -0.0249572042375803, -0.00347896758466959, -0.008247650228440762, 0.00301084341481328, -0.04434819892048836, -0.042203571647405624, -0.007844613865017891, -0.13539186120033264, 0.024544045329093933, 0.057171013206243515, -0.02689746767282486, -0.03537040203809738, 0.04000665247440338, 0.012657652609050274, 0.010542545467615128, 0.06096210330724716, 0.015794845297932625, 0.0017031645402312279, -0.022992273792624474, 0.0353643074631691, 0.03249300271272659, -0.0054207658395171165, 0.0025047326926141977, -0.04180792719125748, -0.026627562940120697, -0.029065752401947975, 0.002027614274993539, -0.06042700633406639, -0.04579523578286171, -0.07238440215587616, -0.07793247699737549, -0.031082339584827423, 0.007567391265183687, -0.004980995319783688, -0.02899637445807457, -0.008602207526564598, -0.055191971361637115, 0.005701596383005381, 0.01312083750963211, 0.03470602259039879, -0.024793513119220734, 0.06444508582353592, -0.06172214820981026, -0.033749714493751526, -0.008616290055215359, -0.028118181973695755, -0.013833429664373398, -0.037903834134340286, -0.057999469339847565, -0.025887753814458847, 0.00022784988686908036, -0.00531159620732069, 0.026786411181092262, 0.04364672303199768, 0.003351157531142235, 0.019933387637138367, 0.06980399787425995, 0.018428649753332138, 0.010539934039115906, 0.008013608865439892, -0.003106542630121112, 0.0655055046081543, -0.05035711079835892, -0.01440860889852047, 0.0034709773026406765, -0.02460673451423645, -0.011111640371382236, -0.030096078291535378, -0.022747356444597244, 0.012166806496679783, 0.019073601812124252, 0.04258043318986893, 0.010058829560875893, 0.010956671088933945, -0.026838155463337898, 0.0076634823344647884, -0.043549925088882446, -0.0044328803196549416, -0.02094087190926075, 0.02354004979133606, 0.033157795667648315, -0.004509864374995232, 0.043515827506780624, 0.022291382774710655, -0.032422080636024475, 0.03447238355875015, 0.07012289017438889, 0.05509009584784508, -0.02035893313586712, 0.02748970128595829, -0.05471349135041237, -0.016957949846982956, -0.00043263568659313023, 0.017587726935744286, -0.024092404171824455, -0.024828854948282242, 0.02503908798098564, 0.04737916961312294, 0.02824939414858818, -0.038586195558309555, -0.01828247494995594, 0.023438945412635803, 0.02425437606871128, -0.028218980878591537, 0.014221605844795704, -0.006986276712268591, -0.03335844352841377, 0.030888620764017105, 0.03754538297653198, -0.052287932485342026, 0.03767545521259308, -0.017671609297394753, -0.02061591111123562, 0.0031982287764549255, 0.04281257465481758, 0.060139674693346024, 0.025666160508990288, -0.02099277824163437, -0.03124607540667057, -0.04562303423881531, -0.025826862081885338, 0.049874790012836456, -0.08425337076187134, -0.03250114992260933, 0.020136501640081406, -0.044109538197517395, -0.05189087614417076, 0.02371368557214737, 0.009910537861287594, -0.0426337756216526, 0.046960100531578064, 0.0003233413735870272, 0.011569295078516006, 0.0380438007414341, -0.028598450124263763, 0.040164198726415634, 0.011160526424646378, -0.017006730660796165, -0.05205126851797104, 6.308349838946015e-05, 0.04249446094036102, -0.034535862505435944, -0.009380501694977283, 0.0395817756652832, -0.02543814294040203, -0.03197778761386871, 0.010739577002823353, -0.01643718220293522, -0.045026764273643494, -0.007815688848495483, 0.012735456228256226, -0.01254536397755146, -0.0076044765301048756, 0.030768683180212975, -0.030965203419327736, -0.025318237021565437, -0.05993357300758362, -0.02126247063279152, -0.03202567994594574, 0.03685764595866203, 0.03144608438014984, -0.02335626631975174, -0.04593599960207939, 0.012687877751886845, 0.03512968868017197, -0.01569291576743126, -0.009060549549758434, -0.026823634281754494, -0.014216537587344646, 0.06096310168504715, 0.012796789407730103, -0.03133434057235718, 0.015580191276967525, -0.06323474645614624, 0.08401110023260117, -0.013470706529915333, 0.05859237536787987, 0.008043095469474792, -0.011451379396021366, -0.021370137110352516, -0.001359561923891306, -0.022986311465501785, 0.04725639894604683, -0.023874202743172646, 0.014715734869241714, 0.03306172415614128, -0.05294668301939964, -0.015112938359379768, 0.03277990221977234, 0.006998020689934492, 0.03855200856924057, -0.07109161466360092, -0.0213564932346344, 0.010202051140367985, -0.06554768234491348, -0.00046059463056735694, 0.028813736513257027, -0.05428176373243332, -0.06729860603809357, 0.015917707234621048, -0.031019167974591255, -0.014156501740217209, -0.0372486375272274, 0.11063162982463837, -0.02426285110414028, 0.052600324153900146, 0.06761788576841354, -0.015538339503109455, 0.005729165859520435, -0.03819124400615692, -0.04754621163010597, 0.05016570910811424, 0.005038655363023281, 0.03743639960885048, -0.026878250762820244, -0.061952684074640274, 0.04905620962381363, -0.005298262927681208, -0.009035623632371426, 0.02061300165951252, 0.013039697892963886, -0.03443615883588791, -0.008438266813755035, 0.017201248556375504, -0.024964287877082825, 0.008187993429601192, -0.039436984807252884, 0.030841555446386337, -0.008764591999351978, -0.02841373160481453, -0.00835070013999939, -0.05046575888991356, -0.015952909365296364, 0.05775700882077217, -0.028859857469797134, -0.02126072719693184, 0.002281459979712963, 0.044525112956762314, 0.043299350887537, 0.010071288794279099, -0.03900466114282608, 0.06091448664665222, 0.0006426092004403472, -0.007011348381638527, 0.0015524070477113128, 0.022560039535164833, 0.019445132464170456, 0.06475866585969925, 0.0029513901099562645, 0.04300014302134514, 0.002649907022714615, -0.009051150642335415, -0.03353027626872063, 0.0639006644487381, -0.018776003271341324, -0.009512573480606079, -0.0015387637540698051, -0.04777110740542412, -0.011210699565708637, 0.011299037374556065, -0.01464055199176073, -0.021186798810958862, -0.04527496173977852, 0.0030234649311751127, 0.0009863259037956595, 0.02703115902841091, 0.03840188682079315, 0.04621001332998276, -0.06159297749400139, -0.045297734439373016, -0.04041644558310509, 0.03693947196006775, -0.022218238562345505, 0.006224350538104773, 0.04320960491895676, -0.007694807834923267, -0.006114901043474674, 0.015001168474555016, -0.07685914635658264, -0.044025968760252, -0.013780811801552773, 0.004147742409259081, -0.052279457449913025, -0.013575983233749866, 0.01359302643686533, 0.01292042899876833, 0.013393979519605637, -0.002875098492950201, 0.02234157733619213, -0.03125161677598953, -0.033073727041482925, 0.014804506674408913, 0.0003139835607726127, -0.0015552494442090392, -0.025063209235668182, 0.03347752243280411, -0.04638081043958664, 0.003985404968261719, 0.03764918074011803, -0.03496706485748291, -0.0115185072645545, 0.007418288383632898, -0.0685150995850563, 0.03493247553706169, -0.10991467535495758, -0.02624056302011013, -0.02575741894543171, -0.015339787118136883, -0.06516597419977188, 0.00982204545289278, -0.02077561803162098, -0.01524882297962904, 0.06964906305074692, -0.004595675505697727, -0.02340155467391014, 0.0009154285653494298, -0.03935753554105759, -0.010928773321211338, -0.13234961032867432, -0.020225973799824715, -0.061470527201890945, 0.023124489933252335, -0.04493790492415428, 0.05492415279150009, 0.07611283659934998, -0.0025062114000320435, -0.02775832638144493, 0.009679777547717094, 0.004647073335945606, -0.022219307720661163, 0.026088397949934006, -0.07999745011329651, 0.002052134368568659, -0.011698232963681221, -0.03206503391265869, 0.006377848330885172, 0.030402468517422676, 0.03982954099774361, -0.014054356142878532, -0.04982571676373482, -0.04552401974797249, 0.014799341559410095, -0.0015180464833974838, -0.02115136757493019, 0.0525834783911705, -0.03149509057402611, -0.010065550915896893, -0.024416446685791016, -0.03489721938967705, -0.00251982593908906, 0.014900305308401585, -0.014119393192231655, 0.06362336874008179, 0.053277838975191116, 0.05746428668498993, 0.003428947413340211, 0.00339787220582366, -0.012821631506085396, -0.035829417407512665, 0.047040123492479324, -0.0754275768995285, 0.030911488458514214, 0.029376396909356117, -0.0010483566438779235, -0.041238438338041306, -0.0220724456012249, 0.001482004183344543, 0.05896647274494171, -0.018668385222554207, 0.05490515008568764, -0.04508357122540474, -0.005385077092796564, -0.02379300817847252, 0.004199623595923185, -0.030977899208664894, 0.09060867875814438, 0.006083719898015261, -0.05903337523341179, 0.005871718283742666, 0.010081280022859573, -0.05048368498682976, -0.008577832952141762, 0.018270932137966156, -0.0038575311191380024, 0.0017959435936063528, -0.04395684599876404, 0.05459840968251228, -0.11841737478971481, -0.032957207411527634, 0.0012224256061017513, -0.035024967044591904, -0.02811899222433567, 0.006283983588218689, 0.07058902084827423, -0.049891114234924316, 0.04525603726506233, -0.06551635265350342, 0.010923379100859165, 0.0018756520003080368, 0.00566875422373414, 0.013374561443924904, 0.05896054953336716, -0.10098045319318771, 0.042032014578580856, -0.0064780935645103455, -0.028998136520385742, -0.023735135793685913, 0.02402021922171116, -0.01293631736189127, 0.04822046309709549, -0.01993493176996708, -0.04693756252527237, 0.032432813197374344, 0.028605377301573753, 0.02607852965593338, -0.032722100615501404, -0.03067370504140854, 0.009424751624464989, -0.0004170578613411635, 0.02235831692814827, -0.0019319821149110794, -0.04009535536170006, 0.008972997777163982, 0.07744482904672623, -0.04068233445286751, -0.020491745322942734, 0.016563942655920982, 0.029196912422776222, 0.03030000627040863, 0.07073395699262619, 0.016008544713258743, -0.03165765851736069, -0.03283398225903511, -0.02364104799926281, -0.015806980431079865, 0.03562179207801819, 0.011389349587261677, -0.02996719256043434, 0.0682101845741272, -0.017475271597504616, 0.04776569828391075, 0.034213028848171234, 0.01852700486779213, 0.029749838635325432, 0.021151194348931313, -0.043431755155324936, 0.05187550187110901, -0.04924833029508591, -0.03218361735343933, -0.00758392596617341, 0.003180946223437786, 0.005473288707435131, -0.015409095212817192, -0.006649510469287634, -0.015691831707954407, 0.012272666208446026, -0.04355214536190033, 0.07474443316459656, -0.02131466567516327, -0.023047875612974167, 0.043348900973796844, -0.014912085607647896, -0.014981490559875965, -0.004303829278796911, 0.03637233003973961, -0.019902396947145462, -0.010709715075790882, 0.053651366382837296, 0.0035339987371116877, -0.023685993626713753, -0.005962891969829798, 0.04210137203335762, -0.0028945785015821457, -0.04248996078968048, -0.019873011857271194, -0.018085068091750145, 0.029068903997540474, 0.015945639461278915, 0.02119639329612255, 0.05954345688223839, 0.005544149782508612, -0.020900659263134003, 0.001589674735441804, 0.012579781003296375, 0.03706124797463417, 0.04906849563121796, 0.03819027543067932, -0.005059352610260248, -0.004984725266695023, -0.03368845582008362, 0.047759514302015305, -0.03766855597496033, 0.0008104585576802492, 0.02593638002872467, 0.004262844566255808, -0.1005694568157196, 0.010239007882773876, 0.021741222590208054, -0.02220480889081955, 0.020739706233143806, 0.03585909679532051, 0.020274946466088295, -0.04678637906908989, -0.017449280247092247, -0.0014495658688247204, 0.0025964342057704926, -0.035658448934555054, 0.060071203857660294, -0.03125013783574104, -0.043210726231336594, -0.00987286027520895, -0.05203785374760628, -0.022545544430613518, 0.035559654235839844, -0.025716163218021393, -0.03338050842285156, 0.025577249005436897, -0.022433694452047348, 0.002495588967576623, 0.001611968269571662, -0.050041116774082184, -0.034411050379276276, -0.051410045474767685, -0.0814540833234787, 0.010492624714970589, -0.058673884719610214, 0.025322286412119865, 0.01927412860095501, -0.004441580735146999, 0.015528847463428974, 0.02425914816558361, -0.04265337064862251, 0.058651939034461975, 0.02324303798377514, 0.04274565726518631, -0.03067682310938835, -0.019048897549510002, -0.022431274875998497, 0.023980235680937767, -0.03470940887928009, 0.03306258097290993, 0.021263588219881058, -0.020805759355425835, -0.022079523652791977, -0.01648624800145626, -0.012652887962758541, -0.015193510800600052, -0.05399768054485321, -0.008907344192266464, 0.07180070877075195, 0.025694649666547775, -0.02005668729543686, -0.0035929284058511257, 0.027967598289251328, 0.06235868111252785, -0.01136062666773796, -0.04310857132077217, 0.01750783994793892, -0.03436291962862015, -0.02463475987315178, -0.002835816005244851, -0.008869558572769165, 0.03251221030950546, 0.0027920922730118036, 0.0057786195538938046, 0.04072611406445503, -0.04670322313904762, -0.03862250968813896, 0.015355957671999931, 0.044085271656513214, -0.026926584541797638, 0.014575794339179993, -0.023620305582880974, -0.05876188352704048, 0.06395658850669861, 0.029901647940278053, 0.02488689310848713, -0.018314199522137642, -0.03601248562335968, -0.02816404029726982, 0.041384901851415634, -0.0030730818398296833, 0.012453161180019379, -0.0460534505546093, -0.025796763598918915, 0.06660305708646774, -0.05379725620150566, 0.03810747712850571, 0.050596464425325394, -0.06136978790163994, 0.06192675605416298, -0.0013962574303150177, 0.042069755494594574, 0.0045494441874325275, -0.06302893161773682, -0.018866632133722305, -0.024775048717856407, 0.0472898930311203, 0.08242983371019363, -0.01686263643205166, -0.05801108479499817, 0.01827170141041279, -0.00935305841267109, -0.009799597784876823, -0.014483828097581863, -0.04156624898314476, -0.029586859047412872, 0.010851627215743065, 0.033203426748514175, 0.05868517979979515, -0.0178003441542387, -0.010377633385360241, 0.04000631719827652, -0.01545855961740017, 0.026347730308771133, -0.06482722610235214, 0.03459193557500839, -0.054116349667310715, 0.03717484697699547, 0.058794569224119186, 0.04927239194512367, -0.01736229471862316, 0.016630522906780243], 'statistics': {'token_count': 14.0, 'truncated': False}}}], deployed_model_id='', metadata={'billableCharacterCount': 55.0}, model_version_id='', model_resource_name='', explanations=None))\n",
            "\n",
            "\n",
            "Text: This is a test sentence for generating embeddings.\n",
            "Embedding: TextEmbedding(values=[0.024067703634500504, -0.0580475851893425, -0.005275300703942776, -0.010721622966229916, 0.026267744600772858, 0.022675445303320885, 0.05015888437628746, -0.023009222000837326, -0.0009670802392065525, 0.0089834900572896, 0.04323103651404381, -0.03130669146776199, -0.008115801028907299, -0.03944068029522896, 0.0008949638577178121, -0.009187118150293827, -0.0006486974889412522, -0.03015446662902832, -0.012672358192503452, -0.010244405828416348, 0.004523328971117735, 0.015747562050819397, 0.007651606574654579, -0.013866329565644264, -0.00953111331909895, -0.014794960618019104, 0.01626945659518242, -0.007323223166167736, -0.043684497475624084, -0.012404166162014008, -0.054185520857572556, 0.044733550399541855, -0.060779690742492676, -0.017037823796272278, -0.012892307713627815, -0.02643047831952572, -0.011069901287555695, -0.025445785373449326, 0.00943901389837265, 0.006648078095167875, 0.022800961509346962, -0.009111498482525349, 0.006442991551011801, -0.06340522319078445, 0.0287962444126606, -0.01744454726576805, -0.0054734195582568645, 0.030026745051145554, -0.002269256394356489, -0.0844174176454544, 0.05544109642505646, -0.008295148611068726, 0.023502284660935402, -0.00644446536898613, -0.024518463760614395, -0.026744602248072624, 0.026386095210909843, 0.03364957123994827, -0.032647307962179184, -0.01755497045814991, 0.006598825566470623, -0.024494273588061333, -0.030924182385206223, 0.05648680031299591, -0.015807515010237694, -0.05691477283835411, -0.036220237612724304, 0.004782934207469225, 0.05832797288894653, -0.03584721311926842, 0.0022803901229053736, -0.01266518048942089, 0.03722378984093666, -0.011206366121768951, -0.044874805957078934, -0.09158742427825928, -0.007877967320382595, 0.07447291165590286, 0.04206458851695061, 0.03246220573782921, -0.00036885362351313233, 0.032369956374168396, -0.005250710994005203, -0.025145675987005234, -0.06431398540735245, 0.045625343918800354, -0.048410218209028244, -0.044038571417331696, -0.06145171821117401, 0.06889966875314713, 0.005879457574337721, 0.019966477528214455, -0.0012615162413567305, -0.09110824018716812, 0.021123088896274567, 0.032010745257139206, 0.008228663355112076, 0.03190968185663223, -0.009723511524498463, -0.009251830168068409, -0.020383227616548538, -0.00855277944356203, -0.021709896624088287, 0.02797558903694153, 0.039165642112493515, -0.03215567767620087, 0.03151785954833031, 0.08095002919435501, -0.051462847739458084, 0.03827868402004242, -0.04121798649430275, -0.044010523706674576, -0.003950795624405146, -0.0367656908929348, 0.02608274295926094, -0.034496113657951355, -0.003771584713831544, 0.025752952322363853, 0.04088328406214714, -0.041011035442352295, 0.01889043115079403, 0.004316260106861591, 0.0480310320854187, -0.010871302336454391, 0.015340294688940048, 0.07076968997716904, 0.012977908365428448, 0.02462649717926979, 0.04618483781814575, 0.05579277500510216, -0.016369909048080444, -0.02477988786995411, 0.024741847068071365, 0.050391651690006256, 0.06634730100631714, 0.04750729724764824, 0.030289432033896446, 0.0374370701611042, 0.019029030576348305, 0.015949197113513947, 0.014884999953210354, -0.0018379378598183393, -0.016569942235946655, 0.08203355967998505, -0.031875304877758026, -0.0249572042375803, -0.00347896758466959, -0.008247650228440762, 0.00301084341481328, -0.04434819892048836, -0.042203571647405624, -0.007844613865017891, -0.13539186120033264, 0.024544045329093933, 0.057171013206243515, -0.02689746767282486, -0.03537040203809738, 0.04000665247440338, 0.012657652609050274, 0.010542545467615128, 0.06096210330724716, 0.015794845297932625, 0.0017031645402312279, -0.022992273792624474, 0.0353643074631691, 0.03249300271272659, -0.0054207658395171165, 0.0025047326926141977, -0.04180792719125748, -0.026627562940120697, -0.029065752401947975, 0.002027614274993539, -0.06042700633406639, -0.04579523578286171, -0.07238440215587616, -0.07793247699737549, -0.031082339584827423, 0.007567391265183687, -0.004980995319783688, -0.02899637445807457, -0.008602207526564598, -0.055191971361637115, 0.005701596383005381, 0.01312083750963211, 0.03470602259039879, -0.024793513119220734, 0.06444508582353592, -0.06172214820981026, -0.033749714493751526, -0.008616290055215359, -0.028118181973695755, -0.013833429664373398, -0.037903834134340286, -0.057999469339847565, -0.025887753814458847, 0.00022784988686908036, -0.00531159620732069, 0.026786411181092262, 0.04364672303199768, 0.003351157531142235, 0.019933387637138367, 0.06980399787425995, 0.018428649753332138, 0.010539934039115906, 0.008013608865439892, -0.003106542630121112, 0.0655055046081543, -0.05035711079835892, -0.01440860889852047, 0.0034709773026406765, -0.02460673451423645, -0.011111640371382236, -0.030096078291535378, -0.022747356444597244, 0.012166806496679783, 0.019073601812124252, 0.04258043318986893, 0.010058829560875893, 0.010956671088933945, -0.026838155463337898, 0.0076634823344647884, -0.043549925088882446, -0.0044328803196549416, -0.02094087190926075, 0.02354004979133606, 0.033157795667648315, -0.004509864374995232, 0.043515827506780624, 0.022291382774710655, -0.032422080636024475, 0.03447238355875015, 0.07012289017438889, 0.05509009584784508, -0.02035893313586712, 0.02748970128595829, -0.05471349135041237, -0.016957949846982956, -0.00043263568659313023, 0.017587726935744286, -0.024092404171824455, -0.024828854948282242, 0.02503908798098564, 0.04737916961312294, 0.02824939414858818, -0.038586195558309555, -0.01828247494995594, 0.023438945412635803, 0.02425437606871128, -0.028218980878591537, 0.014221605844795704, -0.006986276712268591, -0.03335844352841377, 0.030888620764017105, 0.03754538297653198, -0.052287932485342026, 0.03767545521259308, -0.017671609297394753, -0.02061591111123562, 0.0031982287764549255, 0.04281257465481758, 0.060139674693346024, 0.025666160508990288, -0.02099277824163437, -0.03124607540667057, -0.04562303423881531, -0.025826862081885338, 0.049874790012836456, -0.08425337076187134, -0.03250114992260933, 0.020136501640081406, -0.044109538197517395, -0.05189087614417076, 0.02371368557214737, 0.009910537861287594, -0.0426337756216526, 0.046960100531578064, 0.0003233413735870272, 0.011569295078516006, 0.0380438007414341, -0.028598450124263763, 0.040164198726415634, 0.011160526424646378, -0.017006730660796165, -0.05205126851797104, 6.308349838946015e-05, 0.04249446094036102, -0.034535862505435944, -0.009380501694977283, 0.0395817756652832, -0.02543814294040203, -0.03197778761386871, 0.010739577002823353, -0.01643718220293522, -0.045026764273643494, -0.007815688848495483, 0.012735456228256226, -0.01254536397755146, -0.0076044765301048756, 0.030768683180212975, -0.030965203419327736, -0.025318237021565437, -0.05993357300758362, -0.02126247063279152, -0.03202567994594574, 0.03685764595866203, 0.03144608438014984, -0.02335626631975174, -0.04593599960207939, 0.012687877751886845, 0.03512968868017197, -0.01569291576743126, -0.009060549549758434, -0.026823634281754494, -0.014216537587344646, 0.06096310168504715, 0.012796789407730103, -0.03133434057235718, 0.015580191276967525, -0.06323474645614624, 0.08401110023260117, -0.013470706529915333, 0.05859237536787987, 0.008043095469474792, -0.011451379396021366, -0.021370137110352516, -0.001359561923891306, -0.022986311465501785, 0.04725639894604683, -0.023874202743172646, 0.014715734869241714, 0.03306172415614128, -0.05294668301939964, -0.015112938359379768, 0.03277990221977234, 0.006998020689934492, 0.03855200856924057, -0.07109161466360092, -0.0213564932346344, 0.010202051140367985, -0.06554768234491348, -0.00046059463056735694, 0.028813736513257027, -0.05428176373243332, -0.06729860603809357, 0.015917707234621048, -0.031019167974591255, -0.014156501740217209, -0.0372486375272274, 0.11063162982463837, -0.02426285110414028, 0.052600324153900146, 0.06761788576841354, -0.015538339503109455, 0.005729165859520435, -0.03819124400615692, -0.04754621163010597, 0.05016570910811424, 0.005038655363023281, 0.03743639960885048, -0.026878250762820244, -0.061952684074640274, 0.04905620962381363, -0.005298262927681208, -0.009035623632371426, 0.02061300165951252, 0.013039697892963886, -0.03443615883588791, -0.008438266813755035, 0.017201248556375504, -0.024964287877082825, 0.008187993429601192, -0.039436984807252884, 0.030841555446386337, -0.008764591999351978, -0.02841373160481453, -0.00835070013999939, -0.05046575888991356, -0.015952909365296364, 0.05775700882077217, -0.028859857469797134, -0.02126072719693184, 0.002281459979712963, 0.044525112956762314, 0.043299350887537, 0.010071288794279099, -0.03900466114282608, 0.06091448664665222, 0.0006426092004403472, -0.007011348381638527, 0.0015524070477113128, 0.022560039535164833, 0.019445132464170456, 0.06475866585969925, 0.0029513901099562645, 0.04300014302134514, 0.002649907022714615, -0.009051150642335415, -0.03353027626872063, 0.0639006644487381, -0.018776003271341324, -0.009512573480606079, -0.0015387637540698051, -0.04777110740542412, -0.011210699565708637, 0.011299037374556065, -0.01464055199176073, -0.021186798810958862, -0.04527496173977852, 0.0030234649311751127, 0.0009863259037956595, 0.02703115902841091, 0.03840188682079315, 0.04621001332998276, -0.06159297749400139, -0.045297734439373016, -0.04041644558310509, 0.03693947196006775, -0.022218238562345505, 0.006224350538104773, 0.04320960491895676, -0.007694807834923267, -0.006114901043474674, 0.015001168474555016, -0.07685914635658264, -0.044025968760252, -0.013780811801552773, 0.004147742409259081, -0.052279457449913025, -0.013575983233749866, 0.01359302643686533, 0.01292042899876833, 0.013393979519605637, -0.002875098492950201, 0.02234157733619213, -0.03125161677598953, -0.033073727041482925, 0.014804506674408913, 0.0003139835607726127, -0.0015552494442090392, -0.025063209235668182, 0.03347752243280411, -0.04638081043958664, 0.003985404968261719, 0.03764918074011803, -0.03496706485748291, -0.0115185072645545, 0.007418288383632898, -0.0685150995850563, 0.03493247553706169, -0.10991467535495758, -0.02624056302011013, -0.02575741894543171, -0.015339787118136883, -0.06516597419977188, 0.00982204545289278, -0.02077561803162098, -0.01524882297962904, 0.06964906305074692, -0.004595675505697727, -0.02340155467391014, 0.0009154285653494298, -0.03935753554105759, -0.010928773321211338, -0.13234961032867432, -0.020225973799824715, -0.061470527201890945, 0.023124489933252335, -0.04493790492415428, 0.05492415279150009, 0.07611283659934998, -0.0025062114000320435, -0.02775832638144493, 0.009679777547717094, 0.004647073335945606, -0.022219307720661163, 0.026088397949934006, -0.07999745011329651, 0.002052134368568659, -0.011698232963681221, -0.03206503391265869, 0.006377848330885172, 0.030402468517422676, 0.03982954099774361, -0.014054356142878532, -0.04982571676373482, -0.04552401974797249, 0.014799341559410095, -0.0015180464833974838, -0.02115136757493019, 0.0525834783911705, -0.03149509057402611, -0.010065550915896893, -0.024416446685791016, -0.03489721938967705, -0.00251982593908906, 0.014900305308401585, -0.014119393192231655, 0.06362336874008179, 0.053277838975191116, 0.05746428668498993, 0.003428947413340211, 0.00339787220582366, -0.012821631506085396, -0.035829417407512665, 0.047040123492479324, -0.0754275768995285, 0.030911488458514214, 0.029376396909356117, -0.0010483566438779235, -0.041238438338041306, -0.0220724456012249, 0.001482004183344543, 0.05896647274494171, -0.018668385222554207, 0.05490515008568764, -0.04508357122540474, -0.005385077092796564, -0.02379300817847252, 0.004199623595923185, -0.030977899208664894, 0.09060867875814438, 0.006083719898015261, -0.05903337523341179, 0.005871718283742666, 0.010081280022859573, -0.05048368498682976, -0.008577832952141762, 0.018270932137966156, -0.0038575311191380024, 0.0017959435936063528, -0.04395684599876404, 0.05459840968251228, -0.11841737478971481, -0.032957207411527634, 0.0012224256061017513, -0.035024967044591904, -0.02811899222433567, 0.006283983588218689, 0.07058902084827423, -0.049891114234924316, 0.04525603726506233, -0.06551635265350342, 0.010923379100859165, 0.0018756520003080368, 0.00566875422373414, 0.013374561443924904, 0.05896054953336716, -0.10098045319318771, 0.042032014578580856, -0.0064780935645103455, -0.028998136520385742, -0.023735135793685913, 0.02402021922171116, -0.01293631736189127, 0.04822046309709549, -0.01993493176996708, -0.04693756252527237, 0.032432813197374344, 0.028605377301573753, 0.02607852965593338, -0.032722100615501404, -0.03067370504140854, 0.009424751624464989, -0.0004170578613411635, 0.02235831692814827, -0.0019319821149110794, -0.04009535536170006, 0.008972997777163982, 0.07744482904672623, -0.04068233445286751, -0.020491745322942734, 0.016563942655920982, 0.029196912422776222, 0.03030000627040863, 0.07073395699262619, 0.016008544713258743, -0.03165765851736069, -0.03283398225903511, -0.02364104799926281, -0.015806980431079865, 0.03562179207801819, 0.011389349587261677, -0.02996719256043434, 0.0682101845741272, -0.017475271597504616, 0.04776569828391075, 0.034213028848171234, 0.01852700486779213, 0.029749838635325432, 0.021151194348931313, -0.043431755155324936, 0.05187550187110901, -0.04924833029508591, -0.03218361735343933, -0.00758392596617341, 0.003180946223437786, 0.005473288707435131, -0.015409095212817192, -0.006649510469287634, -0.015691831707954407, 0.012272666208446026, -0.04355214536190033, 0.07474443316459656, -0.02131466567516327, -0.023047875612974167, 0.043348900973796844, -0.014912085607647896, -0.014981490559875965, -0.004303829278796911, 0.03637233003973961, -0.019902396947145462, -0.010709715075790882, 0.053651366382837296, 0.0035339987371116877, -0.023685993626713753, -0.005962891969829798, 0.04210137203335762, -0.0028945785015821457, -0.04248996078968048, -0.019873011857271194, -0.018085068091750145, 0.029068903997540474, 0.015945639461278915, 0.02119639329612255, 0.05954345688223839, 0.005544149782508612, -0.020900659263134003, 0.001589674735441804, 0.012579781003296375, 0.03706124797463417, 0.04906849563121796, 0.03819027543067932, -0.005059352610260248, -0.004984725266695023, -0.03368845582008362, 0.047759514302015305, -0.03766855597496033, 0.0008104585576802492, 0.02593638002872467, 0.004262844566255808, -0.1005694568157196, 0.010239007882773876, 0.021741222590208054, -0.02220480889081955, 0.020739706233143806, 0.03585909679532051, 0.020274946466088295, -0.04678637906908989, -0.017449280247092247, -0.0014495658688247204, 0.0025964342057704926, -0.035658448934555054, 0.060071203857660294, -0.03125013783574104, -0.043210726231336594, -0.00987286027520895, -0.05203785374760628, -0.022545544430613518, 0.035559654235839844, -0.025716163218021393, -0.03338050842285156, 0.025577249005436897, -0.022433694452047348, 0.002495588967576623, 0.001611968269571662, -0.050041116774082184, -0.034411050379276276, -0.051410045474767685, -0.0814540833234787, 0.010492624714970589, -0.058673884719610214, 0.025322286412119865, 0.01927412860095501, -0.004441580735146999, 0.015528847463428974, 0.02425914816558361, -0.04265337064862251, 0.058651939034461975, 0.02324303798377514, 0.04274565726518631, -0.03067682310938835, -0.019048897549510002, -0.022431274875998497, 0.023980235680937767, -0.03470940887928009, 0.03306258097290993, 0.021263588219881058, -0.020805759355425835, -0.022079523652791977, -0.01648624800145626, -0.012652887962758541, -0.015193510800600052, -0.05399768054485321, -0.008907344192266464, 0.07180070877075195, 0.025694649666547775, -0.02005668729543686, -0.0035929284058511257, 0.027967598289251328, 0.06235868111252785, -0.01136062666773796, -0.04310857132077217, 0.01750783994793892, -0.03436291962862015, -0.02463475987315178, -0.002835816005244851, -0.008869558572769165, 0.03251221030950546, 0.0027920922730118036, 0.0057786195538938046, 0.04072611406445503, -0.04670322313904762, -0.03862250968813896, 0.015355957671999931, 0.044085271656513214, -0.026926584541797638, 0.014575794339179993, -0.023620305582880974, -0.05876188352704048, 0.06395658850669861, 0.029901647940278053, 0.02488689310848713, -0.018314199522137642, -0.03601248562335968, -0.02816404029726982, 0.041384901851415634, -0.0030730818398296833, 0.012453161180019379, -0.0460534505546093, -0.025796763598918915, 0.06660305708646774, -0.05379725620150566, 0.03810747712850571, 0.050596464425325394, -0.06136978790163994, 0.06192675605416298, -0.0013962574303150177, 0.042069755494594574, 0.0045494441874325275, -0.06302893161773682, -0.018866632133722305, -0.024775048717856407, 0.0472898930311203, 0.08242983371019363, -0.01686263643205166, -0.05801108479499817, 0.01827170141041279, -0.00935305841267109, -0.009799597784876823, -0.014483828097581863, -0.04156624898314476, -0.029586859047412872, 0.010851627215743065, 0.033203426748514175, 0.05868517979979515, -0.0178003441542387, -0.010377633385360241, 0.04000631719827652, -0.01545855961740017, 0.026347730308771133, -0.06482722610235214, 0.03459193557500839, -0.054116349667310715, 0.03717484697699547, 0.058794569224119186, 0.04927239194512367, -0.01736229471862316, 0.016630522906780243], statistics=TextEmbeddingStatistics(token_count=14.0, truncated=False), _prediction_response=Prediction(predictions=[{'embeddings': {'statistics': {'truncated': False, 'token_count': 4.0}, 'values': [0.05048881471157074, -0.027526220306754112, -0.029739122837781906, -0.023983176797628403, 0.014556266367435455, 0.009877710603177547, 0.031096046790480614, -0.013410440646111965, 0.010270212776958942, -0.0028309847693890333, 0.04382384195923805, 0.04735852777957916, 0.0038899395149201155, -0.05870475620031357, -0.013154584914445877, -0.018172577023506165, 0.01607293263077736, -0.008533775806427002, -0.004098878242075443, -0.004364946857094765, 0.003848735708743334, 0.004871689714491367, -0.023533562198281288, -0.03507405146956444, 0.02098313719034195, -0.0014545134035870433, 0.0008274627616629004, -0.07081551104784012, 0.0011253736447542906, 0.06359116733074188, -0.04751729965209961, 0.007458766922354698, -0.05418795347213745, 0.008057346567511559, 0.040036819875240326, -0.06546219438314438, 0.040994979441165924, 0.011809512041509151, -0.0030763561371713877, 0.006217926740646362, 0.02165478654205799, -0.08145613968372345, -0.043191101402044296, -0.035838909447193146, 0.049893397837877274, -0.005726260133087635, 0.005936641711741686, 0.004415619652718306, 0.02217748761177063, -0.0835578665137291, 0.04015425965189934, 0.027812954038381577, 0.053679779171943665, -0.016857093200087547, 0.01949101872742176, -0.013253969140350819, 0.08038000762462616, 0.022622421383857727, -0.07959556579589844, 0.008046436123549938, 0.027295157313346863, 0.021349798887968063, -0.01973770186305046, 0.06585876643657684, 0.00436722207814455, -0.02234615944325924, -0.062187083065509796, 0.04618538171052933, 0.048352066427469254, -0.027763573452830315, 0.009783121757209301, -0.0253431499004364, 0.03293408080935478, -0.040931545197963715, -0.027531404048204422, -0.05209473520517349, -0.009170291014015675, 0.03385336324572563, -0.01598748378455639, -0.012373657897114754, -0.03219446539878845, -0.06252016872167587, -0.01750873029232025, -0.021072639152407646, -0.08675862848758698, 0.038547854870557785, -0.02796001546084881, 0.03003074787557125, -0.013659159652888775, 0.07964766025543213, 0.010575171560049057, -0.02796539105474949, 0.05638904124498367, -0.05756859853863716, -0.03226183354854584, 0.033197563141584396, -0.00896495208144188, -0.029663290828466415, -0.0063441041857004166, -0.062392156571149826, 0.029394114390015602, -0.06376134604215622, -0.03182327747344971, -0.0014910721220076084, 0.037683747708797455, 0.016848286613821983, -0.025911672040820122, 0.026020627468824387, -0.008634413592517376, 0.04249121993780136, -0.05040716379880905, 0.043802909553050995, -0.04726192355155945, -0.0069200689904391766, 0.01211615465581417, 0.007213786244392395, -0.004749517887830734, 0.09605716913938522, 0.009756126441061497, 0.06330560147762299, -0.02105744741857052, -0.004535681568086147, 0.027011282742023468, -0.028617754578590393, -0.0011115361703559756, 0.012106712907552719, 0.0393097847700119, 0.04576713964343071, 0.024737844243645668, 0.016377273947000504, -0.014828656800091267, -0.05709558352828026, 0.07621139287948608, -0.00214051129296422, 0.023849932476878166, 0.03955599665641785, 0.07564951479434967, -0.02221582643687725, 0.020026162266731262, 0.01249027531594038, -0.013390850275754929, 0.00039984285831451416, -0.025672240182757378, 0.009095313027501106, -0.02450590766966343, 0.02297414280474186, -0.010872364044189453, -0.05460240691900253, 0.001279307994991541, -0.04930294305086136, -0.002163279801607132, -0.004844293929636478, -0.06175044924020767, 0.00034633933682926, 0.08819784969091415, 0.0037579121999442577, -0.035145703703165054, 0.006065757945179939, 0.045841142535209656, -0.004726576618850231, 0.012755367904901505, -0.029894821345806122, 0.05989886820316315, 0.001740244566462934, -0.022283338010311127, -0.034990567713975906, -0.007469993084669113, -0.011840088292956352, -0.028322072699666023, 0.01410376001149416, 0.013006347231566906, 0.0058363499119877815, -0.022358562797307968, -0.05372200906276703, 0.004307241644710302, -0.05788533389568329, 0.03553245961666107, -0.011626613326370716, -0.04356124997138977, -0.011199640110135078, -0.03944147378206253, 0.0024815683718770742, 0.002854561200365424, 0.016770176589488983, -0.0001249788620043546, 0.01372956670820713, 0.07578808814287186, -0.04865918308496475, 0.0063447789289057255, 0.022786134853959084, 0.003352648811414838, -0.0010485266102477908, 0.008305536583065987, 0.010489699430763721, -0.012418154627084732, 0.06661593168973923, -0.04097845405340195, 0.05746240168809891, 0.040789127349853516, -0.02546471171081066, 0.035971030592918396, 0.10388145595788956, 0.0018573784036561847, -0.027180448174476624, 0.06734710931777954, -0.044276390224695206, 0.09131501615047455, -0.05139993876218796, -0.005260597448796034, 0.024136753752827644, -0.04355710372328758, -0.007198034785687923, -0.010573305189609528, -0.012780292890965939, 0.05881589651107788, 0.02499900758266449, -0.008862905204296112, 0.02092086896300316, -0.028798026964068413, -0.03646732494235039, -0.0300727691501379, 0.0044889915734529495, -0.03199475631117821, 0.008313515223562717, 0.0034508949611335993, 0.03470147028565407, -0.0280691497027874, 0.002574035432189703, -0.0015235701575875282, -0.04431282356381416, -0.017172465100884438, 0.06082095205783844, -0.02527809888124466, -0.012473152950406075, 0.03199690207839012, -0.011954929679632187, -0.03945895656943321, 0.008965118788182735, 0.004340264480561018, 0.051437363028526306, -0.07123009115457535, 0.022114254534244537, 0.044540468603372574, 0.02134203352034092, -0.06749401986598969, -0.016641765832901, -0.0556761734187603, 0.012263336218893528, -0.0318685919046402, 0.005688264966011047, -0.00046509868116118014, -0.03238753229379654, 0.01819145865738392, 0.048415299504995346, -0.06626275926828384, 0.061984315514564514, -0.018225697800517082, -0.017609652131795883, -0.020563269034028053, 0.005252506118267775, 0.048270124942064285, 0.007986734621226788, 0.04708337411284447, 0.03302944451570511, -0.06063301861286163, -0.008139587007462978, 0.0591203048825264, -0.0392698273062706, -0.01483495905995369, 0.025580553337931633, 0.006437988020479679, -0.048715539276599884, 0.09328629076480865, -0.0012749797897413373, -0.03490881621837616, 0.013713770546019077, -0.006639918778091669, 0.015079639852046967, 0.04950341954827309, -0.024954553693532944, -0.008788487873971462, 0.01835896261036396, 0.03973441570997238, -0.021965032443404198, -0.009827908128499985, -0.009073064662516117, -0.026504401117563248, 0.007096302695572376, 0.05945611372590065, -0.020541047677397728, -0.06174413487315178, -0.001628735102713108, -0.0014965063892304897, -0.03234318643808365, -0.05796140804886818, -0.010218676179647446, 0.012611678801476955, 0.013897312805056572, 0.010139456018805504, -0.024605339393019676, -0.012010953389108181, -0.011011309921741486, -0.011520869098603725, -0.04940436780452728, -0.017981208860874176, -0.007599710486829281, 0.006189392879605293, -0.04125132039189339, 0.020360523834824562, 0.007487389259040356, -0.03591667115688324, -0.012753114104270935, -0.0422552116215229, 0.02915925532579422, 0.06827525794506073, 0.02939269132912159, 0.0008129241177812219, 0.04736143350601196, -0.033379364758729935, 0.06482771039009094, 0.0038646054454147816, 0.09300840646028519, -0.016037626191973686, -0.021659696474671364, -0.009233599528670311, 0.009761362336575985, -0.0003000504511874169, 0.05559496581554413, 0.017730189487338066, -0.014302380383014679, -0.013134639710187912, -0.021828843280673027, -0.03672652319073677, 0.01356380246579647, 0.0409422442317009, 0.005327377002686262, -0.009354215115308762, 0.038764022290706635, -0.01477749552577734, -0.04990699514746666, -0.04255665838718414, -0.007590760011225939, -0.025440173223614693, -0.04937170445919037, -0.01496218703687191, -0.004936849698424339, -0.02028416469693184, 0.008934488520026207, 0.04526345431804657, 0.020093830302357674, -0.008266357704997063, 0.07205309718847275, -0.08323013782501221, 0.000984611688181758, 0.03335424140095711, -0.029326751828193665, 0.03772014379501343, 0.009054121561348438, 0.06526707857847214, -0.025128647685050964, -0.02799651399254799, 0.05030035227537155, -0.006409610155969858, 0.006113482639193535, -0.023092418909072876, 0.034454744309186935, 0.013408164493739605, -0.017473764717578888, -0.031243586912751198, 0.03468030318617821, 0.003875902621075511, -0.07176929712295532, 0.009555959142744541, -0.04518919810652733, -0.0012582286726683378, -0.02391684055328369, -0.03677450865507126, -0.022498931735754013, 0.007628349121659994, 0.005078847054392099, -0.03052770532667637, -0.017451932653784752, 0.022016916424036026, 0.0022409679368138313, 0.027049120515584946, -0.029115615412592888, 0.014280630275607109, 0.04786651208996773, 0.004839290399104357, -0.00027537590358406305, 0.014293836429715157, -0.018804460763931274, 0.08318626880645752, 0.03968362137675285, -0.018574098125100136, -0.00906510092318058, -0.03109736368060112, -0.07550416886806488, 0.012706107459962368, -0.018197473138570786, 0.012814562767744064, -0.011795408092439175, -0.012649375014007092, -0.008847317658364773, -0.03823036700487137, -0.037896666675806046, -0.027831343933939934, -0.0029609508346766233, -0.012834933586418629, -0.048240724951028824, 0.03383106738328934, 0.016642138361930847, 0.03912949934601784, -0.06612611562013626, -0.0755065381526947, -0.0662422925233841, 0.04461014270782471, -0.007287071086466312, -0.03128625452518463, -0.00613235542550683, 0.03162446245551109, 0.02582944929599762, 0.014173564501106739, -0.020902367308735847, -0.015123449265956879, -0.028805652633309364, 0.003126519965007901, 0.02464974671602249, -0.023508938029408455, 0.002371480455622077, -0.004358425736427307, -0.022694246843457222, 0.004687533248215914, 0.0071828062646090984, -0.0328206941485405, -0.06906614452600479, 0.028847448527812958, 0.01949232444167137, -0.06397179514169693, 0.014178839512169361, -0.02342826873064041, -0.029171576723456383, 0.0654691755771637, -0.007628267630934715, -0.04259704798460007, -0.027929743751883507, -0.03281397372484207, -0.07744726538658142, 0.04944213479757309, -0.10532320290803909, 0.01864009164273739, -0.11103657633066177, -0.0009490032680332661, -0.05272367596626282, -0.023499317467212677, -0.08286543935537338, 0.022493701428174973, 0.054035212844610214, -0.03546225279569626, 0.022841349244117737, -0.020918885245919228, 0.01572534441947937, -0.0028781117871403694, -0.05289721116423607, 0.020483199506998062, -0.052916646003723145, 0.04305537790060043, -0.0021593538112938404, 0.07346950471401215, 0.025077832862734795, 0.0189216248691082, -0.018086794763803482, 0.05880950391292572, 0.02406248077750206, -0.0019414295675233006, 0.020785009488463402, -0.09058212488889694, -0.015965769067406654, -0.02808975987136364, -0.002345767803490162, -0.007282078731805086, 0.01307911891490221, 0.02886461466550827, 0.03133400157094002, -0.013235914520919323, 0.028085071593523026, 0.031825825572013855, -0.01149363536387682, -0.049601174890995026, 0.08339793980121613, 0.005623531993478537, 0.00899712648242712, -0.047910939902067184, -0.02312525548040867, 0.006884375587105751, 0.017631754279136658, -0.02596757933497429, 0.012668577954173088, 0.033638641238212585, 0.06527292728424072, -0.022699706256389618, -0.008766166865825653, -0.0016238351818174124, -0.007219393737614155, 0.052212685346603394, -0.08038291335105896, -0.010863379575312138, 0.02943316102027893, 0.004808931145817041, 0.011947402730584145, -0.01895204558968544, 0.0005591020453721285, 0.002685248153284192, -0.03375242277979851, 0.039630111306905746, 0.0025801188312470913, 0.0003271967580076307, -0.029098061844706535, 0.01970246061682701, 0.024860944598913193, 0.07895715534687042, 0.0027984557673335075, -0.09241224080324173, -0.012274940498173237, -0.001420358195900917, -0.07325121015310287, 0.0020709210075438023, 0.03186861425638199, -0.004592281300574541, 0.009516391903162003, -0.02649470418691635, 0.1194513663649559, -0.06271858513355255, 0.0244598388671875, -0.008720234036445618, -0.016850097104907036, 0.0022406058851629496, 0.04492678493261337, 0.029608596116304398, -0.010358477011322975, 0.06458061188459396, -0.011375079862773418, 0.027281945571303368, 0.026977425441145897, 0.0002983447047881782, 0.0022105034440755844, 0.03035282902419567, -0.0887354165315628, 0.026569824665784836, -0.012239317409694195, -0.03052319586277008, -0.0011565977474674582, 0.035126376897096634, -0.012919021770358086, 0.04634983837604523, -0.0032808887772262096, -0.02431025356054306, 0.03050963021814823, 0.036734528839588165, 0.0340995267033577, 0.03861783817410469, -0.021886086091399193, 0.010406753979623318, -0.011804656125605106, 0.07431964576244354, 0.029152875766158104, -0.03748985007405281, 0.0398012138903141, 0.06892003864049911, -0.023491177707910538, -0.024622498080134392, -0.006232163868844509, 0.03395649045705795, -0.02854849584400654, 0.02460159920156002, -0.07006806880235672, -0.028290104120969772, 0.01722113788127899, -0.005218458827584982, 0.015336769632995129, 0.06896880269050598, 0.012697800062596798, -0.005446743685752153, 0.04795892536640167, -0.028898946940898895, 0.05614053085446358, 0.00165919354185462, 0.002167809521779418, 0.08021370321512222, 0.012944221496582031, -0.01975875534117222, 0.06399604678153992, 0.006487736012786627, 0.0180831141769886, -0.03436427563428879, 0.009045123122632504, -0.009545131586492062, 0.021521959453821182, 0.027270250022411346, 0.0009329408057965338, 0.025512490421533585, -0.032981425523757935, 0.07631786912679672, -0.04723008722066879, -0.0005259111057966948, -0.004224197007715702, -0.04198897257447243, 0.0008310348493978381, 0.0017853586468845606, 0.07287606596946716, 0.02774207666516304, -0.03606622293591499, 0.005327143706381321, -0.024046320468187332, 0.005719941575080156, -0.03088179975748062, 0.03012167103588581, 0.0008938959217630327, -0.019376307725906372, -0.021418245509266853, 0.007708759047091007, 0.00862341932952404, -0.03955577313899994, 0.02498646453022957, 0.06427087634801865, 0.006755762733519077, -0.015858575701713562, -0.023900115862488747, 0.018243400380015373, 0.03133203089237213, 0.03724142163991928, 0.05653050169348717, 0.014243630692362785, -0.013850953429937363, -0.02043214999139309, 0.02028529718518257, 0.0450698547065258, -0.005071192979812622, 0.051660846918821335, 0.0011238999431952834, -0.08971481025218964, 0.023906249552965164, 0.06930700689554214, -0.012624049559235573, -0.014303240925073624, 0.08640982955694199, 0.011801064014434814, -0.10267116874456406, 0.01301330141723156, 0.0067197284661233425, -0.0007439990295097232, -0.001174167962744832, 0.018251799046993256, 0.0004240316047798842, -0.00937394704669714, 0.025276297703385353, -0.015060467645525932, -0.03181926906108856, 0.012844697572290897, -0.009249947965145111, -0.03598010540008545, 0.008038402535021305, -0.01404185127466917, -0.014198902063071728, 0.038280218839645386, -0.04425692558288574, -0.06214151531457901, -0.0640263706445694, -0.000601115869358182, 0.05550296977162361, -0.042019814252853394, 0.026628589257597923, 0.041480645537376404, -0.01870727725327015, 0.00533691281452775, 0.04223823919892311, -0.03675965964794159, 0.023335779085755348, 0.00967302918434143, 0.015140189789235592, -0.01766934245824814, -0.06298468261957169, -0.029771072790026665, 0.014519737102091312, 0.009873416274785995, 0.016891950741410255, 0.02255154959857464, -0.014083638787269592, -0.03710096329450607, 0.007112094666808844, 0.022781439125537872, 0.01798386685550213, -0.008758307434618473, -0.006145016755908728, 0.06082449480891228, 0.0017840055515989661, -0.0005946565652266145, -0.020742032676935196, 0.02007255144417286, 0.06901489943265915, -0.00958032812923193, -0.01132611557841301, 0.0038101044483482838, -0.007014111615717411, -0.0012746395077556372, 0.031289566308259964, -0.006520641501992941, 0.008000494912266731, -0.022863442078232765, 0.01295003667473793, 0.011762014590203762, -0.024780426174402237, -0.046798914670944214, 0.01817389577627182, 0.011570850387215614, -0.018795747309923172, 0.02787284180521965, 0.011013510636985302, -0.02390098012983799, 0.05200187489390373, 0.0483076311647892, 0.026392465457320213, 0.05144932121038437, -0.044122401624917984, -0.04323697090148926, 0.02980905957520008, -0.061367541551589966, 0.024975577369332314, -0.04777581989765167, -0.040183864533901215, 0.11073079705238342, -0.046591855585575104, 0.022644147276878357, 0.010370703414082527, -0.006849383935332298, 0.05296317860484123, -0.016744425520300865, 0.01684105582535267, -0.00790176447480917, -0.0640357956290245, -0.05670444294810295, -0.00431230291724205, 0.021564044058322906, 0.06619346141815186, 0.03749330714344978, -0.013060581870377064, 0.045510921627283096, 0.021636903285980225, -0.0011851638555526733, -0.012267595157027245, -0.06650494039058685, -0.02341298572719097, -0.020254695788025856, 0.08707056939601898, 0.03260407969355583, -0.00019849177624564618, -0.018585726618766785, 0.0330340601503849, -0.002430547960102558, 0.005140149965882301, -0.0572429783642292, 0.004046608228236437, 0.012601814232766628, 0.013820738531649113, 0.013911939226090908, 0.018623072654008865, -0.0443502739071846, -0.002139854244887829]}}, {'embeddings': {'values': [0.024067703634500504, -0.0580475851893425, -0.005275300703942776, -0.010721622966229916, 0.026267744600772858, 0.022675445303320885, 0.05015888437628746, -0.023009222000837326, -0.0009670802392065525, 0.0089834900572896, 0.04323103651404381, -0.03130669146776199, -0.008115801028907299, -0.03944068029522896, 0.0008949638577178121, -0.009187118150293827, -0.0006486974889412522, -0.03015446662902832, -0.012672358192503452, -0.010244405828416348, 0.004523328971117735, 0.015747562050819397, 0.007651606574654579, -0.013866329565644264, -0.00953111331909895, -0.014794960618019104, 0.01626945659518242, -0.007323223166167736, -0.043684497475624084, -0.012404166162014008, -0.054185520857572556, 0.044733550399541855, -0.060779690742492676, -0.017037823796272278, -0.012892307713627815, -0.02643047831952572, -0.011069901287555695, -0.025445785373449326, 0.00943901389837265, 0.006648078095167875, 0.022800961509346962, -0.009111498482525349, 0.006442991551011801, -0.06340522319078445, 0.0287962444126606, -0.01744454726576805, -0.0054734195582568645, 0.030026745051145554, -0.002269256394356489, -0.0844174176454544, 0.05544109642505646, -0.008295148611068726, 0.023502284660935402, -0.00644446536898613, -0.024518463760614395, -0.026744602248072624, 0.026386095210909843, 0.03364957123994827, -0.032647307962179184, -0.01755497045814991, 0.006598825566470623, -0.024494273588061333, -0.030924182385206223, 0.05648680031299591, -0.015807515010237694, -0.05691477283835411, -0.036220237612724304, 0.004782934207469225, 0.05832797288894653, -0.03584721311926842, 0.0022803901229053736, -0.01266518048942089, 0.03722378984093666, -0.011206366121768951, -0.044874805957078934, -0.09158742427825928, -0.007877967320382595, 0.07447291165590286, 0.04206458851695061, 0.03246220573782921, -0.00036885362351313233, 0.032369956374168396, -0.005250710994005203, -0.025145675987005234, -0.06431398540735245, 0.045625343918800354, -0.048410218209028244, -0.044038571417331696, -0.06145171821117401, 0.06889966875314713, 0.005879457574337721, 0.019966477528214455, -0.0012615162413567305, -0.09110824018716812, 0.021123088896274567, 0.032010745257139206, 0.008228663355112076, 0.03190968185663223, -0.009723511524498463, -0.009251830168068409, -0.020383227616548538, -0.00855277944356203, -0.021709896624088287, 0.02797558903694153, 0.039165642112493515, -0.03215567767620087, 0.03151785954833031, 0.08095002919435501, -0.051462847739458084, 0.03827868402004242, -0.04121798649430275, -0.044010523706674576, -0.003950795624405146, -0.0367656908929348, 0.02608274295926094, -0.034496113657951355, -0.003771584713831544, 0.025752952322363853, 0.04088328406214714, -0.041011035442352295, 0.01889043115079403, 0.004316260106861591, 0.0480310320854187, -0.010871302336454391, 0.015340294688940048, 0.07076968997716904, 0.012977908365428448, 0.02462649717926979, 0.04618483781814575, 0.05579277500510216, -0.016369909048080444, -0.02477988786995411, 0.024741847068071365, 0.050391651690006256, 0.06634730100631714, 0.04750729724764824, 0.030289432033896446, 0.0374370701611042, 0.019029030576348305, 0.015949197113513947, 0.014884999953210354, -0.0018379378598183393, -0.016569942235946655, 0.08203355967998505, -0.031875304877758026, -0.0249572042375803, -0.00347896758466959, -0.008247650228440762, 0.00301084341481328, -0.04434819892048836, -0.042203571647405624, -0.007844613865017891, -0.13539186120033264, 0.024544045329093933, 0.057171013206243515, -0.02689746767282486, -0.03537040203809738, 0.04000665247440338, 0.012657652609050274, 0.010542545467615128, 0.06096210330724716, 0.015794845297932625, 0.0017031645402312279, -0.022992273792624474, 0.0353643074631691, 0.03249300271272659, -0.0054207658395171165, 0.0025047326926141977, -0.04180792719125748, -0.026627562940120697, -0.029065752401947975, 0.002027614274993539, -0.06042700633406639, -0.04579523578286171, -0.07238440215587616, -0.07793247699737549, -0.031082339584827423, 0.007567391265183687, -0.004980995319783688, -0.02899637445807457, -0.008602207526564598, -0.055191971361637115, 0.005701596383005381, 0.01312083750963211, 0.03470602259039879, -0.024793513119220734, 0.06444508582353592, -0.06172214820981026, -0.033749714493751526, -0.008616290055215359, -0.028118181973695755, -0.013833429664373398, -0.037903834134340286, -0.057999469339847565, -0.025887753814458847, 0.00022784988686908036, -0.00531159620732069, 0.026786411181092262, 0.04364672303199768, 0.003351157531142235, 0.019933387637138367, 0.06980399787425995, 0.018428649753332138, 0.010539934039115906, 0.008013608865439892, -0.003106542630121112, 0.0655055046081543, -0.05035711079835892, -0.01440860889852047, 0.0034709773026406765, -0.02460673451423645, -0.011111640371382236, -0.030096078291535378, -0.022747356444597244, 0.012166806496679783, 0.019073601812124252, 0.04258043318986893, 0.010058829560875893, 0.010956671088933945, -0.026838155463337898, 0.0076634823344647884, -0.043549925088882446, -0.0044328803196549416, -0.02094087190926075, 0.02354004979133606, 0.033157795667648315, -0.004509864374995232, 0.043515827506780624, 0.022291382774710655, -0.032422080636024475, 0.03447238355875015, 0.07012289017438889, 0.05509009584784508, -0.02035893313586712, 0.02748970128595829, -0.05471349135041237, -0.016957949846982956, -0.00043263568659313023, 0.017587726935744286, -0.024092404171824455, -0.024828854948282242, 0.02503908798098564, 0.04737916961312294, 0.02824939414858818, -0.038586195558309555, -0.01828247494995594, 0.023438945412635803, 0.02425437606871128, -0.028218980878591537, 0.014221605844795704, -0.006986276712268591, -0.03335844352841377, 0.030888620764017105, 0.03754538297653198, -0.052287932485342026, 0.03767545521259308, -0.017671609297394753, -0.02061591111123562, 0.0031982287764549255, 0.04281257465481758, 0.060139674693346024, 0.025666160508990288, -0.02099277824163437, -0.03124607540667057, -0.04562303423881531, -0.025826862081885338, 0.049874790012836456, -0.08425337076187134, -0.03250114992260933, 0.020136501640081406, -0.044109538197517395, -0.05189087614417076, 0.02371368557214737, 0.009910537861287594, -0.0426337756216526, 0.046960100531578064, 0.0003233413735870272, 0.011569295078516006, 0.0380438007414341, -0.028598450124263763, 0.040164198726415634, 0.011160526424646378, -0.017006730660796165, -0.05205126851797104, 6.308349838946015e-05, 0.04249446094036102, -0.034535862505435944, -0.009380501694977283, 0.0395817756652832, -0.02543814294040203, -0.03197778761386871, 0.010739577002823353, -0.01643718220293522, -0.045026764273643494, -0.007815688848495483, 0.012735456228256226, -0.01254536397755146, -0.0076044765301048756, 0.030768683180212975, -0.030965203419327736, -0.025318237021565437, -0.05993357300758362, -0.02126247063279152, -0.03202567994594574, 0.03685764595866203, 0.03144608438014984, -0.02335626631975174, -0.04593599960207939, 0.012687877751886845, 0.03512968868017197, -0.01569291576743126, -0.009060549549758434, -0.026823634281754494, -0.014216537587344646, 0.06096310168504715, 0.012796789407730103, -0.03133434057235718, 0.015580191276967525, -0.06323474645614624, 0.08401110023260117, -0.013470706529915333, 0.05859237536787987, 0.008043095469474792, -0.011451379396021366, -0.021370137110352516, -0.001359561923891306, -0.022986311465501785, 0.04725639894604683, -0.023874202743172646, 0.014715734869241714, 0.03306172415614128, -0.05294668301939964, -0.015112938359379768, 0.03277990221977234, 0.006998020689934492, 0.03855200856924057, -0.07109161466360092, -0.0213564932346344, 0.010202051140367985, -0.06554768234491348, -0.00046059463056735694, 0.028813736513257027, -0.05428176373243332, -0.06729860603809357, 0.015917707234621048, -0.031019167974591255, -0.014156501740217209, -0.0372486375272274, 0.11063162982463837, -0.02426285110414028, 0.052600324153900146, 0.06761788576841354, -0.015538339503109455, 0.005729165859520435, -0.03819124400615692, -0.04754621163010597, 0.05016570910811424, 0.005038655363023281, 0.03743639960885048, -0.026878250762820244, -0.061952684074640274, 0.04905620962381363, -0.005298262927681208, -0.009035623632371426, 0.02061300165951252, 0.013039697892963886, -0.03443615883588791, -0.008438266813755035, 0.017201248556375504, -0.024964287877082825, 0.008187993429601192, -0.039436984807252884, 0.030841555446386337, -0.008764591999351978, -0.02841373160481453, -0.00835070013999939, -0.05046575888991356, -0.015952909365296364, 0.05775700882077217, -0.028859857469797134, -0.02126072719693184, 0.002281459979712963, 0.044525112956762314, 0.043299350887537, 0.010071288794279099, -0.03900466114282608, 0.06091448664665222, 0.0006426092004403472, -0.007011348381638527, 0.0015524070477113128, 0.022560039535164833, 0.019445132464170456, 0.06475866585969925, 0.0029513901099562645, 0.04300014302134514, 0.002649907022714615, -0.009051150642335415, -0.03353027626872063, 0.0639006644487381, -0.018776003271341324, -0.009512573480606079, -0.0015387637540698051, -0.04777110740542412, -0.011210699565708637, 0.011299037374556065, -0.01464055199176073, -0.021186798810958862, -0.04527496173977852, 0.0030234649311751127, 0.0009863259037956595, 0.02703115902841091, 0.03840188682079315, 0.04621001332998276, -0.06159297749400139, -0.045297734439373016, -0.04041644558310509, 0.03693947196006775, -0.022218238562345505, 0.006224350538104773, 0.04320960491895676, -0.007694807834923267, -0.006114901043474674, 0.015001168474555016, -0.07685914635658264, -0.044025968760252, -0.013780811801552773, 0.004147742409259081, -0.052279457449913025, -0.013575983233749866, 0.01359302643686533, 0.01292042899876833, 0.013393979519605637, -0.002875098492950201, 0.02234157733619213, -0.03125161677598953, -0.033073727041482925, 0.014804506674408913, 0.0003139835607726127, -0.0015552494442090392, -0.025063209235668182, 0.03347752243280411, -0.04638081043958664, 0.003985404968261719, 0.03764918074011803, -0.03496706485748291, -0.0115185072645545, 0.007418288383632898, -0.0685150995850563, 0.03493247553706169, -0.10991467535495758, -0.02624056302011013, -0.02575741894543171, -0.015339787118136883, -0.06516597419977188, 0.00982204545289278, -0.02077561803162098, -0.01524882297962904, 0.06964906305074692, -0.004595675505697727, -0.02340155467391014, 0.0009154285653494298, -0.03935753554105759, -0.010928773321211338, -0.13234961032867432, -0.020225973799824715, -0.061470527201890945, 0.023124489933252335, -0.04493790492415428, 0.05492415279150009, 0.07611283659934998, -0.0025062114000320435, -0.02775832638144493, 0.009679777547717094, 0.004647073335945606, -0.022219307720661163, 0.026088397949934006, -0.07999745011329651, 0.002052134368568659, -0.011698232963681221, -0.03206503391265869, 0.006377848330885172, 0.030402468517422676, 0.03982954099774361, -0.014054356142878532, -0.04982571676373482, -0.04552401974797249, 0.014799341559410095, -0.0015180464833974838, -0.02115136757493019, 0.0525834783911705, -0.03149509057402611, -0.010065550915896893, -0.024416446685791016, -0.03489721938967705, -0.00251982593908906, 0.014900305308401585, -0.014119393192231655, 0.06362336874008179, 0.053277838975191116, 0.05746428668498993, 0.003428947413340211, 0.00339787220582366, -0.012821631506085396, -0.035829417407512665, 0.047040123492479324, -0.0754275768995285, 0.030911488458514214, 0.029376396909356117, -0.0010483566438779235, -0.041238438338041306, -0.0220724456012249, 0.001482004183344543, 0.05896647274494171, -0.018668385222554207, 0.05490515008568764, -0.04508357122540474, -0.005385077092796564, -0.02379300817847252, 0.004199623595923185, -0.030977899208664894, 0.09060867875814438, 0.006083719898015261, -0.05903337523341179, 0.005871718283742666, 0.010081280022859573, -0.05048368498682976, -0.008577832952141762, 0.018270932137966156, -0.0038575311191380024, 0.0017959435936063528, -0.04395684599876404, 0.05459840968251228, -0.11841737478971481, -0.032957207411527634, 0.0012224256061017513, -0.035024967044591904, -0.02811899222433567, 0.006283983588218689, 0.07058902084827423, -0.049891114234924316, 0.04525603726506233, -0.06551635265350342, 0.010923379100859165, 0.0018756520003080368, 0.00566875422373414, 0.013374561443924904, 0.05896054953336716, -0.10098045319318771, 0.042032014578580856, -0.0064780935645103455, -0.028998136520385742, -0.023735135793685913, 0.02402021922171116, -0.01293631736189127, 0.04822046309709549, -0.01993493176996708, -0.04693756252527237, 0.032432813197374344, 0.028605377301573753, 0.02607852965593338, -0.032722100615501404, -0.03067370504140854, 0.009424751624464989, -0.0004170578613411635, 0.02235831692814827, -0.0019319821149110794, -0.04009535536170006, 0.008972997777163982, 0.07744482904672623, -0.04068233445286751, -0.020491745322942734, 0.016563942655920982, 0.029196912422776222, 0.03030000627040863, 0.07073395699262619, 0.016008544713258743, -0.03165765851736069, -0.03283398225903511, -0.02364104799926281, -0.015806980431079865, 0.03562179207801819, 0.011389349587261677, -0.02996719256043434, 0.0682101845741272, -0.017475271597504616, 0.04776569828391075, 0.034213028848171234, 0.01852700486779213, 0.029749838635325432, 0.021151194348931313, -0.043431755155324936, 0.05187550187110901, -0.04924833029508591, -0.03218361735343933, -0.00758392596617341, 0.003180946223437786, 0.005473288707435131, -0.015409095212817192, -0.006649510469287634, -0.015691831707954407, 0.012272666208446026, -0.04355214536190033, 0.07474443316459656, -0.02131466567516327, -0.023047875612974167, 0.043348900973796844, -0.014912085607647896, -0.014981490559875965, -0.004303829278796911, 0.03637233003973961, -0.019902396947145462, -0.010709715075790882, 0.053651366382837296, 0.0035339987371116877, -0.023685993626713753, -0.005962891969829798, 0.04210137203335762, -0.0028945785015821457, -0.04248996078968048, -0.019873011857271194, -0.018085068091750145, 0.029068903997540474, 0.015945639461278915, 0.02119639329612255, 0.05954345688223839, 0.005544149782508612, -0.020900659263134003, 0.001589674735441804, 0.012579781003296375, 0.03706124797463417, 0.04906849563121796, 0.03819027543067932, -0.005059352610260248, -0.004984725266695023, -0.03368845582008362, 0.047759514302015305, -0.03766855597496033, 0.0008104585576802492, 0.02593638002872467, 0.004262844566255808, -0.1005694568157196, 0.010239007882773876, 0.021741222590208054, -0.02220480889081955, 0.020739706233143806, 0.03585909679532051, 0.020274946466088295, -0.04678637906908989, -0.017449280247092247, -0.0014495658688247204, 0.0025964342057704926, -0.035658448934555054, 0.060071203857660294, -0.03125013783574104, -0.043210726231336594, -0.00987286027520895, -0.05203785374760628, -0.022545544430613518, 0.035559654235839844, -0.025716163218021393, -0.03338050842285156, 0.025577249005436897, -0.022433694452047348, 0.002495588967576623, 0.001611968269571662, -0.050041116774082184, -0.034411050379276276, -0.051410045474767685, -0.0814540833234787, 0.010492624714970589, -0.058673884719610214, 0.025322286412119865, 0.01927412860095501, -0.004441580735146999, 0.015528847463428974, 0.02425914816558361, -0.04265337064862251, 0.058651939034461975, 0.02324303798377514, 0.04274565726518631, -0.03067682310938835, -0.019048897549510002, -0.022431274875998497, 0.023980235680937767, -0.03470940887928009, 0.03306258097290993, 0.021263588219881058, -0.020805759355425835, -0.022079523652791977, -0.01648624800145626, -0.012652887962758541, -0.015193510800600052, -0.05399768054485321, -0.008907344192266464, 0.07180070877075195, 0.025694649666547775, -0.02005668729543686, -0.0035929284058511257, 0.027967598289251328, 0.06235868111252785, -0.01136062666773796, -0.04310857132077217, 0.01750783994793892, -0.03436291962862015, -0.02463475987315178, -0.002835816005244851, -0.008869558572769165, 0.03251221030950546, 0.0027920922730118036, 0.0057786195538938046, 0.04072611406445503, -0.04670322313904762, -0.03862250968813896, 0.015355957671999931, 0.044085271656513214, -0.026926584541797638, 0.014575794339179993, -0.023620305582880974, -0.05876188352704048, 0.06395658850669861, 0.029901647940278053, 0.02488689310848713, -0.018314199522137642, -0.03601248562335968, -0.02816404029726982, 0.041384901851415634, -0.0030730818398296833, 0.012453161180019379, -0.0460534505546093, -0.025796763598918915, 0.06660305708646774, -0.05379725620150566, 0.03810747712850571, 0.050596464425325394, -0.06136978790163994, 0.06192675605416298, -0.0013962574303150177, 0.042069755494594574, 0.0045494441874325275, -0.06302893161773682, -0.018866632133722305, -0.024775048717856407, 0.0472898930311203, 0.08242983371019363, -0.01686263643205166, -0.05801108479499817, 0.01827170141041279, -0.00935305841267109, -0.009799597784876823, -0.014483828097581863, -0.04156624898314476, -0.029586859047412872, 0.010851627215743065, 0.033203426748514175, 0.05868517979979515, -0.0178003441542387, -0.010377633385360241, 0.04000631719827652, -0.01545855961740017, 0.026347730308771133, -0.06482722610235214, 0.03459193557500839, -0.054116349667310715, 0.03717484697699547, 0.058794569224119186, 0.04927239194512367, -0.01736229471862316, 0.016630522906780243], 'statistics': {'token_count': 14.0, 'truncated': False}}}], deployed_model_id='', metadata={'billableCharacterCount': 55.0}, model_version_id='', model_resource_name='', explanations=None))\n",
            "\n",
            "\n"
          ]
        }
      ]
    }
  ],
  "metadata": {
    "kernelspec": {
      "display_name": "Python 3",
      "language": "python",
      "name": "python3"
    },
    "language_info": {
      "codemirror_mode": {
        "name": "ipython",
        "version": 3
      },
      "file_extension": ".py",
      "mimetype": "text/x-python",
      "name": "python",
      "nbconvert_exporter": "python",
      "pygments_lexer": "ipython3",
      "version": "3.10.10"
    },
    "colab": {
      "provenance": [],
      "name": "Basic Code Sample.ipynb"
    }
  },
  "nbformat": 4,
  "nbformat_minor": 5
}